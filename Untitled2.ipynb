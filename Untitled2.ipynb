{
 "cells": [
  {
   "cell_type": "code",
   "execution_count": 6,
   "id": "928f4b5f-32eb-41a5-ace2-e6d301a45b78",
   "metadata": {},
   "outputs": [
    {
     "name": "stdout",
     "output_type": "stream",
     "text": [
      "True\n",
      "False\n",
      "True\n",
      "False\n"
     ]
    }
   ],
   "source": [
    "#logical operators\n",
    "# and or not\n",
    "x=10\n",
    "y=20\n",
    "z=30\n",
    "condition1=x < y and y<z\n",
    "print(condition1)\n",
    "\n",
    "condition2=x<y and y>z\n",
    "print(condition2)\n",
    "\n",
    "condition3=x <y or y>z\n",
    "print(condition3)\n",
    "\n",
    "\n",
    "condition4=x>y or y>z\n",
    "print(condition4)"
   ]
  },
  {
   "cell_type": "code",
   "execution_count": 15,
   "id": "c4d03871-4fab-4752-a1f5-535575895be5",
   "metadata": {},
   "outputs": [
    {
     "name": "stdout",
     "output_type": "stream",
     "text": [
      "True\n",
      "False\n"
     ]
    }
   ],
   "source": [
    "#identities\n",
    "# is is used \n",
    "x=1,3,4\n",
    "y=1,3,4\n",
    "print(x==y)\n",
    "\n",
    "\n",
    "print(x  is y)  #location"
   ]
  },
  {
   "cell_type": "code",
   "execution_count": null,
   "id": "ee019b45-d9f3-4d33-bc0c-e6e17f6b3fc2",
   "metadata": {},
   "outputs": [],
   "source": []
  }
 ],
 "metadata": {
  "kernelspec": {
   "display_name": "Python 3 (ipykernel)",
   "language": "python",
   "name": "python3"
  },
  "language_info": {
   "codemirror_mode": {
    "name": "ipython",
    "version": 3
   },
   "file_extension": ".py",
   "mimetype": "text/x-python",
   "name": "python",
   "nbconvert_exporter": "python",
   "pygments_lexer": "ipython3",
   "version": "3.11.7"
  }
 },
 "nbformat": 4,
 "nbformat_minor": 5
}
