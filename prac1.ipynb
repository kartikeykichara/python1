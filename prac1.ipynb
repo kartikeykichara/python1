{
 "cells": [
  {
   "cell_type": "code",
   "execution_count": 1,
   "id": "7b0926f5-f1df-48fc-9c87-e16775dc0554",
   "metadata": {},
   "outputs": [
    {
     "data": {
      "text/plain": [
       "'hello'"
      ]
     },
     "execution_count": 1,
     "metadata": {},
     "output_type": "execute_result"
    }
   ],
   "source": [
    "#print\n",
    "a='hello'\n",
    "a"
   ]
  },
  {
   "cell_type": "code",
   "execution_count": 2,
   "id": "52db25b5-c2d8-42d9-87e3-3f9ea66a066a",
   "metadata": {},
   "outputs": [
    {
     "data": {
      "text/plain": [
       "34"
      ]
     },
     "execution_count": 2,
     "metadata": {},
     "output_type": "execute_result"
    }
   ],
   "source": [
    "#types of data types check\n",
    "b=34\n",
    "b"
   ]
  },
  {
   "cell_type": "code",
   "execution_count": 3,
   "id": "2bf1ccaa-b6b1-4843-8098-665f1071c341",
   "metadata": {},
   "outputs": [
    {
     "data": {
      "text/plain": [
       "'jaipur'"
      ]
     },
     "execution_count": 3,
     "metadata": {},
     "output_type": "execute_result"
    }
   ],
   "source": [
    "str='jaipur'\n",
    "str"
   ]
  },
  {
   "cell_type": "code",
   "execution_count": 4,
   "id": "d245b708-a977-42dd-bbb8-17b5a0d8ec26",
   "metadata": {},
   "outputs": [
    {
     "data": {
      "text/plain": [
       "int"
      ]
     },
     "execution_count": 4,
     "metadata": {},
     "output_type": "execute_result"
    }
   ],
   "source": [
    "a=10\n",
    "type(a)"
   ]
  },
  {
   "cell_type": "code",
   "execution_count": 5,
   "id": "f71bf2a2-a5ed-426b-b9cf-61e75c64f814",
   "metadata": {},
   "outputs": [
    {
     "data": {
      "text/plain": [
       "float"
      ]
     },
     "execution_count": 5,
     "metadata": {},
     "output_type": "execute_result"
    }
   ],
   "source": [
    "a=1.0\n",
    "type(a)"
   ]
  },
  {
   "cell_type": "code",
   "execution_count": 6,
   "id": "a0685f0b-0053-4ade-8e3e-8b492f32e001",
   "metadata": {},
   "outputs": [
    {
     "data": {
      "text/plain": [
       "str"
      ]
     },
     "execution_count": 6,
     "metadata": {},
     "output_type": "execute_result"
    }
   ],
   "source": [
    "str='jaipur'\n",
    "type(str)"
   ]
  },
  {
   "cell_type": "code",
   "execution_count": 9,
   "id": "ecab4695-bfb0-451e-8eb3-57b3d1454d69",
   "metadata": {},
   "outputs": [
    {
     "data": {
      "text/plain": [
       "bool"
      ]
     },
     "execution_count": 9,
     "metadata": {},
     "output_type": "execute_result"
    }
   ],
   "source": [
    "a=True\n",
    "type(a)"
   ]
  },
  {
   "cell_type": "code",
   "execution_count": 17,
   "id": "7feaf83d-f6bd-42de-8808-568ef8c306d3",
   "metadata": {},
   "outputs": [
    {
     "data": {
      "text/plain": [
       "'hello my age is 45 this is'"
      ]
     },
     "execution_count": 17,
     "metadata": {},
     "output_type": "execute_result"
    }
   ],
   "source": [
    "age=45\n",
    "(f\"hello my age is {age} this is\")"
   ]
  },
  {
   "cell_type": "raw",
   "id": "f6501d16-4f8f-478f-90e5-0e1237039670",
   "metadata": {},
   "source": [
    "print(\"this side is kartikey\")"
   ]
  },
  {
   "cell_type": "code",
   "execution_count": 19,
   "id": "db06f270-f035-4bfa-affe-fd9c960bcd5f",
   "metadata": {},
   "outputs": [
    {
     "name": "stdout",
     "output_type": "stream",
     "text": [
      "this side is kartikey  bhilwara is a nice city\n",
      "mlvtec is an engineering college\n"
     ]
    }
   ],
   "source": [
    "#new line character\n",
    "\n",
    "print(\"this side is kartikey\",end=\" \")\n",
    "print(\" bhilwara is a nice city\",end=\"\\n\")\n",
    "print(\"mlvtec is an engineering college\")"
   ]
  },
  {
   "cell_type": "code",
   "execution_count": 37,
   "id": "714df228-7705-4b97-a625-02da8df508ad",
   "metadata": {},
   "outputs": [
    {
     "ename": "TypeError",
     "evalue": "'str' object is not callable",
     "output_type": "error",
     "traceback": [
      "\u001b[1;31m---------------------------------------------------------------------------\u001b[0m",
      "\u001b[1;31mTypeError\u001b[0m                                 Traceback (most recent call last)",
      "Cell \u001b[1;32mIn[37], line 2\u001b[0m\n\u001b[0;32m      1\u001b[0m b\u001b[38;5;241m=\u001b[39m\u001b[38;5;241m34\u001b[39m\n\u001b[1;32m----> 2\u001b[0m \u001b[38;5;28mstr\u001b[39m(b)\n",
      "\u001b[1;31mTypeError\u001b[0m: 'str' object is not callable"
     ]
    }
   ],
   "source": [
    "\n",
    "b=34\n",
    "str(b)"
   ]
  },
  {
   "cell_type": "code",
   "execution_count": 39,
   "id": "9e898900-f6f3-4a53-9dbc-979e4c660222",
   "metadata": {},
   "outputs": [
    {
     "data": {
      "text/plain": [
       "3"
      ]
     },
     "execution_count": 39,
     "metadata": {},
     "output_type": "execute_result"
    }
   ],
   "source": [
    "c=3.4\n",
    "int(c)"
   ]
  },
  {
   "cell_type": "code",
   "execution_count": 42,
   "id": "d19a4f79-0ecc-4649-8ce3-196fcebf31f1",
   "metadata": {},
   "outputs": [
    {
     "data": {
      "text/plain": [
       "False"
      ]
     },
     "execution_count": 42,
     "metadata": {},
     "output_type": "execute_result"
    }
   ],
   "source": [
    "a=\"\"\n",
    "bool(a)\n"
   ]
  },
  {
   "cell_type": "code",
   "execution_count": 53,
   "id": "4aa75ad5-473d-4a8c-b94c-e20ebdc158fa",
   "metadata": {},
   "outputs": [
    {
     "data": {
      "text/plain": [
       "1035"
      ]
     },
     "execution_count": 53,
     "metadata": {},
     "output_type": "execute_result"
    }
   ],
   "source": [
    "#operators\n",
    "a=23\n",
    "b=45\n",
    "a+b\n",
    "a/b\n",
    "b%a\n",
    "a//b\n",
    "a**b\n",
    "a-b\n",
    "a*b"
   ]
  },
  {
   "cell_type": "code",
   "execution_count": 61,
   "id": "45398b68-b69c-487b-b7e6-beb83a8158d2",
   "metadata": {},
   "outputs": [
    {
     "data": {
      "text/plain": [
       "True"
      ]
     },
     "execution_count": 61,
     "metadata": {},
     "output_type": "execute_result"
    }
   ],
   "source": [
    "#comparison\n",
    "a=23\n",
    "b=34\n",
    "a==b\n",
    "a<=b\n",
    "a>=b\n",
    "a>b\n",
    "a<b\n",
    "a!=b"
   ]
  },
  {
   "cell_type": "code",
   "execution_count": 66,
   "id": "a81bb98e-a06b-449c-9032-dc28f5451daf",
   "metadata": {},
   "outputs": [
    {
     "name": "stdout",
     "output_type": "stream",
     "text": [
      "46\n",
      "44\n",
      "88\n",
      "44.0\n",
      "0.0\n",
      "0.0\n",
      "0.0\n"
     ]
    }
   ],
   "source": [
    "a=44\n",
    "a+=2\n",
    "print(a)\n",
    "a-=2\n",
    "print(a)\n",
    "a*=2\n",
    "print(a)\n",
    "a/=2\n",
    "print(a)\n",
    "a%=2\n",
    "print(a)\n",
    "a//=3\n",
    "print(a)\n",
    "a**=2\n",
    "print(a)"
   ]
  },
  {
   "cell_type": "code",
   "execution_count": null,
   "id": "012d39f6-0b84-446c-8932-114b0a1e9706",
   "metadata": {},
   "outputs": [],
   "source": []
  }
 ],
 "metadata": {
  "kernelspec": {
   "display_name": "Python 3 (ipykernel)",
   "language": "python",
   "name": "python3"
  },
  "language_info": {
   "codemirror_mode": {
    "name": "ipython",
    "version": 3
   },
   "file_extension": ".py",
   "mimetype": "text/x-python",
   "name": "python",
   "nbconvert_exporter": "python",
   "pygments_lexer": "ipython3",
   "version": "3.11.7"
  }
 },
 "nbformat": 4,
 "nbformat_minor": 5
}
