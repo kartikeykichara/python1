{
 "cells": [
  {
   "cell_type": "code",
   "execution_count": 44,
   "id": "80133a8a-0fa8-4ddb-bbba-9637c8204a8b",
   "metadata": {},
   "outputs": [
    {
     "name": "stdout",
     "output_type": "stream",
     "text": [
      "[1, 23, 45, 3, 6, 7, 8, 9]\n"
     ]
    }
   ],
   "source": [
    "#What does the + operator do when used with two lists?\n",
    "li=[1,23,45,3]\n",
    "li2=[6,7,8,9]\n",
    "print(li+li2)"
   ]
  },
  {
   "cell_type": "code",
   "execution_count": 45,
   "id": "a9dc7708-4f24-4809-9f61-303f1d5091bb",
   "metadata": {},
   "outputs": [
    {
     "data": {
      "text/plain": [
       "5"
      ]
     },
     "execution_count": 45,
     "metadata": {},
     "output_type": "execute_result"
    }
   ],
   "source": [
    "#find the length of tuple\n",
    "tuple=(1,2,5,7,3)\n",
    "len(tuple)"
   ]
  },
  {
   "cell_type": "code",
   "execution_count": 46,
   "id": "278c8653-e788-459d-b4db-554fad77ba40",
   "metadata": {},
   "outputs": [
    {
     "name": "stdout",
     "output_type": "stream",
     "text": [
      "[454, 6, 2, 9, 29, 7, 454, 6, 2, 9, 29, 7, 454, 6, 2, 9, 29, 7]\n"
     ]
    }
   ],
   "source": [
    "#What does the * operator do when used with a list?\n",
    "li3=[454,6,2,9,29,7]\n",
    "# li4=[59,9,6,65,7,86]\n",
    "print(li3*3)"
   ]
  },
  {
   "cell_type": "code",
   "execution_count": 7,
   "id": "2414e7e8-9326-4fa2-9280-5386fe7ba16f",
   "metadata": {},
   "outputs": [],
   "source": [
    "#How do you add an element to the end of a list?\n",
    "li.append(45)"
   ]
  },
  {
   "cell_type": "code",
   "execution_count": 8,
   "id": "12d2249c-66fc-489d-9c73-ac9e8fd2dc79",
   "metadata": {},
   "outputs": [
    {
     "name": "stdout",
     "output_type": "stream",
     "text": [
      "[1, 23, 45, 3, 45]\n"
     ]
    }
   ],
   "source": [
    "print(li)"
   ]
  },
  {
   "cell_type": "code",
   "execution_count": 9,
   "id": "42eacfb6-3be2-4fe1-9d0e-28a65b651655",
   "metadata": {},
   "outputs": [
    {
     "name": "stdout",
     "output_type": "stream",
     "text": [
      "[1, 23, 45, 45]\n"
     ]
    }
   ],
   "source": [
    "#What method can you use to remove an element from a list by its value?\n",
    "li.remove(3)\n",
    "print(li)"
   ]
  },
  {
   "cell_type": "code",
   "execution_count": 15,
   "id": "cac3c373-07b1-413c-b051-e2a12e99a90a",
   "metadata": {},
   "outputs": [
    {
     "name": "stdout",
     "output_type": "stream",
     "text": [
      "5\n"
     ]
    }
   ],
   "source": [
    "#How do you access the third element of a tuple?\n",
    "tuple1=(1,2,5,78,9)\n",
    "print(tuple1[2])"
   ]
  },
  {
   "cell_type": "code",
   "execution_count": 16,
   "id": "25b474b6-8535-49df-9be9-720a9523e829",
   "metadata": {},
   "outputs": [],
   "source": [
    "#What method can you use to sort a list in ascending order?\n",
    "li4=[12,3,73,3,8,1,2,5]\n",
    "li4.sort()\n"
   ]
  },
  {
   "cell_type": "code",
   "execution_count": 17,
   "id": "689d08a8-b51e-45f3-8f22-0b765fb52d4e",
   "metadata": {},
   "outputs": [
    {
     "data": {
      "text/plain": [
       "[1, 2, 3, 3, 5, 8, 12, 73]"
      ]
     },
     "execution_count": 17,
     "metadata": {},
     "output_type": "execute_result"
    }
   ],
   "source": [
    "li4"
   ]
  },
  {
   "cell_type": "code",
   "execution_count": 18,
   "id": "cabf9d22-7e66-416e-a660-8936e270b53b",
   "metadata": {},
   "outputs": [
    {
     "name": "stdout",
     "output_type": "stream",
     "text": [
      "True\n"
     ]
    }
   ],
   "source": [
    "#How can you check if a specific item exists in a tuple?\n",
    "tuple=(3,4,5,6,67,22,5)\n",
    "print(4 in tuple)"
   ]
  },
  {
   "cell_type": "code",
   "execution_count": 19,
   "id": "bb339880-a7c2-4104-9e97-550f82cb6918",
   "metadata": {},
   "outputs": [],
   "source": [
    "#What method would you use to remove all occurrences of a specific item from a list?\n",
    "li4.clear()\n",
    "\n"
   ]
  },
  {
   "cell_type": "code",
   "execution_count": 20,
   "id": "43e76a84-d4e5-4355-92e1-05097b7f4bba",
   "metadata": {},
   "outputs": [
    {
     "data": {
      "text/plain": [
       "[]"
      ]
     },
     "execution_count": 20,
     "metadata": {},
     "output_type": "execute_result"
    }
   ],
   "source": [
    "li4"
   ]
  },
  {
   "cell_type": "code",
   "execution_count": 2,
   "id": "d16f9674-8086-437f-9007-3921ce7c114a",
   "metadata": {},
   "outputs": [
    {
     "name": "stdout",
     "output_type": "stream",
     "text": [
      "(2, 34, 63, 6, 3, 1, 2, 45, 6, 5, 7, 31, 45, 3)\n"
     ]
    }
   ],
   "source": [
    "#How can you concatenate two tuples?\n",
    "tuple2=(2,34,63,6,3,1)\n",
    "tuple3=(2,45,6,5,7,31,45,3)\n",
    "print(tuple2 + tuple3)"
   ]
  },
  {
   "cell_type": "code",
   "execution_count": 3,
   "id": "c4f32651-1872-45e5-a792-e62c48f104c2",
   "metadata": {},
   "outputs": [
    {
     "data": {
      "text/plain": [
       "1"
      ]
     },
     "execution_count": 3,
     "metadata": {},
     "output_type": "execute_result"
    }
   ],
   "source": [
    "#What method can you use to get the index of a specific item in a list?\n",
    "list1=[2,4,2,4,2]\n",
    "list1.index(4)\n"
   ]
  },
  {
   "cell_type": "code",
   "execution_count": 27,
   "id": "0bff19bd-e2cb-4644-b61c-f5ea3a3bcdb8",
   "metadata": {},
   "outputs": [
    {
     "name": "stdout",
     "output_type": "stream",
     "text": [
      "(1,)\n"
     ]
    }
   ],
   "source": [
    "#How do you create a tuple with a single element?\n",
    "tu=(1,)\n",
    "print(tu)"
   ]
  },
  {
   "cell_type": "code",
   "execution_count": 4,
   "id": "793191e3-dce1-4eea-bb2a-28ae4894e244",
   "metadata": {},
   "outputs": [
    {
     "data": {
      "text/plain": [
       "[6, 5, 3, 2]"
      ]
     },
     "execution_count": 4,
     "metadata": {},
     "output_type": "execute_result"
    }
   ],
   "source": [
    "#How can you reverse the elements of a list?\n",
    "\n",
    "list2=[2,3,5,6]\n",
    "list2.reverse()\n",
    "list2"
   ]
  },
  {
   "cell_type": "code",
   "execution_count": 28,
   "id": "73f1456b-6f12-422c-8aef-613de2da918d",
   "metadata": {},
   "outputs": [
    {
     "name": "stdout",
     "output_type": "stream",
     "text": [
      "True\n",
      "True\n"
     ]
    }
   ],
   "source": [
    "#What does the in operator do when used with a list or tuple?\n",
    "list2=[2,3,5,6]\n",
    "print(3 in list2)\n",
    "\n",
    "tuple=(3,4,5,6,67,22,5)\n",
    "print(4 in tuple)\n"
   ]
  },
  {
   "cell_type": "code",
   "execution_count": 5,
   "id": "0a84d0b4-6c77-4083-b4a3-d48ccbdb3cab",
   "metadata": {},
   "outputs": [
    {
     "data": {
      "text/plain": [
       "3"
      ]
     },
     "execution_count": 5,
     "metadata": {},
     "output_type": "execute_result"
    }
   ],
   "source": [
    "#How do you find the number of occurrences of a specific element in a list?\n",
    "list2=[2,3,5,6,2,4,6,2]\n",
    "list2.count(2)\n"
   ]
  },
  {
   "cell_type": "code",
   "execution_count": 9,
   "id": "fcb7453c-26f4-4899-93a9-ff934536c280",
   "metadata": {},
   "outputs": [
    {
     "data": {
      "text/plain": [
       "[2, 3, 5]"
      ]
     },
     "execution_count": 9,
     "metadata": {},
     "output_type": "execute_result"
    }
   ],
   "source": [
    "#How can you slice a list to get the first three elements?\n",
    "list2=[2,3,5,6,2,4,6,2]\n",
    "list2[0:3:1]"
   ]
  },
  {
   "cell_type": "code",
   "execution_count": 10,
   "id": "a7180a12-db49-4d17-a9a5-32bbedef121f",
   "metadata": {},
   "outputs": [],
   "source": [
    "#What is the difference between the append and extend methods for a list?\n",
    "# append is used to add a single element at the end of the list\n",
    "# extend is used to add multiple items or a new list to the existing list."
   ]
  },
  {
   "cell_type": "code",
   "execution_count": 11,
   "id": "2e4709b0-da9f-415e-8862-c42a7b5eece0",
   "metadata": {},
   "outputs": [
    {
     "data": {
      "text/plain": [
       "[(1, 3), (3, 6), (6, 7)]"
      ]
     },
     "execution_count": 11,
     "metadata": {},
     "output_type": "execute_result"
    }
   ],
   "source": [
    "#How can you create a list of tuples where each tuple contains two elements?\n",
    "\n",
    "list5=[(1,3),(3,6),(6,7)]\n",
    "list5"
   ]
  },
  {
   "cell_type": "code",
   "execution_count": 12,
   "id": "cbf8e651-8820-4455-9070-aff116fa6b08",
   "metadata": {},
   "outputs": [],
   "source": [
    "#What method can you use to remove an element from a tuple (since tuples are immutable)?\n",
    "#You cannot change, add, or remove elements in a tuple, but you can perform other operations that do not modify the original tuple\n"
   ]
  },
  {
   "cell_type": "code",
   "execution_count": 13,
   "id": "e5e2cb67-172a-44e0-ae51-dcc79f1a805e",
   "metadata": {},
   "outputs": [
    {
     "data": {
      "text/plain": [
       "['hello', 'kk', 'ajay', 'apple', 'banana', 'dog']"
      ]
     },
     "execution_count": 13,
     "metadata": {},
     "output_type": "execute_result"
    }
   ],
   "source": [
    "#How do you join a list of strings into a single string with spaces in between?\n",
    "li3=['hello','kk','ajay']\n",
    "li4=['apple','banana','dog']\n",
    "list=li3+li4\n",
    "list"
   ]
  },
  {
   "cell_type": "code",
   "execution_count": 15,
   "id": "55a7fd61-3039-4b5b-ba69-dcd692d7178c",
   "metadata": {},
   "outputs": [],
   "source": [
    "#What is the syntax for an if statement in Python?\n",
    "# if (condition):\n",
    "#     code\n",
    "# elif(condition):\n",
    "#     code\n",
    "# else:\n",
    "#     code"
   ]
  },
  {
   "cell_type": "code",
   "execution_count": 21,
   "id": "8eec3b1d-0cfc-4422-adeb-d68720a5fdd9",
   "metadata": {},
   "outputs": [
    {
     "name": "stdin",
     "output_type": "stream",
     "text": [
      "enter your number 7.5\n"
     ]
    },
    {
     "name": "stdout",
     "output_type": "stream",
     "text": [
      "positive\n"
     ]
    }
   ],
   "source": [
    "#How do you write an if-else statement to check if a number is positive or negative?\n",
    "num=float(input(\"enter your number\"))\n",
    "if(num>0):\n",
    "        print(\"positive\")\n",
    "else:\n",
    "        print(\"negative\")"
   ]
  },
  {
   "cell_type": "code",
   "execution_count": 22,
   "id": "039d7647-cd0b-4748-9e50-2c26774b7558",
   "metadata": {},
   "outputs": [],
   "source": [
    "#What is the purpose of the elif keyword?\n",
    "\n",
    "#to pass multiple conditions in program\n"
   ]
  },
  {
   "cell_type": "code",
   "execution_count": 24,
   "id": "a8f2a6f7-a60d-4cdf-8956-a20311a774a0",
   "metadata": {},
   "outputs": [
    {
     "name": "stdin",
     "output_type": "stream",
     "text": [
      "enter number 15\n"
     ]
    },
    {
     "name": "stdout",
     "output_type": "stream",
     "text": [
      "x between 10 and 20\n"
     ]
    }
   ],
   "source": [
    "#How do you check if a variable x is between 10 and 20 (inclusive)?\n",
    "\n",
    "x=int(input(\"enter number\"))\n",
    "if(x>=10 and x<=20):\n",
    "      print(\"x between 10 and 20\")\n",
    "else:\n",
    "      print(\"input is not valid\")"
   ]
  },
  {
   "cell_type": "code",
   "execution_count": 25,
   "id": "042f03f0-d822-422d-ac39-f927fa45746f",
   "metadata": {},
   "outputs": [],
   "source": [
    "#What is the result of an if statement when the condition is False?\n",
    "\n",
    "# then it will execute elif or else part"
   ]
  },
  {
   "cell_type": "code",
   "execution_count": 26,
   "id": "2ef00677-5660-4892-8ad7-c36493187a4b",
   "metadata": {},
   "outputs": [
    {
     "name": "stdin",
     "output_type": "stream",
     "text": [
      "enter your marks 45\n",
      "enter your marks 45\n",
      "enter your marks 60\n"
     ]
    },
    {
     "name": "stdout",
     "output_type": "stream",
     "text": [
      "50.0\n",
      "D grade\n"
     ]
    }
   ],
   "source": [
    "#How can you combine multiple conditions in a single if statement using and?\n",
    "maths=int(input(\"enter your marks\"))\n",
    "english=int(input(\"enter your marks\"))\n",
    "science=int(input(\"enter your marks\"))\n",
    "average=maths+english+science\n",
    "percent=(average/300)*100\n",
    "print(percent)\n",
    "if(percent>80 and percent<=100):\n",
    "    print(\"A grade\")\n",
    "elif(percent>60 and percent<=80):\n",
    "    print(\"B garde\")\n",
    "elif(percent>50 and percent<=60):\n",
    "    print(\"C grade\")\n",
    "elif(percent>45 and percent<=50):\n",
    "    print(\"D grade\")\n",
    "elif(percent>25 and percent<=45):\n",
    "    print(\"E grade\")\n",
    "elif(percent<25):\n",
    "    print(\"F garde\")\n",
    "else:\n",
    "    print(\"input is not valid\")"
   ]
  },
  {
   "cell_type": "code",
   "execution_count": 27,
   "id": "70723d2f-40b1-4b55-b8ec-5309f5489d4f",
   "metadata": {},
   "outputs": [],
   "source": [
    "#What will be the output of an if-else statement if the condition is true?\n",
    "# it will execute the if part and give the result"
   ]
  },
  {
   "cell_type": "code",
   "execution_count": 28,
   "id": "958c83a5-adb5-4adc-9fb3-bd146430d31a",
   "metadata": {},
   "outputs": [
    {
     "name": "stdin",
     "output_type": "stream",
     "text": [
      "enter any character a\n"
     ]
    },
    {
     "name": "stdout",
     "output_type": "stream",
     "text": [
      "vowel\n"
     ]
    }
   ],
   "source": [
    "#What will be the output of an if-else statement if the condition is true?\n",
    "\n",
    "a=input('enter any character')\n",
    "if(a=='a' or a=='e' or a=='i' or a=='o' or a=='u'):\n",
    "    print(\"vowel\")\n",
    "else:\n",
    "    print(\"consonant\")"
   ]
  },
  {
   "cell_type": "code",
   "execution_count": 29,
   "id": "49d008c7-b69d-457b-b727-1f01862e0bad",
   "metadata": {},
   "outputs": [],
   "source": [
    "#What is the difference between == and is in conditional statements?\n",
    "#== it means equal\n",
    "# is indicates the location\n"
   ]
  },
  {
   "cell_type": "code",
   "execution_count": 30,
   "id": "7338359d-e5e5-4c88-8eb6-9d6c28ebe657",
   "metadata": {},
   "outputs": [
    {
     "data": {
      "text/plain": [
       "False"
      ]
     },
     "execution_count": 30,
     "metadata": {},
     "output_type": "execute_result"
    }
   ],
   "source": [
    "#How can you check if a string s is empty?\n",
    "a=\"\"\n",
    "bool(a)\n",
    "#false means string is empty"
   ]
  },
  {
   "cell_type": "code",
   "execution_count": 33,
   "id": "0077f4df-095a-4ddb-bc1c-73bb160d1498",
   "metadata": {},
   "outputs": [
    {
     "name": "stdin",
     "output_type": "stream",
     "text": [
      "enter number 5\n"
     ]
    },
    {
     "name": "stdout",
     "output_type": "stream",
     "text": [
      "x is less than 10\n"
     ]
    }
   ],
   "source": [
    "#What is the result of the following condition: if not (x > 10)?\n",
    "\n",
    "x=int(input(\"enter number\"))\n",
    "if not(x>10):\n",
    "      print(\"x is less than 10\")\n",
    "else:\n",
    "      print(\"input is not valid\")\n"
   ]
  },
  {
   "cell_type": "code",
   "execution_count": 35,
   "id": "4bd43ed5-1fcc-4c5c-8e5a-0cbb17b72754",
   "metadata": {},
   "outputs": [
    {
     "name": "stdin",
     "output_type": "stream",
     "text": [
      "enter the number 44\n"
     ]
    },
    {
     "name": "stdout",
     "output_type": "stream",
     "text": [
      "even\n"
     ]
    }
   ],
   "source": [
    "#How do you write a conditional statement to execute code only if a number is even?\n",
    "\n",
    "x=int(input(\"enter the number\"))\n",
    "if(x%2==0):\n",
    "      print(\"even\")\n",
    "else:\n",
    "      print(\"odd\")"
   ]
  },
  {
   "cell_type": "code",
   "execution_count": 36,
   "id": "0ca97b38-2f9b-4b5a-9ef4-dd0a99cb2e11",
   "metadata": {},
   "outputs": [
    {
     "name": "stdout",
     "output_type": "stream",
     "text": [
      "empty\n"
     ]
    }
   ],
   "source": [
    "#How can you use an if statement to determine if a list is empty?\n",
    "\n",
    "list=[]\n",
    "if(len(list)==0):\n",
    "    print(\"empty\")\n",
    "else:\n",
    "    print(\"not\")"
   ]
  },
  {
   "cell_type": "code",
   "execution_count": 37,
   "id": "3eb31895-4b90-44bc-88df-4bf5464280e5",
   "metadata": {},
   "outputs": [],
   "source": [
    "#What does the pass statement do in an if block?\n",
    "#nothing is printed but you avoid getting an error when empty code is not\n",
    "# allowed. Empty code is not allowed in loops, function definitions, class\n",
    "# definitions,\n",
    "#  or in if statements."
   ]
  },
  {
   "cell_type": "code",
   "execution_count": 39,
   "id": "91fa3b26-a13a-4c3f-973d-00ae86f9bd5f",
   "metadata": {},
   "outputs": [
    {
     "name": "stdin",
     "output_type": "stream",
     "text": [
      "enter any character 40\n"
     ]
    },
    {
     "name": "stdout",
     "output_type": "stream",
     "text": [
      "input is not valid\n"
     ]
    }
   ],
   "source": [
    "#How can you nest if statements inside each other?\n",
    "a=input(\"enter any character\")\n",
    "if(a=='a'):\n",
    "    num=int(input(\"enter number\"))\n",
    "    if(num>50):\n",
    "        print(\"greater than 50\")\n",
    "    else:\n",
    "        print(\"number less than 60\")\n",
    "else:\n",
    "    print(\"input is not valid\")"
   ]
  },
  {
   "cell_type": "code",
   "execution_count": 40,
   "id": "34e13fce-293a-4b99-bc71-65066f958ce5",
   "metadata": {},
   "outputs": [],
   "source": [
    "#What will be the result if no conditions in an if-elif-else chain are met?\n",
    "#---->if else is not presentr nothing will print\n",
    "#---->if else is present else part will print"
   ]
  },
  {
   "cell_type": "code",
   "execution_count": 41,
   "id": "b9156df6-9b76-4159-876c-a8cb040369a0",
   "metadata": {},
   "outputs": [
    {
     "name": "stdin",
     "output_type": "stream",
     "text": [
      "enter number 45\n"
     ]
    },
    {
     "name": "stdout",
     "output_type": "stream",
     "text": [
      "divisible by both\n"
     ]
    }
   ],
   "source": [
    "#How do you check if a number is divisible by both 3 and 5 using an if statement?\n",
    "\n",
    "a=int(input(\"enter number\"))\n",
    "if(a%3==0 and a%5==0):\n",
    "    print(\"divisible by both\")\n",
    "else:\n",
    "    print(\"not divisible\")"
   ]
  },
  {
   "cell_type": "code",
   "execution_count": 43,
   "id": "a015a7a9-2df6-410a-bf0a-fc71df5cbffb",
   "metadata": {},
   "outputs": [
    {
     "name": "stdout",
     "output_type": "stream",
     "text": [
      "x is small\n"
     ]
    }
   ],
   "source": [
    "#What is the result of the following if statement: if x &gt; 5: print(&quot;x is large&quot;) else: print(&quot;x is small&quot;)\n",
    "#where x is 3?\n",
    "\n",
    "x=3\n",
    "if(x>5):\n",
    "    print(\"x is large\")\n",
    "else:\n",
    "    print(\"x is small\")"
   ]
  },
  {
   "cell_type": "code",
   "execution_count": null,
   "id": "7475f0f5-2225-4625-bfb6-f55a40fa13d5",
   "metadata": {},
   "outputs": [],
   "source": []
  }
 ],
 "metadata": {
  "kernelspec": {
   "display_name": "Python 3 (ipykernel)",
   "language": "python",
   "name": "python3"
  },
  "language_info": {
   "codemirror_mode": {
    "name": "ipython",
    "version": 3
   },
   "file_extension": ".py",
   "mimetype": "text/x-python",
   "name": "python",
   "nbconvert_exporter": "python",
   "pygments_lexer": "ipython3",
   "version": "3.11.7"
  }
 },
 "nbformat": 4,
 "nbformat_minor": 5
}
