{
 "cells": [
  {
   "cell_type": "code",
   "execution_count": 3,
   "id": "382600a0-fb36-4ceb-b48c-89fe2f038d40",
   "metadata": {},
   "outputs": [
    {
     "data": {
      "text/plain": [
       "30"
      ]
     },
     "execution_count": 3,
     "metadata": {},
     "output_type": "execute_result"
    }
   ],
   "source": [
    "#3. What is the result of my_list[2] if my_list = [10, 20, 30, 40]?\n",
    "mylist = [10, 20, 30, 40]\n",
    "mylist[2]"
   ]
  },
  {
   "cell_type": "code",
   "execution_count": 4,
   "id": "a1b66668-f493-4972-ab0b-4078b205c5e5",
   "metadata": {},
   "outputs": [
    {
     "ename": "IndexError",
     "evalue": "list index out of range",
     "output_type": "error",
     "traceback": [
      "\u001b[1;31m---------------------------------------------------------------------------\u001b[0m",
      "\u001b[1;31mIndexError\u001b[0m                                Traceback (most recent call last)",
      "Cell \u001b[1;32mIn[4], line 1\u001b[0m\n\u001b[1;32m----> 1\u001b[0m mylist[\u001b[38;5;241m5\u001b[39m]\n",
      "\u001b[1;31mIndexError\u001b[0m: list index out of range"
     ]
    }
   ],
   "source": [
    "mylist[5]"
   ]
  },
  {
   "cell_type": "code",
   "execution_count": 5,
   "id": "cd0bfa6e-38ee-4271-91d2-7acce1bd6679",
   "metadata": {},
   "outputs": [
    {
     "data": {
      "text/plain": [
       "40"
      ]
     },
     "execution_count": 5,
     "metadata": {},
     "output_type": "execute_result"
    }
   ],
   "source": [
    "mylist[3]"
   ]
  },
  {
   "cell_type": "code",
   "execution_count": 6,
   "id": "f82fa09c-74b9-4d27-9229-cb0a0a3d66f9",
   "metadata": {},
   "outputs": [
    {
     "data": {
      "text/plain": [
       "5"
      ]
     },
     "execution_count": 6,
     "metadata": {},
     "output_type": "execute_result"
    }
   ],
   "source": [
    "#5. What will my_list[-1] return if mylist = [1, 2, 3, 4, 5]?\n",
    "mylist = [1, 2, 3, 4, 5]\n",
    "mylist[-1]"
   ]
  },
  {
   "cell_type": "code",
   "execution_count": 7,
   "id": "b1799a13-b6f9-4c7c-948e-dc9d89324ca1",
   "metadata": {},
   "outputs": [
    {
     "data": {
      "text/plain": [
       "3"
      ]
     },
     "execution_count": 7,
     "metadata": {},
     "output_type": "execute_result"
    }
   ],
   "source": [
    "mylist[-3]"
   ]
  },
  {
   "cell_type": "code",
   "execution_count": 8,
   "id": "ad1349d8-a114-484f-95fa-320832079a78",
   "metadata": {},
   "outputs": [
    {
     "data": {
      "text/plain": [
       "1"
      ]
     },
     "execution_count": 8,
     "metadata": {},
     "output_type": "execute_result"
    }
   ],
   "source": [
    "mylist[-5]"
   ]
  },
  {
   "cell_type": "code",
   "execution_count": 9,
   "id": "abce8222-6a97-4587-aaa5-757a5e25e5f0",
   "metadata": {},
   "outputs": [
    {
     "data": {
      "text/plain": [
       "3"
      ]
     },
     "execution_count": 9,
     "metadata": {},
     "output_type": "execute_result"
    }
   ],
   "source": [
    "#2. How do you access the first element of a list?\n",
    "#by indexing\n",
    "li=[3,4,5,9,9,5]\n",
    "li[0]"
   ]
  },
  {
   "cell_type": "code",
   "execution_count": 10,
   "id": "771c7a7c-f2a7-4eb5-b0c0-c2620f5eae72",
   "metadata": {},
   "outputs": [
    {
     "data": {
      "text/plain": [
       "[30, 40]"
      ]
     },
     "execution_count": 10,
     "metadata": {},
     "output_type": "execute_result"
    }
   ],
   "source": [
    "#7. What does my_list[1:4] return for my_list = [10, 20, 30, 40, 50]?\n",
    "mylist = [10, 20, 30, 40, 50]\n",
    "my_list[2:6]"
   ]
  },
  {
   "cell_type": "code",
   "execution_count": 15,
   "id": "6b92524e-eb15-440a-9698-115c73bf7762",
   "metadata": {},
   "outputs": [
    {
     "data": {
      "text/plain": [
       "['a', 'b']"
      ]
     },
     "execution_count": 15,
     "metadata": {},
     "output_type": "execute_result"
    }
   ],
   "source": [
    "li1=['a','b','c','d']\n",
    "li1[:3]\n",
    "li1[:2]"
   ]
  },
  {
   "cell_type": "code",
   "execution_count": 16,
   "id": "cf6ce415-72bb-427b-9b32-576e42490ebc",
   "metadata": {},
   "outputs": [
    {
     "data": {
      "text/plain": [
       "[4, 5]"
      ]
     },
     "execution_count": 16,
     "metadata": {},
     "output_type": "execute_result"
    }
   ],
   "source": [
    "#10. What will my_list[2:] return if my_list = [1, 2, 3, 4, 5]?\n",
    "my_list = [1, 2, 3, 4, 5]\n",
    "my_list[3:]"
   ]
  },
  {
   "cell_type": "code",
   "execution_count": 7,
   "id": "5fdcf9eb-3660-4afb-a27c-cec40f70d43b",
   "metadata": {},
   "outputs": [
    {
     "data": {
      "text/plain": [
       "[]"
      ]
     },
     "execution_count": 7,
     "metadata": {},
     "output_type": "execute_result"
    }
   ],
   "source": [
    "li1=[12,3,5,7,4,8,2]\n",
    "li1[-1:-8:-1]\n",
    "li1[2:-3:2]\n",
    "li1[9:-4:-3]\n",
    "li1[-5:4:-1]\n",
    "li1[-3:-6:2]\n",
    "li1[3:-7:-4]\n",
    "li1[5:-2:3]"
   ]
  },
  {
   "cell_type": "code",
   "execution_count": 19,
   "id": "114b1a62-aeb9-42ae-bf88-3ce4b45af90a",
   "metadata": {},
   "outputs": [
    {
     "data": {
      "text/plain": [
       "3"
      ]
     },
     "execution_count": 19,
     "metadata": {},
     "output_type": "execute_result"
    }
   ],
   "source": [
    "#4. How can you access the last element of a list?\n",
    "li1=[12,3,5,7,4,8,3]\n",
    "li1[-1]"
   ]
  },
  {
   "cell_type": "code",
   "execution_count": 13,
   "id": "f302f2fe-186a-49f5-85d8-25b16d0c0061",
   "metadata": {},
   "outputs": [
    {
     "data": {
      "text/plain": [
       "[3]"
      ]
     },
     "execution_count": 13,
     "metadata": {},
     "output_type": "execute_result"
    }
   ],
   "source": [
    "#12. What does my_list[::-1] do if my_list = [1, 2, 3]?\n",
    "my_list = [1, 2, 3]\n",
    "my_list[::-1]\n",
    "my_list[::3]\n",
    "my_list[:6:2]\n",
    "my_list[2::2]"
   ]
  },
  {
   "cell_type": "code",
   "execution_count": 31,
   "id": "e1258759-d8e7-4cc6-a03d-7ffa39d06a10",
   "metadata": {},
   "outputs": [
    {
     "data": {
      "text/plain": [
       "[12, 5, 4, 3]"
      ]
     },
     "execution_count": 31,
     "metadata": {},
     "output_type": "execute_result"
    }
   ],
   "source": [
    "#13. How do you extract every second element from a list?\n",
    "li1=[12,3,5,7,4,8,3]\n",
    "li1[0:7:2]"
   ]
  },
  {
   "cell_type": "code",
   "execution_count": 32,
   "id": "a213760c-785e-4a7f-885f-bbcae35c4e25",
   "metadata": {},
   "outputs": [
    {
     "data": {
      "text/plain": [
       "[10, 30, 50]"
      ]
     },
     "execution_count": 32,
     "metadata": {},
     "output_type": "execute_result"
    }
   ],
   "source": [
    "#14. What will my_list[::2] return if my_list = [10, 20, 30, 40, 50]?\n",
    "my_list = [10, 20, 30, 40, 50]\n",
    "my_list[::2]"
   ]
  },
  {
   "cell_type": "code",
   "execution_count": 4,
   "id": "ee8b9135-e0b3-4210-8509-f3b4defe1cc8",
   "metadata": {},
   "outputs": [
    {
     "data": {
      "text/plain": [
       "[8]"
      ]
     },
     "execution_count": 4,
     "metadata": {},
     "output_type": "execute_result"
    }
   ],
   "source": [
    "#15. Can you slice a list with a negative step? If so, how?\n",
    "li1=[12,3,5,7,4,8,3]\n",
    "li1[-6:7:-2]\n",
    "li1[-4:5:3]\n",
    "li1[5:-2:-2]\n",
    "li1[6:-7:-3]\n",
    "li1[5:3:-4]"
   ]
  },
  {
   "cell_type": "code",
   "execution_count": 43,
   "id": "39156b3b-48af-4f1a-92d2-3413b9bbac39",
   "metadata": {},
   "outputs": [],
   "source": [
    "#List = [-999, 'G4G', 1706256, '^_^', 3.1496]\n",
    "#print(List[1:1:1])"
   ]
  },
  {
   "cell_type": "code",
   "execution_count": 44,
   "id": "1f158f0a-eb2b-4c79-9f05-2e4e21d1bdf1",
   "metadata": {},
   "outputs": [
    {
     "data": {
      "text/plain": [
       "[8, 7]"
      ]
     },
     "execution_count": 44,
     "metadata": {},
     "output_type": "execute_result"
    }
   ],
   "source": [
    "#16. What is the output of my_list[3:1:-1] if my_list = [5, 6, 7, 8, 9]?\n",
    "my_list = [5, 6, 7, 8, 9]\n",
    "my_list[3:1:-1]"
   ]
  },
  {
   "cell_type": "code",
   "execution_count": 46,
   "id": "ab24087a-f389-45e8-9661-1a77fbcbd484",
   "metadata": {},
   "outputs": [
    {
     "data": {
      "text/plain": [
       "[6, 7, 8]"
      ]
     },
     "execution_count": 46,
     "metadata": {},
     "output_type": "execute_result"
    }
   ],
   "source": [
    "#20. What does my_list[-3:] return if my_list = [4, 5, 6, 7, 8]?\n",
    "my_list = [4, 5, 6, 7, 8]\n",
    "my_list[-3:]"
   ]
  },
  {
   "cell_type": "code",
   "execution_count": 47,
   "id": "2032ceb7-48d6-49b2-a58e-013c48b999b4",
   "metadata": {},
   "outputs": [
    {
     "data": {
      "text/plain": [
       "[1, 4]"
      ]
     },
     "execution_count": 47,
     "metadata": {},
     "output_type": "execute_result"
    }
   ],
   "source": [
    "#22. What is the result of my_list[::3] for my_list = [1, 2, 3, 4, 5, 6]?\n",
    "my_list = [1, 2, 3, 4, 5, 6]\n",
    "my_list[::3]"
   ]
  },
  {
   "cell_type": "code",
   "execution_count": 49,
   "id": "856a41cf-5d38-4c49-8a1c-8e50a4a8de10",
   "metadata": {},
   "outputs": [
    {
     "data": {
      "text/plain": [
       "[2, 3, 4, 5]"
      ]
     },
     "execution_count": 49,
     "metadata": {},
     "output_type": "execute_result"
    }
   ],
   "source": [
    "#23. How can you use slicing to remove the first and last elements of a list?\n",
    "my_list = [1, 2, 3, 4, 5, 6]\n",
    "my_list[1:5]"
   ]
  },
  {
   "cell_type": "code",
   "execution_count": 50,
   "id": "e63b9e7e-d50a-4f73-9625-96a5a4e8b637",
   "metadata": {},
   "outputs": [
    {
     "data": {
      "text/plain": [
       "[20, 30, 40]"
      ]
     },
     "execution_count": 50,
     "metadata": {},
     "output_type": "execute_result"
    }
   ],
   "source": [
    "#24. What is the result of my_list[1:-1] if my_list = [10, 20, 30, 40, 50]?\n",
    "my_list = [10, 20, 30, 40, 50]\n",
    "my_list[1:-1]"
   ]
  },
  {
   "cell_type": "code",
   "execution_count": 52,
   "id": "7c33f626-f856-4d75-8b09-8082c9b24391",
   "metadata": {},
   "outputs": [
    {
     "data": {
      "text/plain": [
       "[]"
      ]
     },
     "execution_count": 52,
     "metadata": {},
     "output_type": "execute_result"
    }
   ],
   "source": [
    "#25. How can you check if a list is empty using slicing?\n",
    "my_list = [10, 20, 30, 40, 50]\n",
    "my_list[3:6:-1]"
   ]
  },
  {
   "cell_type": "code",
   "execution_count": 53,
   "id": "61925082-e810-4a57-9831-df10927887b4",
   "metadata": {},
   "outputs": [
    {
     "data": {
      "text/plain": [
       "[2, 3, 4]"
      ]
     },
     "execution_count": 53,
     "metadata": {},
     "output_type": "execute_result"
    }
   ],
   "source": [
    "#26. What does my_list[2:-2] return for my_list = [0, 1, 2, 3, 4, 5, 6]?\n",
    "my_list = [0, 1, 2, 3, 4, 5, 6]\n",
    "my_list[2:-2]"
   ]
  },
  {
   "cell_type": "code",
   "execution_count": 55,
   "id": "713342b9-0187-4c14-946f-826f0eeddf3a",
   "metadata": {},
   "outputs": [
    {
     "data": {
      "text/plain": [
       "[0, 1, 2, 3, 4, 5, 6]"
      ]
     },
     "execution_count": 55,
     "metadata": {},
     "output_type": "execute_result"
    }
   ],
   "source": [
    "#28. What is the result of my_list[::]?\n",
    "my_list[::]"
   ]
  },
  {
   "cell_type": "code",
   "execution_count": null,
   "id": "8bd58a36-dc68-4867-abe9-3e14052c916f",
   "metadata": {},
   "outputs": [],
   "source": [
    "# Fill the blank with the code that would give the following output.\n",
    "\n",
    "# s = 'program'\n",
    "# print(__________)\n",
    "\n",
    "# Output:\n",
    "# rga\n",
    "# A) s[-6:-1:2]\n",
    "\n",
    "# B) s[3:6]\n",
    "++\n",
    "# C) s[1:6]\n",
    "\n",
    "# D) s[1:5:2]\n",
    "\n",
    "#doubt question\n",
    "\n",
    "\n",
    "# What would be the output of the following code?\n",
    "\n",
    "# s = 'doubled'\n",
    "# print(s[1:6][1:3])\n",
    "# A) oubleou\n",
    "\n",
    "# B) ub\n",
    "\n",
    "# C) ou\n",
    "\n",
    "# D) ubl\n",
    "\n",
    "#doubt question\n",
    "\n",
    "# What would be the output of the following code?\n",
    "\n",
    "# s = 'medium'\n",
    "# print(s[-4:4])\n",
    "# A) di\n",
    "\n",
    "# B) diu\n",
    "\n",
    "# C) id\n",
    "\n",
    "# D) Blank Output\n",
    "\n",
    "#doubt question"
   ]
  }
 ],
 "metadata": {
  "kernelspec": {
   "display_name": "Python 3 (ipykernel)",
   "language": "python",
   "name": "python3"
  },
  "language_info": {
   "codemirror_mode": {
    "name": "ipython",
    "version": 3
   },
   "file_extension": ".py",
   "mimetype": "text/x-python",
   "name": "python",
   "nbconvert_exporter": "python",
   "pygments_lexer": "ipython3",
   "version": "3.11.7"
  }
 },
 "nbformat": 4,
 "nbformat_minor": 5
}
