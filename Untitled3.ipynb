{
 "cells": [
  {
   "cell_type": "code",
   "execution_count": 1,
   "id": "a6ab2b9f-d75c-4619-8f0c-cdf3308d3592",
   "metadata": {},
   "outputs": [
    {
     "name": "stdout",
     "output_type": "stream",
     "text": [
      "48\n"
     ]
    }
   ],
   "source": [
    "print(48)"
   ]
  },
  {
   "cell_type": "code",
   "execution_count": 2,
   "id": "294af5d7-c5ee-4842-ad6f-7c57e58f8182",
   "metadata": {},
   "outputs": [
    {
     "ename": "SyntaxError",
     "evalue": "invalid syntax. Perhaps you forgot a comma? (1584377512.py, line 2)",
     "output_type": "error",
     "traceback": [
      "\u001b[1;36m  Cell \u001b[1;32mIn[2], line 2\u001b[1;36m\u001b[0m\n\u001b[1;33m    for(i in range 5):\u001b[0m\n\u001b[1;37m        ^\u001b[0m\n\u001b[1;31mSyntaxError\u001b[0m\u001b[1;31m:\u001b[0m invalid syntax. Perhaps you forgot a comma?\n"
     ]
    }
   ],
   "source": [
    "a=1\n",
    "for(i in range 5):\n",
    "print(i)"
   ]
  },
  {
   "cell_type": "code",
   "execution_count": 1,
   "id": "722a7829-b6ee-427f-b8e4-8fef660d5052",
   "metadata": {},
   "outputs": [
    {
     "name": "stdout",
     "output_type": "stream",
     "text": [
      "7.714285714285708\n"
     ]
    }
   ],
   "source": [
    "a=5+4-3**6//5*6/7%3\n",
    "print(a)"
   ]
  },
  {
   "cell_type": "code",
   "execution_count": 4,
   "id": "f8e5986f-9ca2-4402-a444-dc962cecc8c8",
   "metadata": {},
   "outputs": [
    {
     "name": "stdout",
     "output_type": "stream",
     "text": [
      "8\n",
      "6\n",
      "18\n",
      "9.0\n",
      "6561.0\n",
      "3280.0\n"
     ]
    }
   ],
   "source": [
    "y=5\n",
    "y+=3\n",
    "print(y)\n",
    "y-=2\n",
    "print(y)\n",
    "y*=3\n",
    "print(y)\n",
    "y/=2\n",
    "print(y)\n",
    "y**=4\n",
    "print(y)\n",
    "y//=2\n",
    "print(y)"
   ]
  },
  {
   "cell_type": "code",
   "execution_count": 5,
   "id": "d727654b-f5d6-4167-a26b-327744154172",
   "metadata": {},
   "outputs": [
    {
     "name": "stdout",
     "output_type": "stream",
     "text": [
      "('Kartikey', 'Ajay', 'Mohit', 'Ashish', 'Arpit')\n"
     ]
    }
   ],
   "source": [
    "a='Kartikey','Ajay','Mohit','Ashish','Arpit'\n",
    "print(a)"
   ]
  },
  {
   "cell_type": "code",
   "execution_count": null,
   "id": "59ac2199-812b-4ce4-9d1b-aa004e026c78",
   "metadata": {},
   "outputs": [],
   "source": []
  }
 ],
 "metadata": {
  "kernelspec": {
   "display_name": "Python 3 (ipykernel)",
   "language": "python",
   "name": "python3"
  },
  "language_info": {
   "codemirror_mode": {
    "name": "ipython",
    "version": 3
   },
   "file_extension": ".py",
   "mimetype": "text/x-python",
   "name": "python",
   "nbconvert_exporter": "python",
   "pygments_lexer": "ipython3",
   "version": "3.11.7"
  }
 },
 "nbformat": 4,
 "nbformat_minor": 5
}
