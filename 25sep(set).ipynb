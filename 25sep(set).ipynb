{
 "cells": [
  {
   "cell_type": "code",
   "execution_count": 2,
   "id": "c1c5f8c5-188b-4b1b-8928-67aac1b70af6",
   "metadata": {},
   "outputs": [
    {
     "data": {
      "text/plain": [
       "{1, 2, 3, 5, 6, 7}"
      ]
     },
     "execution_count": 2,
     "metadata": {},
     "output_type": "execute_result"
    }
   ],
   "source": [
    "# 1. Create a set containing the unique elements from the list [1, 2, 2, 3, 4, 4].\n",
    "unique_elements=set({1,2,3,5,6,6,6,7})\n",
    "unique_elements"
   ]
  },
  {
   "cell_type": "code",
   "execution_count": 3,
   "id": "2336461d-a4ee-45a2-86e0-536f8e22a7e9",
   "metadata": {},
   "outputs": [
    {
     "data": {
      "text/plain": [
       "True"
      ]
     },
     "execution_count": 3,
     "metadata": {},
     "output_type": "execute_result"
    }
   ],
   "source": [
    "# 2. Write code to check if one set is a subset of another.\n",
    "set_a={1,2,3}\n",
    "set_b={1,2,3,4,5}\n",
    "is_subset=set_a.issubset(set_b)\n",
    "is_subset"
   ]
  },
  {
   "cell_type": "code",
   "execution_count": 4,
   "id": "444f47b0-247d-49b7-9d52-92fd3e5faea4",
   "metadata": {},
   "outputs": [
    {
     "data": {
      "text/plain": [
       "{'e', 'o'}"
      ]
     },
     "execution_count": 4,
     "metadata": {},
     "output_type": "execute_result"
    }
   ],
   "source": [
    "# 3. Create a set of vowels and check which vowels are present in the string \"hello\"\n",
    "vowels={'a','e','i','o','u'}\n",
    "string=\"hello\"\n",
    "present_vowel=set(vowels).intersection(set(string))\n",
    "present_vowel"
   ]
  },
  {
   "cell_type": "code",
   "execution_count": 5,
   "id": "d5fc0e17-64cb-4d4a-bb40-ae9931ac0cfe",
   "metadata": {},
   "outputs": [
    {
     "data": {
      "text/plain": [
       "{1, 2, 4, 5}"
      ]
     },
     "execution_count": 5,
     "metadata": {},
     "output_type": "execute_result"
    }
   ],
   "source": [
    "# 4. How would you find the symmetric difference between two sets?\n",
    "set_x={1,2,3}\n",
    "set_y={3,4,5}\n",
    "symmetric_diff=set_x.symmetric_difference(set_y)\n",
    "symmetric_diff"
   ]
  },
  {
   "cell_type": "code",
   "execution_count": 6,
   "id": "922e0379-ff1a-4ffe-83b2-c95d90c6006c",
   "metadata": {},
   "outputs": [
    {
     "data": {
      "text/plain": [
       "True"
      ]
     },
     "execution_count": 6,
     "metadata": {},
     "output_type": "execute_result"
    }
   ],
   "source": [
    "# 5. Create a set from a string and then check if the character &#39;a&#39; is present.\n",
    "my_string=\"abracadabra\"\n",
    "my_set=set(my_string)\n",
    "myset= \"a\" in my_string\n",
    "myset"
   ]
  },
  {
   "cell_type": "code",
   "execution_count": 10,
   "id": "53d85a74-8bee-40d1-9276-a89a8664aac5",
   "metadata": {},
   "outputs": [],
   "source": [
    "# 6. Write code that removes an element from a set without raising an error if the element is not\n",
    "#found.\n",
    "myset={1,2,3}\n",
    "myset=myset.discard(4)\n",
    "myset"
   ]
  },
  {
   "cell_type": "code",
   "execution_count": 11,
   "id": "af4ccfdc-ab11-410a-921b-92fa89b5b8e9",
   "metadata": {},
   "outputs": [
    {
     "data": {
      "text/plain": [
       "{3}"
      ]
     },
     "execution_count": 11,
     "metadata": {},
     "output_type": "execute_result"
    }
   ],
   "source": [
    "# 7. Given two sets, find their intersection and create a new set from it.\n",
    "set1={1,2,3}\n",
    "set2={3,4,5}\n",
    "intersection=set1.intersection(set2)\n",
    "intersection"
   ]
  },
  {
   "cell_type": "code",
   "execution_count": 14,
   "id": "07a3d997-a040-4e26-9e6d-ff5de25f99f2",
   "metadata": {},
   "outputs": [
    {
     "data": {
      "text/plain": [
       "True"
      ]
     },
     "execution_count": 14,
     "metadata": {},
     "output_type": "execute_result"
    }
   ],
   "source": [
    "# 9. Write a code snippet to check if two sets are disjoint.\n",
    "set_b={6,7,8,9}\n",
    "disjoint=set_a.isdisjoint(set_b)\n",
    "disjoint"
   ]
  },
  {
   "cell_type": "code",
   "execution_count": 15,
   "id": "2bb0e100-05ee-462f-bec1-625a168d9cc4",
   "metadata": {},
   "outputs": [
    {
     "data": {
      "text/plain": [
       "frozenset({1, 2, 3})"
      ]
     },
     "execution_count": 15,
     "metadata": {},
     "output_type": "execute_result"
    }
   ],
   "source": [
    "# 10. Create a frozenset from a set and explain the difference between a set and a frozenset.\n",
    "myset3={1,2,3}\n",
    "frozen=frozenset(myset3)\n",
    "frozen\n",
    "# A frozenset is immutable ,meaning you cannot add or remove elements from i"
   ]
  },
  {
   "cell_type": "code",
   "execution_count": 16,
   "id": "3d9d4998-10ad-4797-aaa4-774becd48881",
   "metadata": {},
   "outputs": [
    {
     "data": {
      "text/plain": [
       "{1, 2, 3, 5}"
      ]
     },
     "execution_count": 16,
     "metadata": {},
     "output_type": "execute_result"
    }
   ],
   "source": [
    "# 11. How would you convert a list to a set and remove duplicates?\n",
    "list=[1,2,2,2,3,5]\n",
    "set5=set(list)\n",
    "set5"
   ]
  },
  {
   "cell_type": "code",
   "execution_count": 17,
   "id": "f0ca7055-4951-4706-97eb-17184af85d33",
   "metadata": {},
   "outputs": [
    {
     "data": {
      "text/plain": [
       "{1, 2, 3, 4, 5, 6, 7, 8, 9}"
      ]
     },
     "execution_count": 17,
     "metadata": {},
     "output_type": "execute_result"
    }
   ],
   "source": [
    "# 12. Write code to find the union of multiple sets.\n",
    "set6={1,2,3,4,5}\n",
    "set7={6,7,3,8,9}\n",
    "union=set6.union(set7)\n",
    "union"
   ]
  },
  {
   "cell_type": "code",
   "execution_count": 18,
   "id": "86db8a52-f24f-48b1-a771-d2e8ceac0e32",
   "metadata": {},
   "outputs": [
    {
     "data": {
      "text/plain": [
       "{'d', 'e', 'h', 'l', 'o', 'r', 'w'}"
      ]
     },
     "execution_count": 18,
     "metadata": {},
     "output_type": "execute_result"
    }
   ],
   "source": [
    "# 13. Create a set containing the characters in the string &quot;hello world&quot; excluding spaces.\n",
    "string=\"hello world\"\n",
    "char=set(string.replace(\" \",\"\"))\n",
    "char"
   ]
  },
  {
   "cell_type": "code",
   "execution_count": 19,
   "id": "beaf1993-e1b2-410c-b6e4-98ef8248e72e",
   "metadata": {},
   "outputs": [
    {
     "data": {
      "text/plain": [
       "9"
      ]
     },
     "execution_count": 19,
     "metadata": {},
     "output_type": "execute_result"
    }
   ],
   "source": [
    "# 14. Given a set, write code to get the maximum and minimum elements in the set.\n",
    "s={1,2,3,4,5,9,8}\n",
    "set=max(s)\n",
    "set"
   ]
  },
  {
   "cell_type": "code",
   "execution_count": 20,
   "id": "69164268-bf79-46d6-8b41-5749f3023534",
   "metadata": {},
   "outputs": [
    {
     "data": {
      "text/plain": [
       "1"
      ]
     },
     "execution_count": 20,
     "metadata": {},
     "output_type": "execute_result"
    }
   ],
   "source": [
    "set=min(s)\n",
    "set"
   ]
  },
  {
   "cell_type": "code",
   "execution_count": 21,
   "id": "ae0320b2-52cd-4ef9-bcb2-10439ec8e7d5",
   "metadata": {},
   "outputs": [
    {
     "data": {
      "text/plain": [
       "set()"
      ]
     },
     "execution_count": 21,
     "metadata": {},
     "output_type": "execute_result"
    }
   ],
   "source": [
    "# 15. How can you clear all elements from a set?\n",
    "my_set={2,3,5,8,0,6,34}\n",
    "my_set.clear()\n",
    "my_set"
   ]
  },
  {
   "cell_type": "code",
   "execution_count": 22,
   "id": "f7a9fd83-d22a-4d00-863d-0108682f5de2",
   "metadata": {},
   "outputs": [
    {
     "data": {
      "text/plain": [
       "{1, 2}"
      ]
     },
     "execution_count": 22,
     "metadata": {},
     "output_type": "execute_result"
    }
   ],
   "source": [
    "# 16. Create two sets and find all elements that are in the first set but not in the second.\n",
    "set1={1,2,4,5,6,7}\n",
    "set2={4,5,6,7,9}\n",
    "difference=set1.difference(set2)\n",
    "difference"
   ]
  },
  {
   "cell_type": "code",
   "execution_count": 24,
   "id": "7e4d2a79-1ba4-442e-8a3c-2d483d508a33",
   "metadata": {},
   "outputs": [],
   "source": [
    "# # 17. Write code to find the total number of unique elements in a list.\n",
    "# list=[1,2,3,4,5,6,7]\n",
    "# unique=len(set(list))\n",
    "# unique"
   ]
  },
  {
   "cell_type": "code",
   "execution_count": 26,
   "id": "c836955f-1891-4249-9156-4ef565722004",
   "metadata": {},
   "outputs": [
    {
     "data": {
      "text/plain": [
       "{2, 3, 5, 7, 11, 13, 17, 19}"
      ]
     },
     "execution_count": 26,
     "metadata": {},
     "output_type": "execute_result"
    }
   ],
   "source": [
    "# 18. Create a set of prime numbers from 1 to 20.\n",
    "set={2,3,5,7,11,13,17,19}\n",
    "set"
   ]
  },
  {
   "cell_type": "code",
   "execution_count": 27,
   "id": "53a4562f-336c-439e-a30c-8d458e0d59ce",
   "metadata": {},
   "outputs": [
    {
     "data": {
      "text/plain": [
       "True"
      ]
     },
     "execution_count": 27,
     "metadata": {},
     "output_type": "execute_result"
    }
   ],
   "source": [
    "# 19. Write a code snippet that checks if a set is a superset of another set.\n",
    "set1={1,2,3,4,5,6}\n",
    "set2={2,3,4}\n",
    "superset=set1.issuperset(set2)\n",
    "superset"
   ]
  },
  {
   "cell_type": "code",
   "execution_count": null,
   "id": "027b49fa-f260-436c-9ad8-ec6a64608867",
   "metadata": {},
   "outputs": [],
   "source": [
    "# 20. Create a set that contains the intersection of three different sets.\n",
    "set_a={1,2,3}\n",
    "set_b={2,3,5}\n",
    "set_c={3,4,5,7}\n",
    "intersection=set_a.intersection(set_b,set"
   ]
  }
 ],
 "metadata": {
  "kernelspec": {
   "display_name": "Python 3 (ipykernel)",
   "language": "python",
   "name": "python3"
  },
  "language_info": {
   "codemirror_mode": {
    "name": "ipython",
    "version": 3
   },
   "file_extension": ".py",
   "mimetype": "text/x-python",
   "name": "python",
   "nbconvert_exporter": "python",
   "pygments_lexer": "ipython3",
   "version": "3.11.7"
  }
 },
 "nbformat": 4,
 "nbformat_minor": 5
}
