{
 "cells": [
  {
   "cell_type": "code",
   "execution_count": 21,
   "id": "6c52938f-3515-4f9b-9076-448e6a21aeaa",
   "metadata": {},
   "outputs": [
    {
     "ename": "SyntaxError",
     "evalue": "invalid syntax (2451305570.py, line 8)",
     "output_type": "error",
     "traceback": [
      "\u001b[1;36m  Cell \u001b[1;32mIn[21], line 8\u001b[1;36m\u001b[0m\n\u001b[1;33m    condition3=a>b not a<c\u001b[0m\n\u001b[1;37m                       ^\u001b[0m\n\u001b[1;31mSyntaxError\u001b[0m\u001b[1;31m:\u001b[0m invalid syntax\n"
     ]
    }
   ],
   "source": [
    "#logical operator\n",
    "# and , or \n",
    "a=24\n",
    "b=34\n",
    "c=12\n",
    "condition1=a<b and a>c\n",
    "print(condition1)"
   ]
  },
  {
   "cell_type": "code",
   "execution_count": 3,
   "id": "0225b0ff-7e59-411b-b440-e791d7e06644",
   "metadata": {},
   "outputs": [
    {
     "name": "stdout",
     "output_type": "stream",
     "text": [
      "False\n"
     ]
    }
   ],
   "source": [
    "condition2=a>b and a<c\n",
    "print(condition2)"
   ]
  },
  {
   "cell_type": "code",
   "execution_count": 4,
   "id": "802eb608-ca40-415c-8ec6-5afc821586bf",
   "metadata": {},
   "outputs": [
    {
     "name": "stdout",
     "output_type": "stream",
     "text": [
      "True\n"
     ]
    }
   ],
   "source": [
    "#membership operator\n",
    "# in , not in\n",
    "a='delhi'\n",
    "print('d' in a)"
   ]
  },
  {
   "cell_type": "code",
   "execution_count": 5,
   "id": "35e2229c-bf07-4e22-b7a4-af272581931d",
   "metadata": {},
   "outputs": [
    {
     "name": "stdout",
     "output_type": "stream",
     "text": [
      "False\n"
     ]
    }
   ],
   "source": [
    "print('s' in a)"
   ]
  },
  {
   "cell_type": "code",
   "execution_count": 6,
   "id": "d50864f2-c5c8-4316-a62c-7b20ea5612a1",
   "metadata": {},
   "outputs": [
    {
     "name": "stdout",
     "output_type": "stream",
     "text": [
      "True\n"
     ]
    }
   ],
   "source": [
    "print('s' not in a)"
   ]
  },
  {
   "cell_type": "code",
   "execution_count": 7,
   "id": "673f8940-3cc2-4d9d-9558-39666f9df55b",
   "metadata": {},
   "outputs": [
    {
     "name": "stdout",
     "output_type": "stream",
     "text": [
      "False\n"
     ]
    }
   ],
   "source": [
    "#identity operator (location)\n",
    "# is not is\n",
    "b=[1,2,3]\n",
    "c=[1,2,3]\n",
    "print(b is c)"
   ]
  },
  {
   "cell_type": "code",
   "execution_count": 9,
   "id": "035e7d03-c0f6-417c-a322-d10770bf2367",
   "metadata": {},
   "outputs": [
    {
     "name": "stdout",
     "output_type": "stream",
     "text": [
      "2742001788096\n"
     ]
    }
   ],
   "source": [
    "print(id(b))"
   ]
  },
  {
   "cell_type": "code",
   "execution_count": 10,
   "id": "62168512-2381-44d3-9709-5d527948a14f",
   "metadata": {},
   "outputs": [
    {
     "name": "stdout",
     "output_type": "stream",
     "text": [
      "2742001889792\n"
     ]
    }
   ],
   "source": [
    "print(id(c))"
   ]
  },
  {
   "cell_type": "code",
   "execution_count": 11,
   "id": "875342cd-f853-400d-8c13-5098c8c0c811",
   "metadata": {},
   "outputs": [
    {
     "name": "stdout",
     "output_type": "stream",
     "text": [
      "True\n"
     ]
    }
   ],
   "source": [
    "print(b is not c)"
   ]
  },
  {
   "cell_type": "code",
   "execution_count": 13,
   "id": "4150c35e-58c3-4b4a-902e-19378a190515",
   "metadata": {},
   "outputs": [
    {
     "name": "stdout",
     "output_type": "stream",
     "text": [
      "36\n",
      "33\n"
     ]
    }
   ],
   "source": [
    "#assignment operator\n",
    "#uninary operand\n",
    "#(+=,-=,*=,/=,//=,%=,**=)\n",
    "x=34\n",
    "x+=2\n",
    "print(x)\n",
    "x-=3\n",
    "print(x)\n"
   ]
  },
  {
   "cell_type": "code",
   "execution_count": 19,
   "id": "a75672d3-729e-4591-8d3a-fb48d2271f39",
   "metadata": {},
   "outputs": [
    {
     "name": "stdout",
     "output_type": "stream",
     "text": [
      "57\n",
      "1\n"
     ]
    }
   ],
   "source": [
    "#arithmetic \n",
    "#(+,-,/,*,%,//,**)\n",
    "a=34\n",
    "b=23\n",
    "print(a+b)\n",
    "c=5\n",
    "d=4\n",
    "print(c//d)"
   ]
  },
  {
   "cell_type": "markdown",
   "id": "4179b327-68af-4996-be4e-66d1bd7b470d",
   "metadata": {},
   "source": [
    "#"
   ]
  },
  {
   "cell_type": "code",
   "execution_count": 20,
   "id": "af0e5e39-512a-4351-85d4-63a77a7cb658",
   "metadata": {},
   "outputs": [
    {
     "name": "stdout",
     "output_type": "stream",
     "text": [
      "True\n"
     ]
    }
   ],
   "source": [
    "#comparison operator\n",
    "#(==,<,>,<=,>=,!=)\n",
    "a=34\n",
    "b=24\n",
    "print(a!=b)"
   ]
  },
  {
   "cell_type": "code",
   "execution_count": 9,
   "id": "cb444e10-bbad-4463-8cc9-d211c8f66bed",
   "metadata": {},
   "outputs": [
    {
     "name": "stdin",
     "output_type": "stream",
     "text": [
      "enter your age 12\n"
     ]
    },
    {
     "name": "stdout",
     "output_type": "stream",
     "text": [
      "not valid\n"
     ]
    }
   ],
   "source": [
    "age=int(input(\"enter your age\"))\n",
    "if(age>=18):\n",
    "        print(\"valid for vote\")\n",
    "else:\n",
    "    print('not valid')"
   ]
  },
  {
   "cell_type": "code",
   "execution_count": null,
   "id": "cdc3c27e-ee19-43f8-bc6c-3ddce45bce55",
   "metadata": {},
   "outputs": [],
   "source": []
  }
 ],
 "metadata": {
  "kernelspec": {
   "display_name": "Python 3 (ipykernel)",
   "language": "python",
   "name": "python3"
  },
  "language_info": {
   "codemirror_mode": {
    "name": "ipython",
    "version": 3
   },
   "file_extension": ".py",
   "mimetype": "text/x-python",
   "name": "python",
   "nbconvert_exporter": "python",
   "pygments_lexer": "ipython3",
   "version": "3.11.7"
  }
 },
 "nbformat": 4,
 "nbformat_minor": 5
}
