{
 "cells": [
  {
   "cell_type": "code",
   "execution_count": 6,
   "id": "23490111-a922-4680-be33-60fe3332c7df",
   "metadata": {},
   "outputs": [
    {
     "name": "stdin",
     "output_type": "stream",
     "text": [
      "enter your marks 45\n",
      "enter your marks 75\n",
      "enter your marks 45\n"
     ]
    },
    {
     "name": "stdout",
     "output_type": "stream",
     "text": [
      "55.00000000000001\n",
      "C grade\n"
     ]
    }
   ],
   "source": [
    "maths=int(input(\"enter your marks\"))\n",
    "english=int(input(\"enter your marks\"))\n",
    "science=int(input(\"enter your marks\"))\n",
    "average=maths+english+science\n",
    "percent=(average/300)*100\n",
    "print(percent)\n",
    "if(percent>80 and percent<=100):\n",
    "    print(\"A grade\")\n",
    "elif(percent>60 and percent<=80):\n",
    "    print(\"B garde\")\n",
    "elif(percent>50 and percent<=60):\n",
    "    print(\"C grade\")\n",
    "elif(percent>45 and percent<=50):\n",
    "    print(\"D grade\")\n",
    "elif(percent>25 and percent<=45):\n",
    "    print(\"E grade\")\n",
    "elif(percent<25):\n",
    "    print(\"F garde\")\n",
    "else:\n",
    "    print(\"input is not valid\")"
   ]
  },
  {
   "cell_type": "code",
   "execution_count": 11,
   "id": "ec65cfa8-d732-4253-aa3b-2b7dfc74f63e",
   "metadata": {},
   "outputs": [
    {
     "name": "stdout",
     "output_type": "stream",
     "text": [
      "kartikey\n"
     ]
    },
    {
     "name": "stdin",
     "output_type": "stream",
     "text": [
      "enter holidays 4\n",
      "enter your salary 12500\n"
     ]
    },
    {
     "name": "stdout",
     "output_type": "stream",
     "text": [
      "625.0\n",
      "11875.0\n"
     ]
    }
   ],
   "source": [
    "#salary\n",
    "employee='kartikey'\n",
    "print(employee)\n",
    "holiday=int(input(\"enter holidays\"))\n",
    "salary=int(input(\"enter your salary\"))\n",
    "if(holiday==1):\n",
    "           print(salary)\n",
    "elif(holiday>1 and holiday<=5):\n",
    "    salary_deducted=salary/100*5\n",
    "    print(salary_deducted)\n",
    "    total_salary=salary-salary_deducted\n",
    "    print(total_salary)"
   ]
  },
  {
   "cell_type": "code",
   "execution_count": 12,
   "id": "5a526ea9-de55-4cd7-b3be-a5d9524661e9",
   "metadata": {},
   "outputs": [
    {
     "name": "stdin",
     "output_type": "stream",
     "text": [
      "enter unit 4\n"
     ]
    },
    {
     "name": "stdout",
     "output_type": "stream",
     "text": [
      "40\n",
      "4.0\n",
      "total_amount 36.0\n"
     ]
    }
   ],
   "source": [
    "#electicity bill\n",
    "name='Kartikey'\n",
    "unit=int(input(\"enter unit\"))\n",
    "amount=unit*10\n",
    "print(amount)\n",
    "if(unit>=1 and unit<=10):\n",
    "    discount=amount/100*10\n",
    "    print(discount)\n",
    "    total_amount=amount-discount\n",
    "    print(\"total_amount\",total_amount)"
   ]
  },
  {
   "cell_type": "code",
   "execution_count": 18,
   "id": "bae98487-4b25-4a11-a34c-87e650aa1189",
   "metadata": {},
   "outputs": [
    {
     "name": "stdin",
     "output_type": "stream",
     "text": [
      "enter any charcter c\n",
      "enter temperatur 113\n"
     ]
    },
    {
     "name": "stdout",
     "output_type": "stream",
     "text": [
      "45.0\n"
     ]
    }
   ],
   "source": [
    "#temperature\n",
    "a=input(\"enter any charcter\")\n",
    "if(a=='f'):\n",
    "    celsius=int(input(\"enter temperature\"))\n",
    "    fehrenheit=(1.8*celsius)+32\n",
    "    print(fehrenheit)\n",
    "elif(a=='c'):\n",
    "    fehrenheit=float(input(\"enter temperatur\"))\n",
    "    celsius=(fehrenheit-32)*5/9\n",
    "    print(celsius)"
   ]
  },
  {
   "cell_type": "code",
   "execution_count": 23,
   "id": "cbc66200-d9ed-4b8d-bda6-3c4960fbc38b",
   "metadata": {},
   "outputs": [
    {
     "name": "stdin",
     "output_type": "stream",
     "text": [
      "enter number 45\n",
      "enter number 50\n"
     ]
    },
    {
     "name": "stdout",
     "output_type": "stream",
     "text": [
      "value before swapping 45 50\n",
      "value after swapping 50 45\n"
     ]
    }
   ],
   "source": [
    "#swap number without third variable\n",
    "a=int(input(\"enter number\"))\n",
    "b=int(input(\"enter number\"))\n",
    "print(\"value before swapping\",a,b)\n",
    "a=a+b\n",
    "b=a-b\n",
    "a=a-b\n",
    "print(\"value after swapping\",a,b)"
   ]
  },
  {
   "cell_type": "code",
   "execution_count": 22,
   "id": "1a8b3d68-72a3-4fa6-8017-32e5df190643",
   "metadata": {},
   "outputs": [
    {
     "name": "stdin",
     "output_type": "stream",
     "text": [
      "enter number 45\n",
      "enter number 20\n"
     ]
    },
    {
     "name": "stdout",
     "output_type": "stream",
     "text": [
      "value before swapping 45 20\n",
      "value after swapping 20 45\n"
     ]
    }
   ],
   "source": [
    "#swap number with third variable\n",
    "a=int(input(\"enter number\"))\n",
    "b=int(input(\"enter number\"))\n",
    "print(\"value before swapping\",a,b)\n",
    "c=a\n",
    "a=b\n",
    "b=c\n",
    "print(\"value after swapping\",a,b)"
   ]
  },
  {
   "cell_type": "code",
   "execution_count": 25,
   "id": "ccf769ab-c1e0-409a-8995-421cc6822dc8",
   "metadata": {},
   "outputs": [
    {
     "name": "stdin",
     "output_type": "stream",
     "text": [
      "enter number 45\n"
     ]
    },
    {
     "name": "stdout",
     "output_type": "stream",
     "text": [
      "divisible by both\n"
     ]
    }
   ],
   "source": [
    "# division by 5 and 9\n",
    "a=int(input(\"enter number\"))\n",
    "if(a%5==0  and a%9==0):\n",
    "    print(\"divisible by both\")\n"
   ]
  },
  {
   "cell_type": "code",
   "execution_count": 2,
   "id": "459042d3-8689-4336-a468-f0cce8d5599b",
   "metadata": {},
   "outputs": [
    {
     "name": "stdout",
     "output_type": "stream",
     "text": [
      "[67, 12, 5, 6, 254, 5, 4]\n"
     ]
    }
   ],
   "source": [
    "#list\n",
    "#append,extend,insert,remove,pop,index,clear,count,reverse,\n",
    "li=[67,12,5,6,254,5,4]\n",
    "print(li)"
   ]
  },
  {
   "cell_type": "code",
   "execution_count": 3,
   "id": "abfd6a6c-c8fc-4801-b801-c4af68e8a362",
   "metadata": {},
   "outputs": [
    {
     "name": "stdout",
     "output_type": "stream",
     "text": [
      "[67, 12, 5, 6, 254, 5, 4, 45]\n"
     ]
    }
   ],
   "source": [
    "#append\n",
    "li.append(45)\n",
    "print(li)"
   ]
  },
  {
   "cell_type": "code",
   "execution_count": 5,
   "id": "8ef93487-ba7b-4871-b7fa-6a3a4536f949",
   "metadata": {},
   "outputs": [
    {
     "name": "stdout",
     "output_type": "stream",
     "text": [
      "[67, 12, 5, 6, 254, 5, 4, 45, 47, 6, 6, 65, 515, 45]\n"
     ]
    }
   ],
   "source": [
    "#extend\n",
    "li.extend([47,6,6,65,515,45])\n",
    "print(li)"
   ]
  },
  {
   "cell_type": "code",
   "execution_count": 6,
   "id": "0e89e416-7cfb-4b94-b254-d29a0a03bb83",
   "metadata": {},
   "outputs": [
    {
     "name": "stdout",
     "output_type": "stream",
     "text": [
      "[67, 12, 5, 6, 45, 254, 5, 4, 45, 47, 6, 6, 65, 515, 45]\n"
     ]
    }
   ],
   "source": [
    "li.insert(4,45)\n",
    "print(li)"
   ]
  },
  {
   "cell_type": "code",
   "execution_count": 7,
   "id": "f1801dd7-7f6e-4008-8d88-669d5c399b9a",
   "metadata": {},
   "outputs": [
    {
     "name": "stdout",
     "output_type": "stream",
     "text": [
      "[67, 12, 5, 45, 254, 5, 4, 45, 47, 6, 6, 65, 515, 45]\n"
     ]
    }
   ],
   "source": [
    "li.remove(6)\n",
    "print(li)"
   ]
  },
  {
   "cell_type": "code",
   "execution_count": 8,
   "id": "46349ee6-67e8-44b9-a306-61053640b22b",
   "metadata": {},
   "outputs": [
    {
     "name": "stdout",
     "output_type": "stream",
     "text": [
      "[67, 5, 45, 254, 5, 4, 45, 47, 6, 6, 65, 515, 45]\n"
     ]
    }
   ],
   "source": [
    "li.pop(1)\n",
    "print(li)"
   ]
  },
  {
   "cell_type": "code",
   "execution_count": 9,
   "id": "32dc6569-9b80-46ab-a414-bbaf071df7aa",
   "metadata": {},
   "outputs": [
    {
     "name": "stdout",
     "output_type": "stream",
     "text": [
      "[67, 5, 45, 254, 5, 4, 45, 47, 6, 6, 515, 45]\n"
     ]
    }
   ],
   "source": [
    "li.pop(-3)\n",
    "print(li)"
   ]
  },
  {
   "cell_type": "code",
   "execution_count": 10,
   "id": "eb2b3863-f068-4bfc-a686-1e79447aa43a",
   "metadata": {},
   "outputs": [
    {
     "data": {
      "text/plain": [
       "1"
      ]
     },
     "execution_count": 10,
     "metadata": {},
     "output_type": "execute_result"
    }
   ],
   "source": [
    "li.index(5)"
   ]
  },
  {
   "cell_type": "code",
   "execution_count": 11,
   "id": "250bbc46-d6b0-4c3d-af43-38d915edae21",
   "metadata": {},
   "outputs": [
    {
     "data": {
      "text/plain": [
       "2"
      ]
     },
     "execution_count": 11,
     "metadata": {},
     "output_type": "execute_result"
    }
   ],
   "source": [
    "li.count(5)"
   ]
  },
  {
   "cell_type": "code",
   "execution_count": 13,
   "id": "1efbcf39-0d96-45d5-a70c-18ac8d7cd28a",
   "metadata": {},
   "outputs": [
    {
     "name": "stdout",
     "output_type": "stream",
     "text": [
      "[]\n"
     ]
    }
   ],
   "source": [
    "li.clear()\n",
    "print(li)"
   ]
  },
  {
   "cell_type": "code",
   "execution_count": 14,
   "id": "4e25b8b4-19e1-4189-8f79-38e4b16d011d",
   "metadata": {},
   "outputs": [
    {
     "name": "stdout",
     "output_type": "stream",
     "text": [
      "(41, 5, 1, 5, 51, True, 3.5, 'fdhfjh')\n"
     ]
    }
   ],
   "source": [
    "#tuple\n",
    "tuple=(41,5,1,5,51,True,3.5,'fdhfjh')\n",
    "print(tuple)"
   ]
  },
  {
   "cell_type": "code",
   "execution_count": 16,
   "id": "b8ec2a52-39de-48b3-a951-711a400b25b9",
   "metadata": {},
   "outputs": [
    {
     "name": "stdin",
     "output_type": "stream",
     "text": [
      "Enter your number 4\n"
     ]
    },
    {
     "name": "stdout",
     "output_type": "stream",
     "text": [
      "even\n"
     ]
    }
   ],
   "source": [
    "#even or odd\n",
    "num=int(input(\"Enter your number\"))\n",
    "if(num%2==0):\n",
    "    print(\"even\")\n",
    "else:\n",
    "    print(\"odd\")\n"
   ]
  },
  {
   "cell_type": "code",
   "execution_count": 19,
   "id": "154a82e8-d931-4340-9037-0b78cad9099a",
   "metadata": {},
   "outputs": [
    {
     "name": "stdin",
     "output_type": "stream",
     "text": [
      "enter any character e\n"
     ]
    },
    {
     "name": "stdout",
     "output_type": "stream",
     "text": [
      "vowel\n"
     ]
    }
   ],
   "source": [
    "#vowel\n",
    "a=input('enter any character')\n",
    "if(a=='a' or a=='e' or a=='i' or a=='o' or a=='u'):\n",
    "    print(\"vowel\")\n",
    "else:\n",
    "    print(\"consonant\")"
   ]
  },
  {
   "cell_type": "code",
   "execution_count": 24,
   "id": "a40e9044-dace-45f2-8bbb-d7f4d072c4b1",
   "metadata": {},
   "outputs": [
    {
     "name": "stdin",
     "output_type": "stream",
     "text": [
      "enter an character s\n",
      "enter the value 45\n",
      "enter the value 43\n"
     ]
    },
    {
     "name": "stdout",
     "output_type": "stream",
     "text": [
      "2\n"
     ]
    }
   ],
   "source": [
    "#adms\n",
    "a=input('enter an character')\n",
    "if(a=='a'):\n",
    "    num1=int(input(\"enter the value\"))\n",
    "    num2=int(input(\"enter the value\"))\n",
    "    print(num1+num2)\n",
    "elif(a=='s'):\n",
    "    num1=int(input(\"enter the value\"))\n",
    "    num2=int(input(\"enter the value\"))\n",
    "    print(num1-num2)"
   ]
  },
  {
   "cell_type": "code",
   "execution_count": null,
   "id": "3d79d94a-9b4a-442d-a389-12abc871c643",
   "metadata": {},
   "outputs": [],
   "source": []
  }
 ],
 "metadata": {
  "kernelspec": {
   "display_name": "Python 3 (ipykernel)",
   "language": "python",
   "name": "python3"
  },
  "language_info": {
   "codemirror_mode": {
    "name": "ipython",
    "version": 3
   },
   "file_extension": ".py",
   "mimetype": "text/x-python",
   "name": "python",
   "nbconvert_exporter": "python",
   "pygments_lexer": "ipython3",
   "version": "3.11.7"
  }
 },
 "nbformat": 4,
 "nbformat_minor": 5
}
