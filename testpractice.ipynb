{
 "cells": [
  {
   "cell_type": "code",
   "execution_count": 1,
   "id": "039d40f2-2254-4c06-bcef-fb129c7daf3a",
   "metadata": {},
   "outputs": [
    {
     "data": {
      "text/plain": [
       "[2, 3, 5]"
      ]
     },
     "execution_count": 1,
     "metadata": {},
     "output_type": "execute_result"
    }
   ],
   "source": [
    "list=[1,2,3,5,6]\n",
    "list[1:4]"
   ]
  },
  {
   "cell_type": "code",
   "execution_count": 2,
   "id": "80217ac3-f232-4edb-99dc-06a0df8914cd",
   "metadata": {},
   "outputs": [
    {
     "data": {
      "text/plain": [
       "[2, 4]"
      ]
     },
     "execution_count": 2,
     "metadata": {},
     "output_type": "execute_result"
    }
   ],
   "source": [
    "ls=[1,2,3,4,5]\n",
    "ls[1:4:2]"
   ]
  },
  {
   "cell_type": "code",
   "execution_count": 3,
   "id": "5ba4fed8-145c-48c9-8b09-1cac136fd48c",
   "metadata": {},
   "outputs": [],
   "source": [
    "tuple=(10,20,30,40,50)\n"
   ]
  },
  {
   "cell_type": "code",
   "execution_count": 6,
   "id": "2b21e5cd-3a2b-4ad4-a9a8-965081b9c236",
   "metadata": {},
   "outputs": [
    {
     "data": {
      "text/plain": [
       "[1, 2, 3, 4]"
      ]
     },
     "execution_count": 6,
     "metadata": {},
     "output_type": "execute_result"
    }
   ],
   "source": [
    "li1=[1,2]\n",
    "li2=[3,4]\n",
    "li3=li1+li2\n",
    "li3"
   ]
  },
  {
   "cell_type": "code",
   "execution_count": 7,
   "id": "73e47d8a-f5b9-495c-8b2e-bc886d55267b",
   "metadata": {},
   "outputs": [
    {
     "name": "stdout",
     "output_type": "stream",
     "text": [
      "small\n"
     ]
    }
   ],
   "source": [
    "x=3\n",
    "if x>10:\n",
    "    print(\"greater\")\n",
    "elif x==10:\n",
    "    print(\"equal\")\n",
    "else:\n",
    "    print(\"small\")\n",
    "    "
   ]
  },
  {
   "cell_type": "code",
   "execution_count": 11,
   "id": "78a74692-3010-478b-8f7b-905e8b82cf18",
   "metadata": {},
   "outputs": [
    {
     "data": {
      "text/plain": [
       "'orld'"
      ]
     },
     "execution_count": 11,
     "metadata": {},
     "output_type": "execute_result"
    }
   ],
   "source": [
    "s=\"hello world\"\n",
    "s[7:12]"
   ]
  },
  {
   "cell_type": "code",
   "execution_count": 9,
   "id": "82b1024a-e351-4c85-9dad-0f102d2dfa7f",
   "metadata": {},
   "outputs": [
    {
     "name": "stdout",
     "output_type": "stream",
     "text": [
      "ub\n"
     ]
    }
   ],
   "source": [
    "s = 'doubled'\n",
    "print(s[1:6][1:3])\n"
   ]
  },
  {
   "cell_type": "code",
   "execution_count": 12,
   "id": "1081795f-cb75-499f-af52-5e2f21ec6274",
   "metadata": {},
   "outputs": [
    {
     "name": "stdout",
     "output_type": "stream",
     "text": [
      "the value 42\n"
     ]
    }
   ],
   "source": [
    "a=42\n",
    "print(f\"the value {a}\")"
   ]
  },
  {
   "cell_type": "code",
   "execution_count": 16,
   "id": "93f4dac9-b4b8-4439-87f9-06f79234ee0e",
   "metadata": {},
   "outputs": [
    {
     "name": "stdout",
     "output_type": "stream",
     "text": [
      "True\n"
     ]
    }
   ],
   "source": [
    "tuple=('apple','banana','cherry')\n",
    "print('banana' in tuple)"
   ]
  },
  {
   "cell_type": "code",
   "execution_count": 17,
   "id": "d8e2844e-16a9-4416-b170-4f0136aa3743",
   "metadata": {},
   "outputs": [
    {
     "data": {
      "text/plain": [
       "[30, 40, 50]"
      ]
     },
     "execution_count": 17,
     "metadata": {},
     "output_type": "execute_result"
    }
   ],
   "source": [
    "list=[10,20,30,40,50]\n",
    "list[2:]"
   ]
  },
  {
   "cell_type": "code",
   "execution_count": 21,
   "id": "df42ee8f-7822-4cc2-bd9a-f750aee13412",
   "metadata": {},
   "outputs": [
    {
     "data": {
      "text/plain": [
       "[1, 2]"
      ]
     },
     "execution_count": 21,
     "metadata": {},
     "output_type": "execute_result"
    }
   ],
   "source": [
    "lis1=[1,2,3]\n",
    "lis2=[3,4,5]\n",
    "lis3=(lis1[0:2])\n",
    "lis3"
   ]
  },
  {
   "cell_type": "code",
   "execution_count": 29,
   "id": "9859f75a-5520-4c33-b0ba-12397d35913e",
   "metadata": {},
   "outputs": [
    {
     "name": "stdin",
     "output_type": "stream",
     "text": [
      "enter string kk.txt\n"
     ]
    },
    {
     "name": "stdout",
     "output_type": "stream",
     "text": [
      "suffix\n"
     ]
    }
   ],
   "source": [
    "s=input(\"enter string\")\n",
    "if(s[-4:]==\".txt\"):\n",
    "    print(\"suffix\")\n",
    "else:\n",
    "    \n",
    "    print(\"not\")"
   ]
  },
  {
   "cell_type": "code",
   "execution_count": 30,
   "id": "2d492e89-dc73-4119-b008-b7a055a7d76f",
   "metadata": {},
   "outputs": [
    {
     "data": {
      "text/plain": [
       "[5, 10, 15]"
      ]
     },
     "execution_count": 30,
     "metadata": {},
     "output_type": "execute_result"
    }
   ],
   "source": [
    "li=[5,10,15,20,25]\n",
    "li[:3]"
   ]
  },
  {
   "cell_type": "code",
   "execution_count": 35,
   "id": "f5d56fb6-f999-436b-bf20-b3c771fc51ad",
   "metadata": {},
   "outputs": [
    {
     "name": "stdout",
     "output_type": "stream",
     "text": [
      "the value3.14\n"
     ]
    }
   ],
   "source": [
    "pi=3.14159\n",
    "print(f\"the value{pi:.2f}\")\n"
   ]
  },
  {
   "cell_type": "code",
   "execution_count": 36,
   "id": "ffa61155-0393-49d6-b61f-fab07373a6c8",
   "metadata": {},
   "outputs": [
    {
     "data": {
      "text/plain": [
       "['alice', 'charlie']"
      ]
     },
     "execution_count": 36,
     "metadata": {},
     "output_type": "execute_result"
    }
   ],
   "source": [
    "list=[\"alice\",\"bob\",\"charlie\"]\n",
    "list[0:3:2]"
   ]
  },
  {
   "cell_type": "code",
   "execution_count": null,
   "id": "dcf44f85-fc6f-4300-b816-94aad1f415a2",
   "metadata": {},
   "outputs": [],
   "source": [
    "text="
   ]
  }
 ],
 "metadata": {
  "kernelspec": {
   "display_name": "Python 3 (ipykernel)",
   "language": "python",
   "name": "python3"
  },
  "language_info": {
   "codemirror_mode": {
    "name": "ipython",
    "version": 3
   },
   "file_extension": ".py",
   "mimetype": "text/x-python",
   "name": "python",
   "nbconvert_exporter": "python",
   "pygments_lexer": "ipython3",
   "version": "3.11.7"
  }
 },
 "nbformat": 4,
 "nbformat_minor": 5
}
