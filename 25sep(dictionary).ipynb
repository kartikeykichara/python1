{
 "cells": [
  {
   "cell_type": "code",
   "execution_count": 1,
   "id": "9a0a8375-c0aa-4447-ac01-d3f59c93ac02",
   "metadata": {},
   "outputs": [
    {
     "data": {
      "text/plain": [
       "{'a': 1, 'e': 0, 'i': 2, 'o': 1, 'u': 0}"
      ]
     },
     "execution_count": 1,
     "metadata": {},
     "output_type": "execute_result"
    }
   ],
   "source": [
    "# 2. Write a dictionary that contains the counts of each vowel in the string \"programming is fun\"\n",
    "dict={'a':1,'e':0,'i':2,'o':1,'u':0}\n",
    "dict"
   ]
  },
  {
   "cell_type": "code",
   "execution_count": 2,
   "id": "45446c49-4cae-49ce-ac76-b08a6945ed88",
   "metadata": {},
   "outputs": [
    {
     "data": {
      "text/plain": [
       "{'kartikey': {'Math': 80, 'Science': 85, 'English': 90},\n",
       " 'Sohan': {'Math': 88, 'Science': 82, 'English': 96}}"
      ]
     },
     "execution_count": 2,
     "metadata": {},
     "output_type": "execute_result"
    }
   ],
   "source": [
    "# 3. Create a nested dictionary to represent a student's grades in different subjects.\n",
    "grades={'kartikey':{'Math':80,'Science':85,'English':90},'Sohan':{'Math':88,'Science':82,'English':96}}\n",
    "grades"
   ]
  },
  {
   "cell_type": "code",
   "execution_count": 1,
   "id": "707504f4-c39b-4dcb-b817-d43963d08413",
   "metadata": {},
   "outputs": [
    {
     "data": {
      "text/plain": [
       "{'kk': 80, 'mahesh': 90, 'alice': 85}"
      ]
     },
     "execution_count": 1,
     "metadata": {},
     "output_type": "execute_result"
    }
   ],
   "source": [
    "# 5. Create a dictionary from a list of tuples where each tuple contains a name and a score.\n",
    "tuple_list=[('kk',80),('mahesh',90),('alice',85)]\n",
    "dict1=dict(tuple_list)\n",
    "dict1"
   ]
  },
  {
   "cell_type": "code",
   "execution_count": 2,
   "id": "d8a68efc-eebe-4028-8750-90d4de0e610a",
   "metadata": {},
   "outputs": [
    {
     "data": {
      "text/plain": [
       "'b'"
      ]
     },
     "execution_count": 2,
     "metadata": {},
     "output_type": "execute_result"
    }
   ],
   "source": [
    "# 6. Write code that retrieves the key associated with the maximum value in the dictionary.\n",
    "dict={'a':60,'b':80,'c':75}\n",
    "dict=max(dict,key=dict.get)\n",
    "dict"
   ]
  },
  {
   "cell_type": "code",
   "execution_count": 3,
   "id": "d06bcff7-280e-4edc-8b3d-88d7be309997",
   "metadata": {},
   "outputs": [
    {
     "data": {
      "text/plain": [
       "{'hello': 2, 'world': 1}"
      ]
     },
     "execution_count": 3,
     "metadata": {},
     "output_type": "execute_result"
    }
   ],
   "source": [
    "# 10. Write a function to count the frequency of each word in a string and store the results in a dictionary.\n",
    "string=\"hello world hello\"\n",
    "count={\"hello\":2,\"world\":1}\n",
    "count"
   ]
  },
  {
   "cell_type": "code",
   "execution_count": 4,
   "id": "b4f4aa34-0c2c-4588-873c-cd36aca72afd",
   "metadata": {},
   "outputs": [
    {
     "data": {
      "text/plain": [
       "{'Rangerover': 10, 'BMW': 5, 'OD': 2, 'Thar': 15}"
      ]
     },
     "execution_count": 4,
     "metadata": {},
     "output_type": "execute_result"
    }
   ],
   "source": [
    "# 11. Create a dictionary to track the inventory of a store and add new items with quantities.\n",
    "dict1={\"Rangerover\":10,\"BMW\":5,\"OD\":2}\n",
    "dict1[\"Thar\"]=15\n",
    "dict1\n"
   ]
  },
  {
   "cell_type": "code",
   "execution_count": 9,
   "id": "4f18b32a-a2c7-404c-b995-88b159d76470",
   "metadata": {},
   "outputs": [
    {
     "data": {
      "text/plain": [
       "180"
      ]
     },
     "execution_count": 9,
     "metadata": {},
     "output_type": "execute_result"
    }
   ],
   "source": [
    "# 13. Write a code snippet to find the total of all numeric values in a nested dictionary.\n",
    "nested={'a':10,'b':{'c':40,'d':50},'e':80}\n",
    "total=nested['a']+sum(nested['b'].values())+nested['e']\n",
    "total"
   ]
  },
  {
   "cell_type": "code",
   "execution_count": 11,
   "id": "eb173541-8d10-4642-a094-de1261d4b9fd",
   "metadata": {},
   "outputs": [
    {
     "data": {
      "text/plain": [
       "{1: 'one', 2: 'two', 3: 'three', 4: 'four', 5: 'five'}"
      ]
     },
     "execution_count": 11,
     "metadata": {},
     "output_type": "execute_result"
    }
   ],
   "source": [
    "# 14. Create a dictionary that maps each number from 1 to 5 to its corresponding English word.\n",
    "word={1:\"one\",2:\"two\",3:\"three\",4:\"four\",5:\"five\"}\n",
    "word"
   ]
  },
  {
   "cell_type": "code",
   "execution_count": 12,
   "id": "cee84ef9-b0cc-4934-896f-da1e40030259",
   "metadata": {},
   "outputs": [
    {
     "data": {
      "text/plain": [
       "True"
      ]
     },
     "execution_count": 12,
     "metadata": {},
     "output_type": "execute_result"
    }
   ],
   "source": [
    "# 15. Write code that checks if all values in a dictionary are unique.\n",
    "dict={'a':1,'b':2,'c':3}\n",
    "check=len(dict.values())==len(set(dict.values()))\n",
    "check"
   ]
  },
  {
   "cell_type": "code",
   "execution_count": 14,
   "id": "2c512e1d-7f39-4530-8a23-ecaf1d60a312",
   "metadata": {},
   "outputs": [
    {
     "data": {
      "text/plain": [
       "'Delhi'"
      ]
     },
     "execution_count": 14,
     "metadata": {},
     "output_type": "execute_result"
    }
   ],
   "source": [
    "# 16. Create a dictionary that maps country names to their capitals and retrieve the capital of a specific country.\n",
    "country={'India':'Delhi','Australia':'Sydney','USA':'Washington DC'}\n",
    "country['India']"
   ]
  },
  {
   "cell_type": "code",
   "execution_count": 15,
   "id": "df5e1017-5073-476a-90d6-593439ccc033",
   "metadata": {},
   "outputs": [
    {
     "data": {
      "text/plain": [
       "81.66666666666667"
      ]
     },
     "execution_count": 15,
     "metadata": {},
     "output_type": "execute_result"
    }
   ],
   "source": [
    "# 17. Given a dictionary of students and their grades, find the average grade.\n",
    "marks={'Sohan':70,'Kartikey':90,'Ashish':85}\n",
    "average=sum(marks.values())/len(marks)\n",
    "average"
   ]
  },
  {
   "cell_type": "code",
   "execution_count": 16,
   "id": "e442d962-b028-4b07-8bc5-74fc94b9cac5",
   "metadata": {},
   "outputs": [
    {
     "data": {
      "text/plain": [
       "{'Arpit': 546544, 'Ajay': 54948659, 'Alok': 897487456}"
      ]
     },
     "execution_count": 16,
     "metadata": {},
     "output_type": "execute_result"
    }
   ],
   "source": [
    "# 18. Create a dictionary that represents a simple contact list with names as keys and phone numbers as values.\n",
    "contact={'Arpit':546544,'Ajay':54948659,'Alok':897487456}\n",
    "contact"
   ]
  },
  {
   "cell_type": "code",
   "execution_count": 17,
   "id": "dee3dd00-2802-4496-b11f-fce1f6fe8d75",
   "metadata": {},
   "outputs": [
    {
     "data": {
      "text/plain": [
       "{'BJP': 370, 'Congress': 50, 'AAP': 30}"
      ]
     },
     "execution_count": 17,
     "metadata": {},
     "output_type": "execute_result"
    }
   ],
   "source": [
    "#20. Create a dictionary that holds the results of a simple voting system where candidates are keys and votes are values.\n",
    "voting={'BJP':370,'Congress':50,'AAP':30}\n",
    "voting"
   ]
  },
  {
   "cell_type": "code",
   "execution_count": null,
   "id": "9281762e-d601-45a4-b5c8-ed1260af71e7",
   "metadata": {},
   "outputs": [],
   "source": []
  }
 ],
 "metadata": {
  "kernelspec": {
   "display_name": "Python 3 (ipykernel)",
   "language": "python",
   "name": "python3"
  },
  "language_info": {
   "codemirror_mode": {
    "name": "ipython",
    "version": 3
   },
   "file_extension": ".py",
   "mimetype": "text/x-python",
   "name": "python",
   "nbconvert_exporter": "python",
   "pygments_lexer": "ipython3",
   "version": "3.11.7"
  }
 },
 "nbformat": 4,
 "nbformat_minor": 5
}
