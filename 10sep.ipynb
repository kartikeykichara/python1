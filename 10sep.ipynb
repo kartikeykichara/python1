{
 "cells": [
  {
   "cell_type": "code",
   "execution_count": 1,
   "id": "08f556f5-513d-4575-be4e-1e75cc32cd79",
   "metadata": {},
   "outputs": [
    {
     "ename": "SyntaxError",
     "evalue": "invalid syntax (1492894807.py, line 5)",
     "output_type": "error",
     "traceback": [
      "\u001b[1;36m  Cell \u001b[1;32mIn[1], line 5\u001b[1;36m\u001b[0m\n\u001b[1;33m    .\u001b[0m\n\u001b[1;37m    ^\u001b[0m\n\u001b[1;31mSyntaxError\u001b[0m\u001b[1;31m:\u001b[0m invalid syntax\n"
     ]
    }
   ],
   "source": [
    "#conditional statements\n",
    "#if(condition):\n",
    "#elif(condition):\n",
    "#elif(condition):\n",
    ".\n",
    ".\n",
    ".\n",
    ".\n",
    "\n",
    "#elif(condition):\n",
    "#else:"
   ]
  },
  {
   "cell_type": "code",
   "execution_count": 14,
   "id": "693c32be-5895-4970-a2a3-5a86555e3c0c",
   "metadata": {},
   "outputs": [
    {
     "name": "stdin",
     "output_type": "stream",
     "text": [
      "enter number 45\n",
      "enter number 52\n",
      "enter number 12\n"
     ]
    },
    {
     "name": "stdout",
     "output_type": "stream",
     "text": [
      "b is greater\n"
     ]
    }
   ],
   "source": [
    "a=int(input(\"enter number\"))\n",
    "b=int(input(\"enter number\"))\n",
    "c=int(input(\"enter number\"))\n",
    "if((a>b) and( a>c)):\n",
    "      print(\"a is greater\")\n",
    "elif((b>a) and(b>c)):\n",
    "    print(\"b is greater\")\n",
    "else:\n",
    "    print(\"c is greater\")"
   ]
  },
  {
   "cell_type": "code",
   "execution_count": 4,
   "id": "2ee110d8-c2d4-4927-bf89-9a4eadbaed80",
   "metadata": {},
   "outputs": [
    {
     "name": "stdout",
     "output_type": "stream",
     "text": [
      "eligible\n"
     ]
    }
   ],
   "source": [
    "if(age<18):\n",
    "    print(\"not eligible\")\n",
    "elif(age>18):\n",
    "    print(\"eligible\")\n",
    "else:\n",
    "    print(\"you are not eligible \")"
   ]
  },
  {
   "cell_type": "code",
   "execution_count": 12,
   "id": "68bf2d92-7d16-4260-aab4-b0653abbb9c3",
   "metadata": {},
   "outputs": [
    {
     "name": "stdin",
     "output_type": "stream",
     "text": [
      "enter your age 4\n"
     ]
    },
    {
     "name": "stdout",
     "output_type": "stream",
     "text": [
      "not eligible\n"
     ]
    }
   ],
   "source": [
    "age=int(input(\"enter your age\"))\n",
    "has_voterid=True\n",
    "if((age>=18) and (has_voterid==True)):\n",
    "    print(\"eligible\")\n",
    "elif((age>=18) and (has_voterid==False)):\n",
    "    print(\"not eligible\")\n",
    "else:\n",
    "    print(\"not eligible\")"
   ]
  },
  {
   "cell_type": "code",
   "execution_count": 23,
   "id": "a8026c6f-7290-4976-b01a-194cd350a498",
   "metadata": {},
   "outputs": [
    {
     "name": "stdin",
     "output_type": "stream",
     "text": [
      "enter no. of holidays 3\n",
      "enter your salary 12500\n"
     ]
    },
    {
     "name": "stdout",
     "output_type": "stream",
     "text": [
      "375.0\n"
     ]
    }
   ],
   "source": [
    "holiday=int(input(\"enter no. of holidays\"))\n",
    "salary=int(input(\"enter your salary\"))\n",
    "if(holiday==1):\n",
    "    print(salary)\n",
    "elif((holiday>1) and (holiday<=5)):\n",
    "    total_salary=(salary/100)*3\n",
    "    print(total_salary)"
   ]
  },
  {
   "cell_type": "code",
   "execution_count": 1,
   "id": "b804df03-6007-4931-b483-f9ef54966bf0",
   "metadata": {},
   "outputs": [
    {
     "ename": "SyntaxError",
     "evalue": "incomplete input (394193578.py, line 7)",
     "output_type": "error",
     "traceback": [
      "\u001b[1;36m  Cell \u001b[1;32mIn[1], line 7\u001b[1;36m\u001b[0m\n\u001b[1;33m    print(\u001b[0m\n\u001b[1;37m          ^\u001b[0m\n\u001b[1;31mSyntaxError\u001b[0m\u001b[1;31m:\u001b[0m incomplete input\n"
     ]
    }
   ],
   "source": [
    "a=int(input(\"enter marks of a\"))\n",
    "b=int(input(\"enter marks of b\"))\n",
    "c=int(input(\"enter marks of c\"))\n",
    "average=a+b+c\n",
    "percent=average/300*100\n",
    "if((percent<=100) and (percent>80)):\n",
    "    print("
   ]
  },
  {
   "cell_type": "code",
   "execution_count": 1,
   "id": "654be975-6a5d-48c2-904b-a5b56e451681",
   "metadata": {},
   "outputs": [
    {
     "name": "stdout",
     "output_type": "stream",
     "text": [
      "Collecting notebook-as-pdfNote: you may need to restart the kernel to use updated packages.\n",
      "\n",
      "  Downloading notebook_as_pdf-0.5.0-py3-none-any.whl.metadata (2.4 kB)\n",
      "Requirement already satisfied: nbconvert in c:\\users\\anski\\anaconda3\\lib\\site-packages (from notebook-as-pdf) (7.10.0)\n",
      "Collecting pyppeteer (from notebook-as-pdf)\n",
      "  Downloading pyppeteer-2.0.0-py3-none-any.whl.metadata (7.1 kB)\n",
      "Collecting PyPDF2 (from notebook-as-pdf)\n",
      "  Downloading pypdf2-3.0.1-py3-none-any.whl.metadata (6.8 kB)\n",
      "Requirement already satisfied: beautifulsoup4 in c:\\users\\anski\\anaconda3\\lib\\site-packages (from nbconvert->notebook-as-pdf) (4.12.2)\n",
      "Requirement already satisfied: bleach!=5.0.0 in c:\\users\\anski\\anaconda3\\lib\\site-packages (from nbconvert->notebook-as-pdf) (4.1.0)\n",
      "Requirement already satisfied: defusedxml in c:\\users\\anski\\anaconda3\\lib\\site-packages (from nbconvert->notebook-as-pdf) (0.7.1)\n",
      "Requirement already satisfied: jinja2>=3.0 in c:\\users\\anski\\anaconda3\\lib\\site-packages (from nbconvert->notebook-as-pdf) (3.1.3)\n",
      "Requirement already satisfied: jupyter-core>=4.7 in c:\\users\\anski\\anaconda3\\lib\\site-packages (from nbconvert->notebook-as-pdf) (5.5.0)\n",
      "Requirement already satisfied: jupyterlab-pygments in c:\\users\\anski\\anaconda3\\lib\\site-packages (from nbconvert->notebook-as-pdf) (0.1.2)\n",
      "Requirement already satisfied: markupsafe>=2.0 in c:\\users\\anski\\anaconda3\\lib\\site-packages (from nbconvert->notebook-as-pdf) (2.1.3)\n",
      "Requirement already satisfied: mistune<4,>=2.0.3 in c:\\users\\anski\\anaconda3\\lib\\site-packages (from nbconvert->notebook-as-pdf) (2.0.4)\n",
      "Requirement already satisfied: nbclient>=0.5.0 in c:\\users\\anski\\anaconda3\\lib\\site-packages (from nbconvert->notebook-as-pdf) (0.8.0)\n",
      "Requirement already satisfied: nbformat>=5.7 in c:\\users\\anski\\anaconda3\\lib\\site-packages (from nbconvert->notebook-as-pdf) (5.9.2)\n",
      "Requirement already satisfied: packaging in c:\\users\\anski\\anaconda3\\lib\\site-packages (from nbconvert->notebook-as-pdf) (23.1)\n",
      "Requirement already satisfied: pandocfilters>=1.4.1 in c:\\users\\anski\\anaconda3\\lib\\site-packages (from nbconvert->notebook-as-pdf) (1.5.0)\n",
      "Requirement already satisfied: pygments>=2.4.1 in c:\\users\\anski\\anaconda3\\lib\\site-packages (from nbconvert->notebook-as-pdf) (2.15.1)\n",
      "Requirement already satisfied: tinycss2 in c:\\users\\anski\\anaconda3\\lib\\site-packages (from nbconvert->notebook-as-pdf) (1.2.1)\n",
      "Requirement already satisfied: traitlets>=5.1 in c:\\users\\anski\\anaconda3\\lib\\site-packages (from nbconvert->notebook-as-pdf) (5.7.1)\n",
      "Requirement already satisfied: appdirs<2.0.0,>=1.4.3 in c:\\users\\anski\\anaconda3\\lib\\site-packages (from pyppeteer->notebook-as-pdf) (1.4.4)\n",
      "Requirement already satisfied: certifi>=2023 in c:\\users\\anski\\anaconda3\\lib\\site-packages (from pyppeteer->notebook-as-pdf) (2024.2.2)\n",
      "Requirement already satisfied: importlib-metadata>=1.4 in c:\\users\\anski\\anaconda3\\lib\\site-packages (from pyppeteer->notebook-as-pdf) (7.0.1)\n",
      "Collecting pyee<12.0.0,>=11.0.0 (from pyppeteer->notebook-as-pdf)\n",
      "  Downloading pyee-11.1.1-py3-none-any.whl.metadata (2.8 kB)\n",
      "Requirement already satisfied: tqdm<5.0.0,>=4.42.1 in c:\\users\\anski\\anaconda3\\lib\\site-packages (from pyppeteer->notebook-as-pdf) (4.65.0)\n",
      "Collecting urllib3<2.0.0,>=1.25.8 (from pyppeteer->notebook-as-pdf)\n",
      "  Downloading urllib3-1.26.20-py2.py3-none-any.whl.metadata (50 kB)\n",
      "     ---------------------------------------- 0.0/50.1 kB ? eta -:--:--\n",
      "     ---------------------------------------- 0.0/50.1 kB ? eta -:--:--\n",
      "     ---------------------------------------- 0.0/50.1 kB ? eta -:--:--\n",
      "     ---------------------------------------- 0.0/50.1 kB ? eta -:--:--\n",
      "     -------------------------------- ------- 41.0/50.1 kB 2.0 MB/s eta 0:00:01\n",
      "     ---------------------------------------- 50.1/50.1 kB 1.3 MB/s eta 0:00:00\n",
      "Collecting websockets<11.0,>=10.0 (from pyppeteer->notebook-as-pdf)\n",
      "  Downloading websockets-10.4-cp311-cp311-win_amd64.whl.metadata (6.4 kB)\n",
      "Requirement already satisfied: six>=1.9.0 in c:\\users\\anski\\anaconda3\\lib\\site-packages (from bleach!=5.0.0->nbconvert->notebook-as-pdf) (1.16.0)\n",
      "Requirement already satisfied: webencodings in c:\\users\\anski\\anaconda3\\lib\\site-packages (from bleach!=5.0.0->nbconvert->notebook-as-pdf) (0.5.1)\n",
      "Requirement already satisfied: zipp>=0.5 in c:\\users\\anski\\anaconda3\\lib\\site-packages (from importlib-metadata>=1.4->pyppeteer->notebook-as-pdf) (3.17.0)\n",
      "Requirement already satisfied: platformdirs>=2.5 in c:\\users\\anski\\anaconda3\\lib\\site-packages (from jupyter-core>=4.7->nbconvert->notebook-as-pdf) (3.10.0)\n",
      "Requirement already satisfied: pywin32>=300 in c:\\users\\anski\\anaconda3\\lib\\site-packages (from jupyter-core>=4.7->nbconvert->notebook-as-pdf) (305.1)\n",
      "Requirement already satisfied: jupyter-client>=6.1.12 in c:\\users\\anski\\anaconda3\\lib\\site-packages (from nbclient>=0.5.0->nbconvert->notebook-as-pdf) (8.6.0)\n",
      "Requirement already satisfied: fastjsonschema in c:\\users\\anski\\anaconda3\\lib\\site-packages (from nbformat>=5.7->nbconvert->notebook-as-pdf) (2.16.2)\n",
      "Requirement already satisfied: jsonschema>=2.6 in c:\\users\\anski\\anaconda3\\lib\\site-packages (from nbformat>=5.7->nbconvert->notebook-as-pdf) (4.19.2)\n",
      "Requirement already satisfied: typing-extensions in c:\\users\\anski\\anaconda3\\lib\\site-packages (from pyee<12.0.0,>=11.0.0->pyppeteer->notebook-as-pdf) (4.9.0)\n",
      "Requirement already satisfied: colorama in c:\\users\\anski\\anaconda3\\lib\\site-packages (from tqdm<5.0.0,>=4.42.1->pyppeteer->notebook-as-pdf) (0.4.6)\n",
      "Requirement already satisfied: soupsieve>1.2 in c:\\users\\anski\\anaconda3\\lib\\site-packages (from beautifulsoup4->nbconvert->notebook-as-pdf) (2.5)\n",
      "Requirement already satisfied: attrs>=22.2.0 in c:\\users\\anski\\anaconda3\\lib\\site-packages (from jsonschema>=2.6->nbformat>=5.7->nbconvert->notebook-as-pdf) (23.1.0)\n",
      "Requirement already satisfied: jsonschema-specifications>=2023.03.6 in c:\\users\\anski\\anaconda3\\lib\\site-packages (from jsonschema>=2.6->nbformat>=5.7->nbconvert->notebook-as-pdf) (2023.7.1)\n",
      "Requirement already satisfied: referencing>=0.28.4 in c:\\users\\anski\\anaconda3\\lib\\site-packages (from jsonschema>=2.6->nbformat>=5.7->nbconvert->notebook-as-pdf) (0.30.2)\n",
      "Requirement already satisfied: rpds-py>=0.7.1 in c:\\users\\anski\\anaconda3\\lib\\site-packages (from jsonschema>=2.6->nbformat>=5.7->nbconvert->notebook-as-pdf) (0.10.6)\n",
      "Requirement already satisfied: python-dateutil>=2.8.2 in c:\\users\\anski\\anaconda3\\lib\\site-packages (from jupyter-client>=6.1.12->nbclient>=0.5.0->nbconvert->notebook-as-pdf) (2.8.2)\n",
      "Requirement already satisfied: pyzmq>=23.0 in c:\\users\\anski\\anaconda3\\lib\\site-packages (from jupyter-client>=6.1.12->nbclient>=0.5.0->nbconvert->notebook-as-pdf) (25.1.2)\n",
      "Requirement already satisfied: tornado>=6.2 in c:\\users\\anski\\anaconda3\\lib\\site-packages (from jupyter-client>=6.1.12->nbclient>=0.5.0->nbconvert->notebook-as-pdf) (6.3.3)\n",
      "Downloading notebook_as_pdf-0.5.0-py3-none-any.whl (6.5 kB)\n",
      "Downloading pypdf2-3.0.1-py3-none-any.whl (232 kB)\n",
      "   ---------------------------------------- 0.0/232.6 kB ? eta -:--:--\n",
      "   ----------------- ---------------------- 102.4/232.6 kB 3.0 MB/s eta 0:00:01\n",
      "   -------------------------------------- - 225.3/232.6 kB 3.4 MB/s eta 0:00:01\n",
      "   ---------------------------------------- 232.6/232.6 kB 2.4 MB/s eta 0:00:00\n",
      "Downloading pyppeteer-2.0.0-py3-none-any.whl (82 kB)\n",
      "   ---------------------------------------- 0.0/82.9 kB ? eta -:--:--\n",
      "   ---------------------------------------- 82.9/82.9 kB 2.3 MB/s eta 0:00:00\n",
      "Downloading pyee-11.1.1-py3-none-any.whl (15 kB)\n",
      "Downloading urllib3-1.26.20-py2.py3-none-any.whl (144 kB)\n",
      "   ---------------------------------------- 0.0/144.2 kB ? eta -:--:--\n",
      "   ----------------- ---------------------- 61.4/144.2 kB 3.2 MB/s eta 0:00:01\n",
      "   ---------------------------------------  143.4/144.2 kB 2.1 MB/s eta 0:00:01\n",
      "   ---------------------------------------- 144.2/144.2 kB 1.4 MB/s eta 0:00:00\n",
      "Downloading websockets-10.4-cp311-cp311-win_amd64.whl (101 kB)\n",
      "   ---------------------------------------- 0.0/101.4 kB ? eta -:--:--\n",
      "   ---------------------------------------- 101.4/101.4 kB 1.9 MB/s eta 0:00:00\n",
      "Installing collected packages: websockets, urllib3, PyPDF2, pyee, pyppeteer, notebook-as-pdf\n",
      "  Attempting uninstall: urllib3\n",
      "    Found existing installation: urllib3 2.0.7\n",
      "    Uninstalling urllib3-2.0.7:\n",
      "      Successfully uninstalled urllib3-2.0.7\n",
      "Successfully installed PyPDF2-3.0.1 notebook-as-pdf-0.5.0 pyee-11.1.1 pyppeteer-2.0.0 urllib3-1.26.20 websockets-10.4\n"
     ]
    }
   ],
   "source": []
  },
  {
   "cell_type": "code",
   "execution_count": 2,
   "id": "3997f1f9-f54c-4f55-824b-79fcfddb2d70",
   "metadata": {},
   "outputs": [
    {
     "ename": "NameError",
     "evalue": "name 'pyppeteer' is not defined",
     "output_type": "error",
     "traceback": [
      "\u001b[1;31m---------------------------------------------------------------------------\u001b[0m",
      "\u001b[1;31mNameError\u001b[0m                                 Traceback (most recent call last)",
      "Cell \u001b[1;32mIn[2], line 1\u001b[0m\n\u001b[1;32m----> 1\u001b[0m pyppeteer\u001b[38;5;241m-\u001b[39minstall\n",
      "\u001b[1;31mNameError\u001b[0m: name 'pyppeteer' is not defined"
     ]
    }
   ],
   "source": [
    "pyppeteer-install\n"
   ]
  },
  {
   "cell_type": "code",
   "execution_count": 4,
   "id": "c0474299-708e-4547-a525-7a805b20dfac",
   "metadata": {},
   "outputs": [
    {
     "ename": "SyntaxError",
     "evalue": "invalid syntax (870263310.py, line 1)",
     "output_type": "error",
     "traceback": [
      "\u001b[1;36m  Cell \u001b[1;32mIn[4], line 1\u001b[1;36m\u001b[0m\n\u001b[1;33m    pip install -U notebook-as-pdf\u001b[0m\n\u001b[1;37m        ^\u001b[0m\n\u001b[1;31mSyntaxError\u001b[0m\u001b[1;31m:\u001b[0m invalid syntax\n"
     ]
    }
   ],
   "source": [
    "pip install -U notebook-as-pdf\n",
    "pyppeteer-install"
   ]
  },
  {
   "cell_type": "code",
   "execution_count": 5,
   "id": "58e5092d-53f3-4ddd-a042-eae79a9b3207",
   "metadata": {},
   "outputs": [
    {
     "ename": "SyntaxError",
     "evalue": "invalid syntax (3159977373.py, line 1)",
     "output_type": "error",
     "traceback": [
      "\u001b[1;36m  Cell \u001b[1;32mIn[5], line 1\u001b[1;36m\u001b[0m\n\u001b[1;33m    python -m pip install -U notebook-as-pdf\u001b[0m\n\u001b[1;37m              ^\u001b[0m\n\u001b[1;31mSyntaxError\u001b[0m\u001b[1;31m:\u001b[0m invalid syntax\n"
     ]
    }
   ],
   "source": [
    "python -m pip install -U notebook-as-pdf\n",
    "pyppeteer-install"
   ]
  },
  {
   "cell_type": "code",
   "execution_count": 6,
   "id": "9e62e375-1515-4c25-8028-1d1ce19d75a5",
   "metadata": {},
   "outputs": [
    {
     "ename": "SyntaxError",
     "evalue": "invalid decimal literal (416940280.py, line 1)",
     "output_type": "error",
     "traceback": [
      "\u001b[1;36m  Cell \u001b[1;32mIn[6], line 1\u001b[1;36m\u001b[0m\n\u001b[1;33m    jupyter-nbconvert --to pdfviahtml 10sep.ipynb\u001b[0m\n\u001b[1;37m                                       ^\u001b[0m\n\u001b[1;31mSyntaxError\u001b[0m\u001b[1;31m:\u001b[0m invalid decimal literal\n"
     ]
    }
   ],
   "source": [
    "jupyter-nbconvert --to pdfviahtml 10sep.ipynb"
   ]
  },
  {
   "cell_type": "code",
   "execution_count": null,
   "id": "222d0879-b7e5-4033-9a15-4b9c43e8847c",
   "metadata": {},
   "outputs": [],
   "source": []
  }
 ],
 "metadata": {
  "kernelspec": {
   "display_name": "Python 3 (ipykernel)",
   "language": "python",
   "name": "python3"
  },
  "language_info": {
   "codemirror_mode": {
    "name": "ipython",
    "version": 3
   },
   "file_extension": ".py",
   "mimetype": "text/x-python",
   "name": "python",
   "nbconvert_exporter": "python",
   "pygments_lexer": "ipython3",
   "version": "3.11.7"
  }
 },
 "nbformat": 4,
 "nbformat_minor": 5
}
