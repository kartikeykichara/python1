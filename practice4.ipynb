{
 "cells": [
  {
   "cell_type": "code",
   "execution_count": 1,
   "id": "64d853e7-ccba-4f38-9c16-f70a60f2dbbe",
   "metadata": {},
   "outputs": [
    {
     "name": "stdout",
     "output_type": "stream",
     "text": [
      "hello\n"
     ]
    }
   ],
   "source": [
    "#print\n",
    "print(\"hello\")"
   ]
  },
  {
   "cell_type": "code",
   "execution_count": 6,
   "id": "66d41e18-db22-4fa1-adf6-5480867cd726",
   "metadata": {},
   "outputs": [
    {
     "data": {
      "text/plain": [
       "45"
      ]
     },
     "execution_count": 6,
     "metadata": {},
     "output_type": "execute_result"
    }
   ],
   "source": [
    "a=45\n",
    "# print(a)\n",
    "a"
   ]
  },
  {
   "cell_type": "code",
   "execution_count": 16,
   "id": "feffa3ee-e395-46d9-9007-b31d88599434",
   "metadata": {},
   "outputs": [
    {
     "name": "stdout",
     "output_type": "stream",
     "text": [
      "hello 45 is a integer\n"
     ]
    }
   ],
   "source": [
    "# a='hello'\n",
    "b=45\n",
    "print(f\"hello {b} is a integer\")"
   ]
  },
  {
   "cell_type": "code",
   "execution_count": 17,
   "id": "5ce4b29f-8cba-4d00-961e-44e93ea36014",
   "metadata": {},
   "outputs": [
    {
     "data": {
      "text/plain": [
       "int"
      ]
     },
     "execution_count": 17,
     "metadata": {},
     "output_type": "execute_result"
    }
   ],
   "source": [
    "type(a)"
   ]
  },
  {
   "cell_type": "code",
   "execution_count": 18,
   "id": "879ae51f-472b-47ad-85c0-c4cbf37d0507",
   "metadata": {},
   "outputs": [
    {
     "data": {
      "text/plain": [
       "str"
      ]
     },
     "execution_count": 18,
     "metadata": {},
     "output_type": "execute_result"
    }
   ],
   "source": [
    "type('hello')"
   ]
  },
  {
   "cell_type": "code",
   "execution_count": 19,
   "id": "4191e634-3e5a-47ca-b164-c5660459156d",
   "metadata": {},
   "outputs": [
    {
     "data": {
      "text/plain": [
       "float"
      ]
     },
     "execution_count": 19,
     "metadata": {},
     "output_type": "execute_result"
    }
   ],
   "source": [
    "type(4.2)"
   ]
  },
  {
   "cell_type": "code",
   "execution_count": 26,
   "id": "bc02537b-5a31-4484-99a5-629ab6103d09",
   "metadata": {},
   "outputs": [
    {
     "data": {
      "text/plain": [
       "bool"
      ]
     },
     "execution_count": 26,
     "metadata": {},
     "output_type": "execute_result"
    }
   ],
   "source": [
    "type(True)\n",
    "\n",
    "\n"
   ]
  },
  {
   "cell_type": "code",
   "execution_count": 29,
   "id": "ab9987f2-6e94-4131-b711-ca36e19c97b3",
   "metadata": {},
   "outputs": [
    {
     "name": "stdout",
     "output_type": "stream",
     "text": [
      "jaipurbhilwara\n"
     ]
    }
   ],
   "source": [
    "print(\"jaipur\"  + \"bhilwara\")"
   ]
  },
  {
   "cell_type": "code",
   "execution_count": 33,
   "id": "ad27a6d8-1e62-43d8-8b7f-ab7cc4a8987f",
   "metadata": {},
   "outputs": [
    {
     "name": "stdout",
     "output_type": "stream",
     "text": [
      "hello i am kartikey i am from bhilwara\n",
      "bhilwara is in rajasthan\n"
     ]
    }
   ],
   "source": [
    "print(\"hello i am kartikey\",end=\" \")\n",
    "print(\"i am from bhilwara\",end=\"\\n\")\n",
    "print(\"bhilwara is in rajasthan\")\n"
   ]
  },
  {
   "cell_type": "code",
   "execution_count": 34,
   "id": "ddd5e65e-c182-4ede-be43-cd211d1d3bd1",
   "metadata": {},
   "outputs": [
    {
     "data": {
      "text/plain": [
       "34.0"
      ]
     },
     "execution_count": 34,
     "metadata": {},
     "output_type": "execute_result"
    }
   ],
   "source": [
    "a=34\n",
    "float(a)"
   ]
  },
  {
   "cell_type": "code",
   "execution_count": 35,
   "id": "2ce91d31-194a-4640-a514-a3afeeee38a4",
   "metadata": {},
   "outputs": [
    {
     "data": {
      "text/plain": [
       "'34'"
      ]
     },
     "execution_count": 35,
     "metadata": {},
     "output_type": "execute_result"
    }
   ],
   "source": [
    "str(a)"
   ]
  },
  {
   "cell_type": "code",
   "execution_count": 36,
   "id": "a3f06633-adb5-40e6-8755-c9c7b2722b8e",
   "metadata": {},
   "outputs": [
    {
     "data": {
      "text/plain": [
       "True"
      ]
     },
     "execution_count": 36,
     "metadata": {},
     "output_type": "execute_result"
    }
   ],
   "source": [
    "bool(a)"
   ]
  },
  {
   "cell_type": "code",
   "execution_count": 38,
   "id": "c95b3be1-215b-4184-ab9f-dbbcb180928b",
   "metadata": {},
   "outputs": [
    {
     "ename": "ValueError",
     "evalue": "invalid literal for int() with base 10: 'str'",
     "output_type": "error",
     "traceback": [
      "\u001b[1;31m---------------------------------------------------------------------------\u001b[0m",
      "\u001b[1;31mValueError\u001b[0m                                Traceback (most recent call last)",
      "Cell \u001b[1;32mIn[38], line 2\u001b[0m\n\u001b[0;32m      1\u001b[0m b\u001b[38;5;241m=\u001b[39m\u001b[38;5;124m'\u001b[39m\u001b[38;5;124mstr\u001b[39m\u001b[38;5;124m'\u001b[39m\n\u001b[1;32m----> 2\u001b[0m \u001b[38;5;28mint\u001b[39m(b)\n",
      "\u001b[1;31mValueError\u001b[0m: invalid literal for int() with base 10: 'str'"
     ]
    }
   ],
   "source": [
    "b='str'\n",
    "int(b)"
   ]
  },
  {
   "cell_type": "code",
   "execution_count": 39,
   "id": "7a1eec33-89bf-421c-b489-7eb5977ac4a6",
   "metadata": {},
   "outputs": [
    {
     "ename": "ValueError",
     "evalue": "could not convert string to float: 'str'",
     "output_type": "error",
     "traceback": [
      "\u001b[1;31m---------------------------------------------------------------------------\u001b[0m",
      "\u001b[1;31mValueError\u001b[0m                                Traceback (most recent call last)",
      "Cell \u001b[1;32mIn[39], line 1\u001b[0m\n\u001b[1;32m----> 1\u001b[0m \u001b[38;5;28mfloat\u001b[39m(b)\n",
      "\u001b[1;31mValueError\u001b[0m: could not convert string to float: 'str'"
     ]
    }
   ],
   "source": [
    "float(b)"
   ]
  },
  {
   "cell_type": "code",
   "execution_count": 40,
   "id": "a16adaaa-aaf7-4ee3-9479-80be54159d96",
   "metadata": {},
   "outputs": [
    {
     "data": {
      "text/plain": [
       "True"
      ]
     },
     "execution_count": 40,
     "metadata": {},
     "output_type": "execute_result"
    }
   ],
   "source": [
    "bool(b)"
   ]
  },
  {
   "cell_type": "code",
   "execution_count": 41,
   "id": "2e152d66-35e2-4289-8e7e-3ebcf8d2f444",
   "metadata": {},
   "outputs": [
    {
     "data": {
      "text/plain": [
       "1"
      ]
     },
     "execution_count": 41,
     "metadata": {},
     "output_type": "execute_result"
    }
   ],
   "source": [
    "a=True\n",
    "int(a)"
   ]
  },
  {
   "cell_type": "code",
   "execution_count": 42,
   "id": "b1043f0f-8a89-4265-b130-13f2ad6b242d",
   "metadata": {},
   "outputs": [
    {
     "data": {
      "text/plain": [
       "1.0"
      ]
     },
     "execution_count": 42,
     "metadata": {},
     "output_type": "execute_result"
    }
   ],
   "source": [
    "float(a)"
   ]
  },
  {
   "cell_type": "code",
   "execution_count": 43,
   "id": "a7a370f3-879d-4555-9230-42872b9a6c06",
   "metadata": {},
   "outputs": [
    {
     "data": {
      "text/plain": [
       "'True'"
      ]
     },
     "execution_count": 43,
     "metadata": {},
     "output_type": "execute_result"
    }
   ],
   "source": [
    "str(a)"
   ]
  },
  {
   "cell_type": "code",
   "execution_count": 44,
   "id": "dbeae653-d68b-43d7-ad42-6419fc0e5051",
   "metadata": {},
   "outputs": [
    {
     "data": {
      "text/plain": [
       "3"
      ]
     },
     "execution_count": 44,
     "metadata": {},
     "output_type": "execute_result"
    }
   ],
   "source": [
    "c=3.4\n",
    "int(c)"
   ]
  },
  {
   "cell_type": "code",
   "execution_count": 45,
   "id": "799e30bc-a68c-46ff-a88b-f51102fc14eb",
   "metadata": {},
   "outputs": [
    {
     "data": {
      "text/plain": [
       "'3.4'"
      ]
     },
     "execution_count": 45,
     "metadata": {},
     "output_type": "execute_result"
    }
   ],
   "source": [
    "str(c)"
   ]
  },
  {
   "cell_type": "code",
   "execution_count": 46,
   "id": "e51a9f1f-dbe8-4778-b919-29095c55e136",
   "metadata": {},
   "outputs": [
    {
     "data": {
      "text/plain": [
       "True"
      ]
     },
     "execution_count": 46,
     "metadata": {},
     "output_type": "execute_result"
    }
   ],
   "source": [
    "bool(c)"
   ]
  },
  {
   "cell_type": "code",
   "execution_count": 48,
   "id": "956986ec-eebc-4cd2-ab47-4fb1eb1fb9be",
   "metadata": {},
   "outputs": [
    {
     "name": "stdout",
     "output_type": "stream",
     "text": [
      "66\n",
      "20\n",
      "1.8695652173913044\n",
      "989\n",
      "20\n",
      "37134234731477575983465092780473537507\n",
      "1\n"
     ]
    }
   ],
   "source": [
    "#arithmetic operator\n",
    "#(+,-,*,/,//,**,%)\n",
    "a=43\n",
    "b=23\n",
    "print(a+b)\n",
    "print(a-b)\n",
    "print(a/b)\n",
    "print(a*b)\n",
    "print(a%b)\n",
    "print(a**b)\n",
    "print(a//b)"
   ]
  },
  {
   "cell_type": "code",
   "execution_count": 55,
   "id": "2d8c1d07-785b-47d6-b1ac-e67516248e92",
   "metadata": {},
   "outputs": [
    {
     "name": "stdout",
     "output_type": "stream",
     "text": [
      "False\n",
      "True\n",
      "False\n",
      "True\n",
      "True\n",
      "False\n"
     ]
    }
   ],
   "source": [
    "#comparison operator\n",
    "#(==,<,>,<=,>=,!=)\n",
    "c=34\n",
    "d=45\n",
    "print(c==d)\n",
    "print(c<=d)\n",
    "print(c>=d)\n",
    "print(c!=d)\n",
    "print(c<d)\n",
    "print(c>d)"
   ]
  },
  {
   "cell_type": "code",
   "execution_count": 58,
   "id": "3d53f335-f3fe-4123-866b-5f742c723a10",
   "metadata": {},
   "outputs": [
    {
     "name": "stdout",
     "output_type": "stream",
     "text": [
      "25\n",
      "22\n",
      "44\n",
      "11.0\n",
      "5.0\n",
      "1.0\n",
      "1.0\n"
     ]
    }
   ],
   "source": [
    "#assignment operator\n",
    "#(+=,*=,-=,/=,%=,//=,**=)\n",
    "x=23\n",
    "x+=2\n",
    "print(x)\n",
    "x-=3\n",
    "print(x)\n",
    "x*=2\n",
    "print(x)\n",
    "x/=4\n",
    "print(x)\n",
    "x//=2\n",
    "print(x)\n",
    "x%=2\n",
    "print(x)\n",
    "x**=2\n",
    "print(x)\n"
   ]
  },
  {
   "cell_type": "code",
   "execution_count": 63,
   "id": "79fb9829-0294-48d5-93ff-9403da345058",
   "metadata": {},
   "outputs": [
    {
     "name": "stdout",
     "output_type": "stream",
     "text": [
      "True\n",
      "False\n"
     ]
    }
   ],
   "source": [
    "#logical operator\n",
    "#(and , or)\n",
    "a=34\n",
    "b=56\n",
    "c=23\n",
    "condition1= a<b and a>c\n",
    "print(condition1)\n",
    "condition2=a<b and a<c\n",
    "print(condition2)"
   ]
  },
  {
   "cell_type": "code",
   "execution_count": 65,
   "id": "35e962e8-509b-4403-b57c-e54de3ef468a",
   "metadata": {},
   "outputs": [
    {
     "name": "stdout",
     "output_type": "stream",
     "text": [
      "True\n",
      "False\n"
     ]
    }
   ],
   "source": [
    "condition3=a<b or a<c\n",
    "print(condition3)\n",
    "condition4=a>b or a<c\n",
    "print(condition4)"
   ]
  },
  {
   "cell_type": "code",
   "execution_count": 78,
   "id": "3f32e11a-124f-42d3-b8af-ec7b9dac2b9d",
   "metadata": {},
   "outputs": [
    {
     "name": "stdout",
     "output_type": "stream",
     "text": [
      "False\n",
      "True\n"
     ]
    }
   ],
   "source": [
    "#identity operator(location)\n",
    "#is  not is\n",
    "a=[1,2,3]\n",
    "b=[1,2,3]\n",
    "print(a is b)\n",
    "print(a is not b) \n"
   ]
  },
  {
   "cell_type": "code",
   "execution_count": 69,
   "id": "4c27066f-40cb-441d-8056-5fc3ed181784",
   "metadata": {},
   "outputs": [
    {
     "ename": "TypeError",
     "evalue": "list indices must be integers or slices, not tuple",
     "output_type": "error",
     "traceback": [
      "\u001b[1;31m---------------------------------------------------------------------------\u001b[0m",
      "\u001b[1;31mTypeError\u001b[0m                                 Traceback (most recent call last)",
      "Cell \u001b[1;32mIn[69], line 1\u001b[0m\n\u001b[1;32m----> 1\u001b[0m a[\u001b[38;5;241m1\u001b[39m,\u001b[38;5;241m2\u001b[39m,\u001b[38;5;241m3\u001b[39m]\n\u001b[0;32m      2\u001b[0m a\u001b[38;5;241m=\u001b[39mb\n\u001b[0;32m      3\u001b[0m \u001b[38;5;28mprint\u001b[39m( a \u001b[38;5;129;01mis\u001b[39;00m b)\n",
      "\u001b[1;31mTypeError\u001b[0m: list indices must be integers or slices, not tuple"
     ]
    }
   ],
   "source": [
    "a[1,2,3]\n",
    "a=b\n",
    "print( a is b)"
   ]
  },
  {
   "cell_type": "code",
   "execution_count": 70,
   "id": "ccd83a4c-74ea-4b0f-b5be-655b5a542f95",
   "metadata": {},
   "outputs": [
    {
     "name": "stdout",
     "output_type": "stream",
     "text": [
      "True\n"
     ]
    }
   ],
   "source": [
    "#membership operator\n",
    "# in\n",
    "a=[1,2,3]\n",
    "print(3 in a)"
   ]
  },
  {
   "cell_type": "code",
   "execution_count": 71,
   "id": "f583ac75-4b7a-4aa2-b373-cbf23a4760ab",
   "metadata": {},
   "outputs": [
    {
     "name": "stdout",
     "output_type": "stream",
     "text": [
      "False\n"
     ]
    }
   ],
   "source": [
    "print(4 in a)"
   ]
  },
  {
   "cell_type": "code",
   "execution_count": 74,
   "id": "a356f10d-e9b2-4766-ae58-d988b54d4364",
   "metadata": {},
   "outputs": [
    {
     "name": "stdout",
     "output_type": "stream",
     "text": [
      "False\n"
     ]
    }
   ],
   "source": [
    "b='delhi'\n",
    "print('s' in b)"
   ]
  },
  {
   "cell_type": "code",
   "execution_count": 80,
   "id": "57d71db7-8390-4b55-a124-689360d88178",
   "metadata": {},
   "outputs": [
    {
     "name": "stdout",
     "output_type": "stream",
     "text": [
      "True\n"
     ]
    }
   ],
   "source": [
    "print('s' not in b)"
   ]
  },
  {
   "cell_type": "code",
   "execution_count": null,
   "id": "9365a3da-128f-49d8-bb2c-02bafec2c37a",
   "metadata": {},
   "outputs": [],
   "source": []
  }
 ],
 "metadata": {
  "kernelspec": {
   "display_name": "Python 3 (ipykernel)",
   "language": "python",
   "name": "python3"
  },
  "language_info": {
   "codemirror_mode": {
    "name": "ipython",
    "version": 3
   },
   "file_extension": ".py",
   "mimetype": "text/x-python",
   "name": "python",
   "nbconvert_exporter": "python",
   "pygments_lexer": "ipython3",
   "version": "3.11.7"
  }
 },
 "nbformat": 4,
 "nbformat_minor": 5
}
