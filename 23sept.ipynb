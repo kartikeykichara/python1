{
 "cells": [
  {
   "cell_type": "code",
   "execution_count": 5,
   "id": "c743ed2b-b0e4-4b6d-b089-e3ad82c8efc1",
   "metadata": {},
   "outputs": [],
   "source": [
    "#Dictionary(mapping data types)\n",
    "my_dictionary1={'name':'kartikey','profession':'student'}\n",
    "#key : value\n",
    "#key is always unique\n",
    "#key can only contain immutable datatype like string ,integer ,float ,bool,tuple\n",
    "#dictionaries are mutable(Can be changed after)\n",
    "my_dictionary1\n",
    "mydict={1:'ajay',2:'kk',3:'rohan'}\n",
    "mydict\n",
    "mydict1={1:True,2:5,3:'sohan'}\n",
    "mydict1\n",
    "mydict2={True:'Positive',False:'Negative'}\n"
   ]
  },
  {
   "cell_type": "code",
   "execution_count": 6,
   "id": "02949898-328a-4d31-84ac-3ec661e8f190",
   "metadata": {},
   "outputs": [
    {
     "data": {
      "text/plain": [
       "{('Raj', 'Mohan'): 21, ('Neeti', 'Jyoti'): 22}"
      ]
     },
     "execution_count": 6,
     "metadata": {},
     "output_type": "execute_result"
    }
   ],
   "source": [
    "mydict3={('Raj','Mohan'):21,('Neeti','Jyoti'):22}\n",
    "mydict3"
   ]
  },
  {
   "cell_type": "code",
   "execution_count": 10,
   "id": "fba2eaf1-dbbd-47b4-afa8-57c100a79aff",
   "metadata": {},
   "outputs": [
    {
     "data": {
      "text/plain": [
       "dict_keys([('Raj', 'Mohan'), ('Neeti', 'Jyoti')])"
      ]
     },
     "execution_count": 10,
     "metadata": {},
     "output_type": "execute_result"
    }
   ],
   "source": [
    "#built in methods\n",
    "mydict3.keys()"
   ]
  },
  {
   "cell_type": "code",
   "execution_count": 8,
   "id": "1312098f-7889-41ed-95f6-d2e2c4c1bf23",
   "metadata": {},
   "outputs": [
    {
     "data": {
      "text/plain": [
       "dict_values(['ajay', 'kk', 'rohan'])"
      ]
     },
     "execution_count": 8,
     "metadata": {},
     "output_type": "execute_result"
    }
   ],
   "source": [
    "mydict.values()"
   ]
  },
  {
   "cell_type": "code",
   "execution_count": 9,
   "id": "1d5d7e79-9ebf-4f63-941a-1c1b215c33bb",
   "metadata": {},
   "outputs": [
    {
     "data": {
      "text/plain": [
       "dict_items([(('Raj', 'Mohan'), 21), (('Neeti', 'Jyoti'), 22)])"
      ]
     },
     "execution_count": 9,
     "metadata": {},
     "output_type": "execute_result"
    }
   ],
   "source": [
    "mydict3.items()"
   ]
  },
  {
   "cell_type": "code",
   "execution_count": 11,
   "id": "f9c4862f-260e-4dfd-a74f-905b8648c5a5",
   "metadata": {},
   "outputs": [
    {
     "data": {
      "text/plain": [
       "'ajay'"
      ]
     },
     "execution_count": 11,
     "metadata": {},
     "output_type": "execute_result"
    }
   ],
   "source": [
    "mydict[1]"
   ]
  },
  {
   "cell_type": "code",
   "execution_count": 12,
   "id": "d53a32e6-1e81-4edb-9ce2-b4da1ffc9ff9",
   "metadata": {},
   "outputs": [
    {
     "data": {
      "text/plain": [
       "'ajay'"
      ]
     },
     "execution_count": 12,
     "metadata": {},
     "output_type": "execute_result"
    }
   ],
   "source": [
    "mydict.get(1)"
   ]
  },
  {
   "cell_type": "code",
   "execution_count": 22,
   "id": "4067bd40-1724-4535-a947-da801d320c31",
   "metadata": {},
   "outputs": [
    {
     "data": {
      "text/plain": [
       "'kartikey'"
      ]
     },
     "execution_count": 22,
     "metadata": {},
     "output_type": "execute_result"
    }
   ],
   "source": [
    "#Accessing values throgh keys\n",
    "\n",
    "my_dictionary1['name']\n",
    "# my_dictionary1['age'] this is will error"
   ]
  },
  {
   "cell_type": "code",
   "execution_count": 15,
   "id": "c50d8d89-663c-4a99-a155-4565790dd673",
   "metadata": {},
   "outputs": [
    {
     "data": {
      "text/plain": [
       "'kartikey'"
      ]
     },
     "execution_count": 15,
     "metadata": {},
     "output_type": "execute_result"
    }
   ],
   "source": [
    "my_dictionary1.get('name')"
   ]
  },
  {
   "cell_type": "code",
   "execution_count": 18,
   "id": "94c67fde-e869-467f-a670-df0a182d1827",
   "metadata": {},
   "outputs": [],
   "source": [
    "my_dictionary1.get('age')"
   ]
  },
  {
   "cell_type": "code",
   "execution_count": 26,
   "id": "ad3c0ca8-85a1-42d8-bfbe-a14ce307ed99",
   "metadata": {},
   "outputs": [
    {
     "data": {
      "text/plain": [
       "{'name': 'Kichara', 'profession': 'student', 'location': 'jaipur'}"
      ]
     },
     "execution_count": 26,
     "metadata": {},
     "output_type": "execute_result"
    }
   ],
   "source": [
    "#Modifying Values\n",
    "my_dictionary1['name']='Kichara'\n",
    "my_dictionary1['name']\n",
    "\n",
    "my_dictionary1['location']='jaipur'\n",
    "my_dictionary1"
   ]
  },
  {
   "cell_type": "code",
   "execution_count": 27,
   "id": "7b49e84f-495d-4ca5-8ae6-df30b212f92f",
   "metadata": {},
   "outputs": [],
   "source": [
    "#for delete\n",
    "del mydict[1]"
   ]
  },
  {
   "cell_type": "code",
   "execution_count": 28,
   "id": "a56ee62f-9f8e-46ed-bf8f-c39bae5975a1",
   "metadata": {},
   "outputs": [
    {
     "data": {
      "text/plain": [
       "{2: 'kk', 3: 'rohan'}"
      ]
     },
     "execution_count": 28,
     "metadata": {},
     "output_type": "execute_result"
    }
   ],
   "source": [
    "mydict"
   ]
  },
  {
   "cell_type": "code",
   "execution_count": 29,
   "id": "a4b139af-e6a7-44ab-868e-5d81f37b1705",
   "metadata": {},
   "outputs": [
    {
     "data": {
      "text/plain": [
       "'kk'"
      ]
     },
     "execution_count": 29,
     "metadata": {},
     "output_type": "execute_result"
    }
   ],
   "source": [
    "mydict.pop(2)"
   ]
  },
  {
   "cell_type": "code",
   "execution_count": 30,
   "id": "06d2f91a-3220-4719-a9a0-63f5404035ab",
   "metadata": {},
   "outputs": [
    {
     "data": {
      "text/plain": [
       "{3: 'rohan'}"
      ]
     },
     "execution_count": 30,
     "metadata": {},
     "output_type": "execute_result"
    }
   ],
   "source": [
    "mydict"
   ]
  },
  {
   "cell_type": "code",
   "execution_count": 31,
   "id": "f3193368-a26e-457d-9208-5fafcc41965e",
   "metadata": {},
   "outputs": [],
   "source": [
    "a=mydict.pop(3)"
   ]
  },
  {
   "cell_type": "code",
   "execution_count": 32,
   "id": "539da571-f37b-44eb-84c4-9eac72ae0f16",
   "metadata": {},
   "outputs": [
    {
     "data": {
      "text/plain": [
       "{'name': 'kar', 'profession': 'student', 'education': 'B.tech'}"
      ]
     },
     "execution_count": 32,
     "metadata": {},
     "output_type": "execute_result"
    }
   ],
   "source": [
    "dict1={'name':'kar','profession':'student','education':'B.tech'}\n",
    "dict1"
   ]
  },
  {
   "cell_type": "code",
   "execution_count": 33,
   "id": "4475aa67-a294-4446-8324-b8d300947e3c",
   "metadata": {},
   "outputs": [
    {
     "data": {
      "text/plain": [
       "'kar'"
      ]
     },
     "execution_count": 33,
     "metadata": {},
     "output_type": "execute_result"
    }
   ],
   "source": [
    "dict1['name']"
   ]
  },
  {
   "cell_type": "code",
   "execution_count": 34,
   "id": "9e400008-7669-4be7-9554-ad6767b4179f",
   "metadata": {},
   "outputs": [],
   "source": [
    "dict1.get('age')"
   ]
  },
  {
   "cell_type": "code",
   "execution_count": 36,
   "id": "0f028cda-4528-43f4-ac63-11446b138f20",
   "metadata": {},
   "outputs": [
    {
     "data": {
      "text/plain": [
       "'kar'"
      ]
     },
     "execution_count": 36,
     "metadata": {},
     "output_type": "execute_result"
    }
   ],
   "source": [
    "dict1.get('name')"
   ]
  },
  {
   "cell_type": "code",
   "execution_count": 37,
   "id": "596ed83c-91f3-4416-a02e-ed4f3b70e533",
   "metadata": {},
   "outputs": [
    {
     "data": {
      "text/plain": [
       "dict_keys(['name', 'profession', 'education'])"
      ]
     },
     "execution_count": 37,
     "metadata": {},
     "output_type": "execute_result"
    }
   ],
   "source": [
    "dict1.keys()"
   ]
  },
  {
   "cell_type": "code",
   "execution_count": 38,
   "id": "ba8da116-ea17-475d-806d-fa2658480439",
   "metadata": {},
   "outputs": [
    {
     "data": {
      "text/plain": [
       "dict_values(['kar', 'student', 'B.tech'])"
      ]
     },
     "execution_count": 38,
     "metadata": {},
     "output_type": "execute_result"
    }
   ],
   "source": [
    "dict1.values()"
   ]
  },
  {
   "cell_type": "code",
   "execution_count": 39,
   "id": "cde7d878-ac8f-41ed-ba09-36875bf68dd0",
   "metadata": {},
   "outputs": [
    {
     "data": {
      "text/plain": [
       "dict_items([('name', 'kar'), ('profession', 'student'), ('education', 'B.tech')])"
      ]
     },
     "execution_count": 39,
     "metadata": {},
     "output_type": "execute_result"
    }
   ],
   "source": [
    "dict1.items()"
   ]
  },
  {
   "cell_type": "code",
   "execution_count": 41,
   "id": "c1bd358f-8846-43b8-8c41-5ea188dae25e",
   "metadata": {},
   "outputs": [
    {
     "data": {
      "text/plain": [
       "{'name': ['rinku'],\n",
       " 'profession': 'student',\n",
       " 'education': 'B.tech',\n",
       " 'age': [22]}"
      ]
     },
     "execution_count": 41,
     "metadata": {},
     "output_type": "execute_result"
    }
   ],
   "source": [
    "dict1['name']=['rinku']\n",
    "dict1\n",
    "dict1['age']=[22]\n",
    "dict1"
   ]
  },
  {
   "cell_type": "code",
   "execution_count": 42,
   "id": "8df09702-7af9-408a-a7f0-74b7da54d423",
   "metadata": {},
   "outputs": [
    {
     "data": {
      "text/plain": [
       "{'name': ['rinku'], 'profession': 'student', 'education': 'B.tech'}"
      ]
     },
     "execution_count": 42,
     "metadata": {},
     "output_type": "execute_result"
    }
   ],
   "source": [
    "del dict1['age']\n",
    "dict1"
   ]
  },
  {
   "cell_type": "code",
   "execution_count": 48,
   "id": "ead01497-b397-4ef6-8c1c-03285de24081",
   "metadata": {},
   "outputs": [
    {
     "data": {
      "text/plain": [
       "{'profession': 'student', 'education': 'B.tech', 'name': ['kartikey']}"
      ]
     },
     "execution_count": 48,
     "metadata": {},
     "output_type": "execute_result"
    }
   ],
   "source": [
    "# a=dict1.pop('name')\n",
    "dict1['name']=['kartikey']\n",
    "dict1"
   ]
  },
  {
   "cell_type": "code",
   "execution_count": 49,
   "id": "7b791861-b952-4009-ba64-c8385e73d471",
   "metadata": {},
   "outputs": [
    {
     "data": {
      "text/plain": [
       "'+ value'"
      ]
     },
     "execution_count": 49,
     "metadata": {},
     "output_type": "execute_result"
    }
   ],
   "source": [
    "dict2={True:'Positive',1:'+ value',False:'Negative',0:'- value'}\n",
    "dict2[True]"
   ]
  },
  {
   "cell_type": "code",
   "execution_count": null,
   "id": "f3761c6f-80b1-42e0-9b0c-10054869d9d7",
   "metadata": {},
   "outputs": [],
   "source": []
  }
 ],
 "metadata": {
  "kernelspec": {
   "display_name": "Python 3 (ipykernel)",
   "language": "python",
   "name": "python3"
  },
  "language_info": {
   "codemirror_mode": {
    "name": "ipython",
    "version": 3
   },
   "file_extension": ".py",
   "mimetype": "text/x-python",
   "name": "python",
   "nbconvert_exporter": "python",
   "pygments_lexer": "ipython3",
   "version": "3.11.7"
  }
 },
 "nbformat": 4,
 "nbformat_minor": 5
}
