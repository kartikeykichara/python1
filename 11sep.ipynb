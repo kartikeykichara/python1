{
 "cells": [
  {
   "cell_type": "code",
   "execution_count": 1,
   "id": "d17f8d64-79b0-480b-b911-4c0648a89e4b",
   "metadata": {},
   "outputs": [],
   "source": [
    "list1=[1,2,4,56,8,3,4]\n",
    "list1.sort()"
   ]
  },
  {
   "cell_type": "code",
   "execution_count": 2,
   "id": "4dda2879-d5c0-4e43-91a0-f55aa7d7dda3",
   "metadata": {},
   "outputs": [
    {
     "data": {
      "text/plain": [
       "[1, 2, 3, 4, 4, 8, 56]"
      ]
     },
     "execution_count": 2,
     "metadata": {},
     "output_type": "execute_result"
    }
   ],
   "source": [
    "list1"
   ]
  },
  {
   "cell_type": "code",
   "execution_count": 3,
   "id": "2e6e1a7b-a575-4828-a470-a0d3ee4022d9",
   "metadata": {},
   "outputs": [],
   "source": [
    "list1.sort(reverse=True)"
   ]
  },
  {
   "cell_type": "code",
   "execution_count": 4,
   "id": "28657f81-5cde-4076-a68c-1b06ee475e8a",
   "metadata": {},
   "outputs": [
    {
     "data": {
      "text/plain": [
       "[56, 8, 4, 4, 3, 2, 1]"
      ]
     },
     "execution_count": 4,
     "metadata": {},
     "output_type": "execute_result"
    }
   ],
   "source": [
    "list1"
   ]
  },
  {
   "cell_type": "code",
   "execution_count": 5,
   "id": "6f50d9be-fac3-4d78-9b34-20cda5ad7497",
   "metadata": {},
   "outputs": [],
   "source": [
    "list2=[3,23,44,6,54,7]\n",
    "list2.reverse()"
   ]
  },
  {
   "cell_type": "code",
   "execution_count": 6,
   "id": "4d7af4ff-39a8-48de-96c2-7f16a9518db7",
   "metadata": {},
   "outputs": [
    {
     "data": {
      "text/plain": [
       "[7, 54, 6, 44, 23, 3]"
      ]
     },
     "execution_count": 6,
     "metadata": {},
     "output_type": "execute_result"
    }
   ],
   "source": [
    "list2"
   ]
  },
  {
   "cell_type": "code",
   "execution_count": 7,
   "id": "d9efd49e-583e-4bbf-af69-a005c8b0b6f0",
   "metadata": {},
   "outputs": [],
   "source": [
    "list3=list2.copy()"
   ]
  },
  {
   "cell_type": "code",
   "execution_count": 8,
   "id": "d2ec7965-1e34-48d7-b0e2-e657b35c052d",
   "metadata": {},
   "outputs": [
    {
     "data": {
      "text/plain": [
       "[7, 54, 6, 44, 23, 3]"
      ]
     },
     "execution_count": 8,
     "metadata": {},
     "output_type": "execute_result"
    }
   ],
   "source": [
    "list3"
   ]
  },
  {
   "cell_type": "code",
   "execution_count": 11,
   "id": "f4e59d1d-fd99-437c-ad62-30bfc2447dbf",
   "metadata": {},
   "outputs": [
    {
     "data": {
      "text/plain": [
       "2"
      ]
     },
     "execution_count": 11,
     "metadata": {},
     "output_type": "execute_result"
    }
   ],
   "source": [
    "#tuple methods = count and index\n",
    "tuple1=(2,3,42,45,34,66,2)\n",
    "tuple1.count(2)"
   ]
  },
  {
   "cell_type": "code",
   "execution_count": 10,
   "id": "c6ea1b18-18c7-4e11-a81b-f622d9e45078",
   "metadata": {},
   "outputs": [
    {
     "data": {
      "text/plain": [
       "3"
      ]
     },
     "execution_count": 10,
     "metadata": {},
     "output_type": "execute_result"
    }
   ],
   "source": [
    "tuple1.index(45)"
   ]
  },
  {
   "cell_type": "code",
   "execution_count": 13,
   "id": "af78d17f-7ec0-4923-acd4-9fabfed49089",
   "metadata": {},
   "outputs": [
    {
     "name": "stdout",
     "output_type": "stream",
     "text": [
      "[1, 2, 35, 2, 45, 67, 2, 8, 8, 9, 'True', 7.5, True, 34]\n"
     ]
    }
   ],
   "source": [
    "li=[1,2,35,2,45,67,2,8,8,9,'True',7.5,True]\n",
    "li.append(34)\n",
    "print(li)"
   ]
  },
  {
   "cell_type": "code",
   "execution_count": 14,
   "id": "ebf8d3ee-c52f-444d-8f5b-5b316ebd4eba",
   "metadata": {},
   "outputs": [
    {
     "name": "stdout",
     "output_type": "stream",
     "text": [
      "[1, 2, 35, 2, 45, 67, 2, 8, 8, 9, 'True', 7.5, True, 34, 1, 2, 3, True, 'kk', 7.1]\n"
     ]
    }
   ],
   "source": [
    "li.extend([1,2,3,True,\"kk\",7.1])\n",
    "print(li)"
   ]
  },
  {
   "cell_type": "code",
   "execution_count": 15,
   "id": "1784eae7-0750-4cae-8c62-58112d806970",
   "metadata": {},
   "outputs": [
    {
     "name": "stdout",
     "output_type": "stream",
     "text": [
      "[1, 45, 2, 35, 2, 45, 67, 2, 8, 8, 9, 'True', 7.5, True, 34, 1, 2, 3, True, 'kk', 7.1]\n"
     ]
    }
   ],
   "source": [
    "li.insert(1,45)\n",
    "print(li)"
   ]
  },
  {
   "cell_type": "code",
   "execution_count": 16,
   "id": "0e14e329-6603-4257-a74d-1043b27f5c64",
   "metadata": {},
   "outputs": [],
   "source": [
    "li.remove(1)"
   ]
  },
  {
   "cell_type": "code",
   "execution_count": 17,
   "id": "bb7be56b-edfe-4721-91bb-3f73c63395f3",
   "metadata": {},
   "outputs": [
    {
     "name": "stdout",
     "output_type": "stream",
     "text": [
      "[45, 2, 35, 2, 45, 67, 2, 8, 8, 9, 'True', 7.5, True, 34, 1, 2, 3, True, 'kk', 7.1]\n"
     ]
    }
   ],
   "source": [
    "print(li)"
   ]
  },
  {
   "cell_type": "code",
   "execution_count": 18,
   "id": "5d64686d-ddde-4d3b-905e-6693960df84c",
   "metadata": {},
   "outputs": [
    {
     "name": "stdout",
     "output_type": "stream",
     "text": [
      "[45, 2, 2, 45, 67, 2, 8, 8, 9, 'True', 7.5, True, 34, 1, 2, 3, True, 'kk', 7.1]\n"
     ]
    }
   ],
   "source": [
    "li.pop(2)\n",
    "print(li)"
   ]
  },
  {
   "cell_type": "code",
   "execution_count": 19,
   "id": "5695f48d-9869-4d13-a77a-2880ede2cba7",
   "metadata": {},
   "outputs": [
    {
     "data": {
      "text/plain": [
       "4"
      ]
     },
     "execution_count": 19,
     "metadata": {},
     "output_type": "execute_result"
    }
   ],
   "source": [
    "li.count(2)"
   ]
  },
  {
   "cell_type": "code",
   "execution_count": 20,
   "id": "69241cb1-3d9e-4f62-b2c5-81f19789e524",
   "metadata": {},
   "outputs": [
    {
     "data": {
      "text/plain": [
       "4"
      ]
     },
     "execution_count": 20,
     "metadata": {},
     "output_type": "execute_result"
    }
   ],
   "source": [
    "li.index(67)"
   ]
  },
  {
   "cell_type": "code",
   "execution_count": 22,
   "id": "42c098f7-4cf0-4b7f-b881-3d8a2f997170",
   "metadata": {},
   "outputs": [
    {
     "data": {
      "text/plain": [
       "[2, 2, 2, 8, 8, 9, 45, 45, 67, 'True', 7.5, True, 34, 1, 2, 3, True, 'kk', 7.1]"
      ]
     },
     "execution_count": 22,
     "metadata": {},
     "output_type": "execute_result"
    }
   ],
   "source": [
    "li"
   ]
  },
  {
   "cell_type": "code",
   "execution_count": 24,
   "id": "7b32c388-ea22-43ae-b1b5-966a9419de37",
   "metadata": {},
   "outputs": [
    {
     "data": {
      "text/plain": [
       "[2, 2, 2, 8, 8, 9, 45, 45, 67, 'True', 7.5, True, 34, 1, 2, 3, True, 'kk', 7.1]"
      ]
     },
     "execution_count": 24,
     "metadata": {},
     "output_type": "execute_result"
    }
   ],
   "source": [
    "li"
   ]
  },
  {
   "cell_type": "raw",
   "id": "52a5cd6f-b5cc-4b48-b094-4c1cf8618264",
   "metadata": {},
   "source": []
  },
  {
   "cell_type": "code",
   "execution_count": 26,
   "id": "7b3415d5-8060-448f-932c-3f075e715893",
   "metadata": {},
   "outputs": [
    {
     "ename": "TypeError",
     "evalue": "'<' not supported between instances of 'str' and 'float'",
     "output_type": "error",
     "traceback": [
      "\u001b[1;31m---------------------------------------------------------------------------\u001b[0m",
      "\u001b[1;31mTypeError\u001b[0m                                 Traceback (most recent call last)",
      "Cell \u001b[1;32mIn[26], line 1\u001b[0m\n\u001b[1;32m----> 1\u001b[0m li\u001b[38;5;241m.\u001b[39msort(reverse\u001b[38;5;241m=\u001b[39m\u001b[38;5;28;01mTrue\u001b[39;00m)\n",
      "\u001b[1;31mTypeError\u001b[0m: '<' not supported between instances of 'str' and 'float'"
     ]
    }
   ],
   "source": [
    "li.sort(reverse=True)"
   ]
  },
  {
   "cell_type": "code",
   "execution_count": 27,
   "id": "3939a88e-bdf0-49b6-b659-e17863928488",
   "metadata": {},
   "outputs": [],
   "source": [
    "li.remove(True)"
   ]
  },
  {
   "cell_type": "code",
   "execution_count": 28,
   "id": "d948f902-90ae-43dd-b384-4cd1cc907a21",
   "metadata": {},
   "outputs": [
    {
     "data": {
      "text/plain": [
       "[2, 2, 2, 8, 8, 9, 45, 45, 67, 'True', 7.5, 34, 1, 2, 3, True, 'kk', 7.1]"
      ]
     },
     "execution_count": 28,
     "metadata": {},
     "output_type": "execute_result"
    }
   ],
   "source": [
    "li"
   ]
  },
  {
   "cell_type": "code",
   "execution_count": 29,
   "id": "917adcba-54bd-4829-b001-581c26df1d73",
   "metadata": {},
   "outputs": [],
   "source": [
    "li.remove(\"True\")"
   ]
  },
  {
   "cell_type": "code",
   "execution_count": 30,
   "id": "42cc0bde-ed95-464c-8186-1160dbaa92d3",
   "metadata": {},
   "outputs": [
    {
     "data": {
      "text/plain": [
       "[2, 2, 2, 8, 8, 9, 45, 45, 67, 7.5, 34, 1, 2, 3, True, 'kk', 7.1]"
      ]
     },
     "execution_count": 30,
     "metadata": {},
     "output_type": "execute_result"
    }
   ],
   "source": [
    "li"
   ]
  },
  {
   "cell_type": "code",
   "execution_count": 31,
   "id": "966fbe77-8cf0-448a-8cd9-43e963b05c4b",
   "metadata": {},
   "outputs": [],
   "source": [
    "li.remove(7.5)"
   ]
  },
  {
   "cell_type": "code",
   "execution_count": 32,
   "id": "af28c5c9-1050-4891-9ffb-10a007075658",
   "metadata": {},
   "outputs": [],
   "source": [
    "li.remove(7.1)"
   ]
  },
  {
   "cell_type": "code",
   "execution_count": 33,
   "id": "55d513fd-10b8-4764-ba9e-df528d981042",
   "metadata": {},
   "outputs": [],
   "source": [
    "li.remove(True)"
   ]
  },
  {
   "cell_type": "code",
   "execution_count": 34,
   "id": "32e69c30-0a57-4bc2-999c-45dbe925900e",
   "metadata": {},
   "outputs": [],
   "source": [
    "li.remove('kk')"
   ]
  },
  {
   "cell_type": "code",
   "execution_count": 35,
   "id": "3d940590-6e06-42ef-b5d6-1013d127b8b3",
   "metadata": {},
   "outputs": [
    {
     "data": {
      "text/plain": [
       "[2, 2, 2, 8, 8, 9, 45, 45, 67, 34, 2, 3, True]"
      ]
     },
     "execution_count": 35,
     "metadata": {},
     "output_type": "execute_result"
    }
   ],
   "source": [
    "li"
   ]
  },
  {
   "cell_type": "markdown",
   "id": "c8354288-8f59-45f2-8410-46f7673a72ea",
   "metadata": {},
   "source": []
  },
  {
   "cell_type": "code",
   "execution_count": 36,
   "id": "0ee63a68-2849-4d4d-a928-7797f35b1ea9",
   "metadata": {},
   "outputs": [],
   "source": [
    "li.sort()"
   ]
  },
  {
   "cell_type": "code",
   "execution_count": 37,
   "id": "2e171991-e636-4f0e-8b3d-5a3d60f1a1bf",
   "metadata": {},
   "outputs": [
    {
     "data": {
      "text/plain": [
       "[True, 2, 2, 2, 2, 3, 8, 8, 9, 34, 45, 45, 67]"
      ]
     },
     "execution_count": 37,
     "metadata": {},
     "output_type": "execute_result"
    }
   ],
   "source": [
    "li"
   ]
  },
  {
   "cell_type": "code",
   "execution_count": 38,
   "id": "e08295c3-8595-40f5-8a78-0f9e7f8c8ed5",
   "metadata": {},
   "outputs": [],
   "source": [
    "li.sort(reverse=True)"
   ]
  },
  {
   "cell_type": "code",
   "execution_count": 39,
   "id": "8be3b643-aaa3-44da-9731-344c89720e8b",
   "metadata": {},
   "outputs": [
    {
     "data": {
      "text/plain": [
       "[67, 45, 45, 34, 9, 8, 8, 3, 2, 2, 2, 2, True]"
      ]
     },
     "execution_count": 39,
     "metadata": {},
     "output_type": "execute_result"
    }
   ],
   "source": [
    "li"
   ]
  },
  {
   "cell_type": "code",
   "execution_count": 40,
   "id": "5b342e5e-b487-4f74-b077-73328d4277f5",
   "metadata": {},
   "outputs": [],
   "source": [
    "li.reverse()"
   ]
  },
  {
   "cell_type": "code",
   "execution_count": 41,
   "id": "cb5ddaa2-a041-4fe3-8fb1-d3b9657bd33a",
   "metadata": {},
   "outputs": [
    {
     "data": {
      "text/plain": [
       "[True, 2, 2, 2, 2, 3, 8, 8, 9, 34, 45, 45, 67]"
      ]
     },
     "execution_count": 41,
     "metadata": {},
     "output_type": "execute_result"
    }
   ],
   "source": [
    "li"
   ]
  },
  {
   "cell_type": "code",
   "execution_count": 42,
   "id": "9b7ae81b-2e7c-4b4a-9232-e3e1e90ff889",
   "metadata": {},
   "outputs": [
    {
     "data": {
      "text/plain": [
       "[True, 2, 2, 2, 2, 3, 8, 8, 9, 34, 45, 45, 67]"
      ]
     },
     "execution_count": 42,
     "metadata": {},
     "output_type": "execute_result"
    }
   ],
   "source": [
    "li1=[2,3,4,5,3,2]\n",
    "li"
   ]
  },
  {
   "cell_type": "code",
   "execution_count": 43,
   "id": "44d46823-3ff2-4c77-b7ff-b34df2c20cc8",
   "metadata": {},
   "outputs": [],
   "source": [
    "li3=li.copy()"
   ]
  },
  {
   "cell_type": "code",
   "execution_count": 44,
   "id": "301809fd-30b7-4dda-938b-397c998c9ac2",
   "metadata": {},
   "outputs": [
    {
     "data": {
      "text/plain": [
       "[True, 2, 2, 2, 2, 3, 8, 8, 9, 34, 45, 45, 67]"
      ]
     },
     "execution_count": 44,
     "metadata": {},
     "output_type": "execute_result"
    }
   ],
   "source": [
    "li3"
   ]
  },
  {
   "cell_type": "code",
   "execution_count": 45,
   "id": "43e76926-e140-4b0c-a793-85b7c21d6d5a",
   "metadata": {},
   "outputs": [
    {
     "data": {
      "text/plain": [
       "3"
      ]
     },
     "execution_count": 45,
     "metadata": {},
     "output_type": "execute_result"
    }
   ],
   "source": [
    "tuple=(2,2,4,2,5,6)\n",
    "tuple.count(2)"
   ]
  },
  {
   "cell_type": "code",
   "execution_count": 48,
   "id": "995730e7-a7ba-4367-8389-5cb4ec200e8d",
   "metadata": {},
   "outputs": [
    {
     "data": {
      "text/plain": [
       "2"
      ]
     },
     "execution_count": 48,
     "metadata": {},
     "output_type": "execute_result"
    }
   ],
   "source": [
    "tuple.index(4)"
   ]
  },
  {
   "cell_type": "code",
   "execution_count": 50,
   "id": "9c587c66-80a4-446c-b76c-e570e22d654b",
   "metadata": {},
   "outputs": [],
   "source": [
    "li2=['kk','num','ajay']\n",
    "li2.sort()"
   ]
  },
  {
   "cell_type": "code",
   "execution_count": 51,
   "id": "656d83ae-03cd-46ea-a5cb-38566a8f3acc",
   "metadata": {},
   "outputs": [
    {
     "data": {
      "text/plain": [
       "['ajay', 'kk', 'num']"
      ]
     },
     "execution_count": 51,
     "metadata": {},
     "output_type": "execute_result"
    }
   ],
   "source": [
    "li2"
   ]
  },
  {
   "cell_type": "code",
   "execution_count": 52,
   "id": "32ea5b59-5a2f-4b8c-93d6-f8d9d8e16b56",
   "metadata": {},
   "outputs": [],
   "source": [
    "li4=[1,2,3,6,4,2,8,222,8,1]\n",
    "li4.sort()"
   ]
  },
  {
   "cell_type": "code",
   "execution_count": 53,
   "id": "09323575-b249-4196-94ce-28450704c620",
   "metadata": {},
   "outputs": [
    {
     "data": {
      "text/plain": [
       "[1, 1, 2, 2, 3, 4, 6, 8, 8, 222]"
      ]
     },
     "execution_count": 53,
     "metadata": {},
     "output_type": "execute_result"
    }
   ],
   "source": [
    "li4"
   ]
  },
  {
   "cell_type": "code",
   "execution_count": 55,
   "id": "94d2043c-dad1-4f37-8cbd-a82352c13509",
   "metadata": {},
   "outputs": [],
   "source": [
    "li4.sort(reverse=True)"
   ]
  },
  {
   "cell_type": "code",
   "execution_count": 56,
   "id": "a4d9dd64-1904-4099-b8e7-769f8ced2ac0",
   "metadata": {},
   "outputs": [
    {
     "data": {
      "text/plain": [
       "[222, 8, 8, 6, 4, 3, 2, 2, 1, 1]"
      ]
     },
     "execution_count": 56,
     "metadata": {},
     "output_type": "execute_result"
    }
   ],
   "source": [
    "li4"
   ]
  },
  {
   "cell_type": "code",
   "execution_count": 57,
   "id": "f263d4cc-5fcc-4ebd-b512-d76376de5388",
   "metadata": {},
   "outputs": [],
   "source": [
    "li5=['apple','banana','dog','cherry','alex']\n",
    "li5.sort()"
   ]
  },
  {
   "cell_type": "code",
   "execution_count": 58,
   "id": "a7e02433-c858-429a-8f32-0e30ef0015dd",
   "metadata": {},
   "outputs": [
    {
     "data": {
      "text/plain": [
       "['alex', 'apple', 'banana', 'cherry', 'dog']"
      ]
     },
     "execution_count": 58,
     "metadata": {},
     "output_type": "execute_result"
    }
   ],
   "source": [
    "li5"
   ]
  },
  {
   "cell_type": "code",
   "execution_count": 59,
   "id": "aaf892c7-835d-4f7f-a542-c17aa1489abe",
   "metadata": {},
   "outputs": [],
   "source": [
    "li5.sort(key=len)"
   ]
  },
  {
   "cell_type": "code",
   "execution_count": 60,
   "id": "39e8b6e8-030e-4c9d-9582-ef34fa0172fb",
   "metadata": {},
   "outputs": [
    {
     "data": {
      "text/plain": [
       "['dog', 'alex', 'apple', 'banana', 'cherry']"
      ]
     },
     "execution_count": 60,
     "metadata": {},
     "output_type": "execute_result"
    }
   ],
   "source": [
    "li5"
   ]
  },
  {
   "cell_type": "code",
   "execution_count": 63,
   "id": "fdd3dd8c-292f-4403-ae22-a15abf700592",
   "metadata": {},
   "outputs": [
    {
     "data": {
      "text/plain": [
       "20"
      ]
     },
     "execution_count": 63,
     "metadata": {},
     "output_type": "execute_result"
    }
   ],
   "source": [
    "a=10\n",
    "b=a << 1\n",
    "b"
   ]
  },
  {
   "cell_type": "code",
   "execution_count": 66,
   "id": "55098999-be2c-466e-99fe-55fecfe223d7",
   "metadata": {},
   "outputs": [
    {
     "data": {
      "text/plain": [
       "5"
      ]
     },
     "execution_count": 66,
     "metadata": {},
     "output_type": "execute_result"
    }
   ],
   "source": [
    "a=10\n",
    "b=a>>1\n",
    "b"
   ]
  },
  {
   "cell_type": "code",
   "execution_count": null,
   "id": "cd6af57e-6f0a-498c-bec7-8156309be466",
   "metadata": {},
   "outputs": [],
   "source": [
    "#Bitwise operator\n",
    "#and or Xor  nor leftwise rightwise\n",
    "       8  4  2  1\n",
    "10=    1  0  1  0\n",
    "12=    1  1  0  0\n",
    "\n",
    "and    1  0  0  0 =====8\n",
    "\n",
    "or     1 1  1  0 =====14\n",
    "\n",
    "XOR    0  1  1 0 ========6\n",
    "\n",
    "not(a) 1  0  1  0\n",
    "       0  1  0  1========5\n",
    "\n",
    "leftwise 32   16   8   4   2   1\n",
    "\n",
    "10=      0    0    1   0   1   0\n",
    "         0    1    0   1   0   0  ========20\n",
    "\n",
    "\n",
    "rightwise 0     0    0     1    0    1    ==========5"
   ]
  }
 ],
 "metadata": {
  "kernelspec": {
   "display_name": "Python 3 (ipykernel)",
   "language": "python",
   "name": "python3"
  },
  "language_info": {
   "codemirror_mode": {
    "name": "ipython",
    "version": 3
   },
   "file_extension": ".py",
   "mimetype": "text/x-python",
   "name": "python",
   "nbconvert_exporter": "python",
   "pygments_lexer": "ipython3",
   "version": "3.11.7"
  }
 },
 "nbformat": 4,
 "nbformat_minor": 5
}
