{
 "cells": [
  {
   "cell_type": "code",
   "execution_count": 1,
   "id": "87d737bb-3b2c-464e-afb2-f0b9eb9fb5f5",
   "metadata": {},
   "outputs": [
    {
     "name": "stdout",
     "output_type": "stream",
     "text": [
      "hello\n"
     ]
    }
   ],
   "source": [
    "print('hello')"
   ]
  },
  {
   "cell_type": "code",
   "execution_count": 4,
   "id": "c89b5096-4803-42c8-88d9-0fb9c591daef",
   "metadata": {},
   "outputs": [
    {
     "name": "stdout",
     "output_type": "stream",
     "text": [
      "my age is  22\n",
      "my age is ,22\n"
     ]
    }
   ],
   "source": [
    "#print funtion\n",
    "#concatenation\n",
    "#f-string\n",
    "print('my age is ',22)\n",
    "age=22\n",
    "print(f'my age is ,{age}')"
   ]
  },
  {
   "cell_type": "code",
   "execution_count": 5,
   "id": "ad002ea1-aea1-44a1-9877-165bd0ccb444",
   "metadata": {},
   "outputs": [
    {
     "name": "stdout",
     "output_type": "stream",
     "text": [
      "my name is kk i am a student\n"
     ]
    }
   ],
   "source": [
    "print('my name is kk',end=' ')\n",
    "print('i am a student')"
   ]
  },
  {
   "cell_type": "code",
   "execution_count": 10,
   "id": "13da92ff-bd7f-4c17-846a-e32d7badc770",
   "metadata": {},
   "outputs": [
    {
     "name": "stdout",
     "output_type": "stream",
     "text": [
      "my name is kartikey**i am from bhilwara\n",
      "bhilwara is nice city\n"
     ]
    }
   ],
   "source": [
    "#new line character\n",
    "# print('jaipur is a nice city',end=' \\n')\n",
    "# print('its in rajasthan',end=' ')\n",
    "# print('its in india')\n",
    "\n",
    "print('my name is kartikey',end='**')\n",
    "print('i am from bhilwara',end='\\n')\n",
    "print('bhilwara is nice city')"
   ]
  },
  {
   "cell_type": "code",
   "execution_count": 8,
   "id": "46880e93-3f85-4386-8b38-a9831b34bab8",
   "metadata": {},
   "outputs": [
    {
     "name": "stdout",
     "output_type": "stream",
     "text": [
      "<class 'int'>\n"
     ]
    }
   ],
   "source": [
    "#data types\n",
    "#string\n",
    "#int\n",
    "#float\n",
    "#boolean\n",
    "a=12\n",
    "print(type(a))"
   ]
  },
  {
   "cell_type": "code",
   "execution_count": 9,
   "id": "ab39edc1-dbd2-4d9e-8a48-6fbf625ab241",
   "metadata": {},
   "outputs": [
    {
     "data": {
      "text/plain": [
       "'12'"
      ]
     },
     "execution_count": 9,
     "metadata": {},
     "output_type": "execute_result"
    }
   ],
   "source": [
    "#conversion of data types\n",
    "#str(variable to be converted)\n",
    "#int (variable)\n",
    "#bool ,float(variable)\n",
    "str(a)"
   ]
  },
  {
   "cell_type": "code",
   "execution_count": 11,
   "id": "7c393452-4b60-497b-8af9-fd8e4c13b083",
   "metadata": {},
   "outputs": [
    {
     "data": {
      "text/plain": [
       "21.0"
      ]
     },
     "execution_count": 11,
     "metadata": {},
     "output_type": "execute_result"
    }
   ],
   "source": [
    "a=21\n",
    "float(a)"
   ]
  },
  {
   "cell_type": "code",
   "execution_count": 12,
   "id": "df14674f-48a6-4604-b421-0fb11760d565",
   "metadata": {},
   "outputs": [
    {
     "data": {
      "text/plain": [
       "'21'"
      ]
     },
     "execution_count": 12,
     "metadata": {},
     "output_type": "execute_result"
    }
   ],
   "source": [
    "str(a)"
   ]
  },
  {
   "cell_type": "code",
   "execution_count": 15,
   "id": "0c79e756-948b-48bd-9ab6-d96cd6b60e89",
   "metadata": {},
   "outputs": [
    {
     "ename": "ValueError",
     "evalue": "could not convert string to float: 'jaipur'",
     "output_type": "error",
     "traceback": [
      "\u001b[1;31m---------------------------------------------------------------------------\u001b[0m",
      "\u001b[1;31mValueError\u001b[0m                                Traceback (most recent call last)",
      "Cell \u001b[1;32mIn[15], line 2\u001b[0m\n\u001b[0;32m      1\u001b[0m a\u001b[38;5;241m=\u001b[39m\u001b[38;5;124m'\u001b[39m\u001b[38;5;124mjaipur\u001b[39m\u001b[38;5;124m'\u001b[39m\n\u001b[1;32m----> 2\u001b[0m \u001b[38;5;28mfloat\u001b[39m(a)\n",
      "\u001b[1;31mValueError\u001b[0m: could not convert string to float: 'jaipur'"
     ]
    }
   ],
   "source": [
    "a='jaipur'\n",
    "float(a)\n",
    "#this is will show error"
   ]
  },
  {
   "cell_type": "code",
   "execution_count": 14,
   "id": "4e3700e1-f5c9-4ea9-9bf0-2cf944119380",
   "metadata": {},
   "outputs": [
    {
     "data": {
      "text/plain": [
       "True"
      ]
     },
     "execution_count": 14,
     "metadata": {},
     "output_type": "execute_result"
    }
   ],
   "source": [
    "bool(a)"
   ]
  },
  {
   "cell_type": "code",
   "execution_count": 17,
   "id": "346c8500-8eb0-47da-a5db-d2b120a59452",
   "metadata": {},
   "outputs": [
    {
     "data": {
      "text/plain": [
       "True"
      ]
     },
     "execution_count": 17,
     "metadata": {},
     "output_type": "execute_result"
    }
   ],
   "source": [
    "b=21\n",
    "bool(b)"
   ]
  },
  {
   "cell_type": "code",
   "execution_count": 18,
   "id": "372bdbd7-66f7-4172-a016-096128468694",
   "metadata": {},
   "outputs": [
    {
     "data": {
      "text/plain": [
       "True"
      ]
     },
     "execution_count": 18,
     "metadata": {},
     "output_type": "execute_result"
    }
   ],
   "source": [
    "c=21.0\n",
    "bool(c)"
   ]
  },
  {
   "cell_type": "code",
   "execution_count": 19,
   "id": "7d3aac9d-3081-4c7a-91e2-8935cae21812",
   "metadata": {},
   "outputs": [
    {
     "data": {
      "text/plain": [
       "'21.0'"
      ]
     },
     "execution_count": 19,
     "metadata": {},
     "output_type": "execute_result"
    }
   ],
   "source": [
    "str(c)"
   ]
  },
  {
   "cell_type": "code",
   "execution_count": 20,
   "id": "e049e4ea-f871-4e82-b379-74231a2c142a",
   "metadata": {},
   "outputs": [
    {
     "data": {
      "text/plain": [
       "'21'"
      ]
     },
     "execution_count": 20,
     "metadata": {},
     "output_type": "execute_result"
    }
   ],
   "source": [
    "str(b)"
   ]
  },
  {
   "cell_type": "code",
   "execution_count": 21,
   "id": "4fceb7b1-50ca-4efc-be1a-3b255469182f",
   "metadata": {},
   "outputs": [
    {
     "data": {
      "text/plain": [
       "0.0"
      ]
     },
     "execution_count": 21,
     "metadata": {},
     "output_type": "execute_result"
    }
   ],
   "source": [
    "d=0\n",
    "float(d)"
   ]
  },
  {
   "cell_type": "code",
   "execution_count": 22,
   "id": "e3447f57-63e4-4844-b567-0240ad1a2a5a",
   "metadata": {},
   "outputs": [
    {
     "data": {
      "text/plain": [
       "False"
      ]
     },
     "execution_count": 22,
     "metadata": {},
     "output_type": "execute_result"
    }
   ],
   "source": [
    "bool(d)"
   ]
  },
  {
   "cell_type": "code",
   "execution_count": 23,
   "id": "941c3343-c431-4498-98d4-3a19805f91a6",
   "metadata": {},
   "outputs": [
    {
     "data": {
      "text/plain": [
       "False"
      ]
     },
     "execution_count": 23,
     "metadata": {},
     "output_type": "execute_result"
    }
   ],
   "source": [
    "e=''\n",
    "bool(e)"
   ]
  },
  {
   "cell_type": "code",
   "execution_count": 24,
   "id": "f28e1132-62a4-4a07-ba07-20f4b86917bb",
   "metadata": {},
   "outputs": [
    {
     "data": {
      "text/plain": [
       "''"
      ]
     },
     "execution_count": 24,
     "metadata": {},
     "output_type": "execute_result"
    }
   ],
   "source": [
    "str(e)"
   ]
  },
  {
   "cell_type": "code",
   "execution_count": 25,
   "id": "6ae84559-efc4-4374-8a69-57c97df5a61e",
   "metadata": {},
   "outputs": [
    {
     "ename": "ValueError",
     "evalue": "invalid literal for int() with base 10: ''",
     "output_type": "error",
     "traceback": [
      "\u001b[1;31m---------------------------------------------------------------------------\u001b[0m",
      "\u001b[1;31mValueError\u001b[0m                                Traceback (most recent call last)",
      "Cell \u001b[1;32mIn[25], line 1\u001b[0m\n\u001b[1;32m----> 1\u001b[0m \u001b[38;5;28mint\u001b[39m(e)\n",
      "\u001b[1;31mValueError\u001b[0m: invalid literal for int() with base 10: ''"
     ]
    }
   ],
   "source": [
    "int(e)"
   ]
  },
  {
   "cell_type": "code",
   "execution_count": null,
   "id": "a14e410f-cf6d-451b-89fc-a397649c021d",
   "metadata": {},
   "outputs": [],
   "source": []
  },
  {
   "cell_type": "code",
   "execution_count": 26,
   "id": "18824a4a-e1fa-4b8b-86e0-c7cfa6ef1f87",
   "metadata": {},
   "outputs": [
    {
     "ename": "ValueError",
     "evalue": "could not convert string to float: ''",
     "output_type": "error",
     "traceback": [
      "\u001b[1;31m---------------------------------------------------------------------------\u001b[0m",
      "\u001b[1;31mValueError\u001b[0m                                Traceback (most recent call last)",
      "Cell \u001b[1;32mIn[26], line 1\u001b[0m\n\u001b[1;32m----> 1\u001b[0m \u001b[38;5;28mfloat\u001b[39m(e)\n",
      "\u001b[1;31mValueError\u001b[0m: could not convert string to float: ''"
     ]
    }
   ],
   "source": [
    "float(e)"
   ]
  },
  {
   "cell_type": "code",
   "execution_count": 29,
   "id": "b97798eb-2603-421f-94f0-0ce7f73133d2",
   "metadata": {},
   "outputs": [
    {
     "name": "stdout",
     "output_type": "stream",
     "text": [
      "30\n",
      "-10\n",
      "200\n",
      "2.0\n",
      "10\n",
      "0\n",
      "100000000000000000000\n"
     ]
    }
   ],
   "source": [
    "#operators\n",
    "#artihmetic operator\n",
    "#(+,-,/,*,//,%,**)\n",
    "a=10\n",
    "b=20\n",
    "print(a+b)\n",
    "print(a-b)\n",
    "print(a*b)\n",
    "print(b/a)\n",
    "print(a%b)\n",
    "print(a//b)\n",
    "print(a**b)"
   ]
  },
  {
   "cell_type": "code",
   "execution_count": 30,
   "id": "1661ac98-fb52-40af-944f-3c821cd6db90",
   "metadata": {},
   "outputs": [
    {
     "name": "stdout",
     "output_type": "stream",
     "text": [
      "False\n",
      "True\n",
      "True\n",
      "False\n",
      "True\n",
      "False\n"
     ]
    }
   ],
   "source": [
    "#comparison operator\n",
    "#(==,!=,<,>,<=,>=)\n",
    "print(a == b)\n",
    "print(a!=b)\n",
    "print(a<b)\n",
    "print(a>b)\n",
    "print(a<=b)\n",
    "print(a>=b)\n"
   ]
  },
  {
   "cell_type": "code",
   "execution_count": 33,
   "id": "615b4e7d-1535-4b85-80b8-4c6832ca4465",
   "metadata": {},
   "outputs": [
    {
     "name": "stdout",
     "output_type": "stream",
     "text": [
      "7\n",
      "4\n",
      "12\n",
      "6.0\n",
      "216.0\n",
      "108.0\n",
      "0.0\n"
     ]
    }
   ],
   "source": [
    "#assignment operator\n",
    "#unary operand\n",
    "#(+=,-=,*=,/=,%=,//=,**=)\n",
    "x=5\n",
    "x+=2\n",
    "print(x)\n",
    "x-=3\n",
    "print(x)\n",
    "x*=3\n",
    "print(x)\n",
    "x/=2\n",
    "print(x)\n",
    "x**=3\n",
    "print(x)\n",
    "x//=2\n",
    "print(x)\n",
    "x%=2\n",
    "print(x)"
   ]
  },
  {
   "cell_type": "code",
   "execution_count": 32,
   "id": "7eec4656-f4e8-4f3a-a91d-aed312f18dfc",
   "metadata": {},
   "outputs": [
    {
     "name": "stdout",
     "output_type": "stream",
     "text": [
      "26\n",
      "24\n",
      "48\n",
      "24.0\n",
      "13824.0\n",
      "6912.0\n",
      "0.0\n"
     ]
    }
   ],
   "source": [
    "y=23\n",
    "y+=3\n",
    "print(y)\n",
    "y-=2\n",
    "print(y)\n",
    "y*=2\n",
    "print(y)\n",
    "y/=2\n",
    "print(y)\n",
    "y**=3\n",
    "print(y)\n",
    "y//=2\n",
    "print(y)\n",
    "y%=2\n",
    "print(y)"
   ]
  },
  {
   "cell_type": "code",
   "execution_count": null,
   "id": "95f0e2f5-5d41-421e-9c33-6cc3983e0858",
   "metadata": {},
   "outputs": [],
   "source": [
    "#5 + 4 -3 **6 // 5 *6 /7 %3\n",
    "# x=5\n",
    "# x+=4\n",
    "# print( homework)"
   ]
  }
 ],
 "metadata": {
  "kernelspec": {
   "display_name": "Python 3 (ipykernel)",
   "language": "python",
   "name": "python3"
  },
  "language_info": {
   "codemirror_mode": {
    "name": "ipython",
    "version": 3
   },
   "file_extension": ".py",
   "mimetype": "text/x-python",
   "name": "python",
   "nbconvert_exporter": "python",
   "pygments_lexer": "ipython3",
   "version": "3.11.7"
  }
 },
 "nbformat": 4,
 "nbformat_minor": 5
}
