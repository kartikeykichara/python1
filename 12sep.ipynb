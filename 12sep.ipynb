{
 "cells": [
  {
   "cell_type": "code",
   "execution_count": 6,
   "id": "1bba1ebc-65d5-4bee-bb36-7ca7cc159451",
   "metadata": {},
   "outputs": [
    {
     "data": {
      "text/plain": [
       "92"
      ]
     },
     "execution_count": 6,
     "metadata": {},
     "output_type": "execute_result"
    }
   ],
   "source": [
    "#list indexing and slicing\n",
    "#indexing\n",
    "list=[5,4,60,8,92,76,24,2,9,466,964,45]\n",
    "#positive \n",
    "#positive indexing\n",
    "list[4]\n"
   ]
  },
  {
   "cell_type": "code",
   "execution_count": 5,
   "id": "3332f52b-ceba-47a5-9ffa-390062e1dbea",
   "metadata": {},
   "outputs": [
    {
     "data": {
      "text/plain": [
       "466"
      ]
     },
     "execution_count": 5,
     "metadata": {},
     "output_type": "execute_result"
    }
   ],
   "source": [
    "list[9]"
   ]
  },
  {
   "cell_type": "code",
   "execution_count": 7,
   "id": "56f46b54-06a6-4833-9b22-75c3a7db27be",
   "metadata": {},
   "outputs": [
    {
     "data": {
      "text/plain": [
       "76"
      ]
     },
     "execution_count": 7,
     "metadata": {},
     "output_type": "execute_result"
    }
   ],
   "source": [
    "list[5]"
   ]
  },
  {
   "cell_type": "code",
   "execution_count": 8,
   "id": "6c4b5cb6-5254-4e53-b72a-21803a47bb56",
   "metadata": {},
   "outputs": [
    {
     "data": {
      "text/plain": [
       "4"
      ]
     },
     "execution_count": 8,
     "metadata": {},
     "output_type": "execute_result"
    }
   ],
   "source": [
    "list[1]"
   ]
  },
  {
   "cell_type": "code",
   "execution_count": 9,
   "id": "271e66d8-8f6d-42e4-b9f6-a29af41f3786",
   "metadata": {},
   "outputs": [
    {
     "data": {
      "text/plain": [
       "45"
      ]
     },
     "execution_count": 9,
     "metadata": {},
     "output_type": "execute_result"
    }
   ],
   "source": [
    "list[11]"
   ]
  },
  {
   "cell_type": "code",
   "execution_count": 10,
   "id": "3732b725-b78a-4ba5-9588-33530ca9872c",
   "metadata": {},
   "outputs": [
    {
     "data": {
      "text/plain": [
       "9"
      ]
     },
     "execution_count": 10,
     "metadata": {},
     "output_type": "execute_result"
    }
   ],
   "source": [
    "#negative indexing\n",
    "list[-4]"
   ]
  },
  {
   "cell_type": "code",
   "execution_count": 11,
   "id": "f8206415-5283-4bb3-831f-f884890b5fa2",
   "metadata": {},
   "outputs": [
    {
     "data": {
      "text/plain": [
       "8"
      ]
     },
     "execution_count": 11,
     "metadata": {},
     "output_type": "execute_result"
    }
   ],
   "source": [
    "list[-9]"
   ]
  },
  {
   "cell_type": "code",
   "execution_count": 12,
   "id": "f5eb6643-ceb3-4251-8132-e3232bb15fa7",
   "metadata": {},
   "outputs": [
    {
     "data": {
      "text/plain": [
       "964"
      ]
     },
     "execution_count": 12,
     "metadata": {},
     "output_type": "execute_result"
    }
   ],
   "source": [
    "list[-2]"
   ]
  },
  {
   "cell_type": "code",
   "execution_count": 13,
   "id": "726109eb-1c4b-4a43-b46e-61978094fee0",
   "metadata": {},
   "outputs": [
    {
     "data": {
      "text/plain": [
       "24"
      ]
     },
     "execution_count": 13,
     "metadata": {},
     "output_type": "execute_result"
    }
   ],
   "source": [
    "list[-6]"
   ]
  },
  {
   "cell_type": "code",
   "execution_count": 14,
   "id": "bf212d96-d121-4c06-9f1d-f159684581de",
   "metadata": {},
   "outputs": [
    {
     "data": {
      "text/plain": [
       "2"
      ]
     },
     "execution_count": 14,
     "metadata": {},
     "output_type": "execute_result"
    }
   ],
   "source": [
    "list[-5]"
   ]
  },
  {
   "cell_type": "code",
   "execution_count": 17,
   "id": "b76d4d48-dcf3-463a-a1ad-0d207017632c",
   "metadata": {},
   "outputs": [
    {
     "data": {
      "text/plain": [
       "[4, 60, 8]"
      ]
     },
     "execution_count": 17,
     "metadata": {},
     "output_type": "execute_result"
    }
   ],
   "source": [
    "#slicing\n",
    "#to slice a part of list or to get a part of list\n",
    "#[start:end+1:[stepsize]\n",
    "list[1:4]"
   ]
  },
  {
   "cell_type": "code",
   "execution_count": 18,
   "id": "cf475be3-5348-4fa2-970b-ed66ee7edcc9",
   "metadata": {},
   "outputs": [
    {
     "data": {
      "text/plain": [
       "[24, 2, 9, 466]"
      ]
     },
     "execution_count": 18,
     "metadata": {},
     "output_type": "execute_result"
    }
   ],
   "source": [
    "list[6:10]"
   ]
  },
  {
   "cell_type": "code",
   "execution_count": 19,
   "id": "b330bc3b-db38-4d53-bc91-8c42c87a3380",
   "metadata": {},
   "outputs": [
    {
     "data": {
      "text/plain": [
       "[92, 76, 24]"
      ]
     },
     "execution_count": 19,
     "metadata": {},
     "output_type": "execute_result"
    }
   ],
   "source": [
    "list[4:7]"
   ]
  },
  {
   "cell_type": "code",
   "execution_count": 20,
   "id": "e915da40-3d3a-43a3-bd77-f54d3cc4c0f7",
   "metadata": {},
   "outputs": [
    {
     "data": {
      "text/plain": [
       "[60, 8, 92]"
      ]
     },
     "execution_count": 20,
     "metadata": {},
     "output_type": "execute_result"
    }
   ],
   "source": [
    "list[2:5]"
   ]
  },
  {
   "cell_type": "code",
   "execution_count": 21,
   "id": "e18d7d35-8ffc-43cc-ada8-4434460268e4",
   "metadata": {},
   "outputs": [
    {
     "data": {
      "text/plain": [
       "[4, 60, 8, 92, 76, 24, 2, 9, 466, 964, 45]"
      ]
     },
     "execution_count": 21,
     "metadata": {},
     "output_type": "execute_result"
    }
   ],
   "source": [
    "list[1:12]"
   ]
  },
  {
   "cell_type": "code",
   "execution_count": 22,
   "id": "504d023e-7faa-46b5-9d3a-16df42a8979a",
   "metadata": {},
   "outputs": [
    {
     "data": {
      "text/plain": [
       "[5, 60, 92, 24, 9, 964]"
      ]
     },
     "execution_count": 22,
     "metadata": {},
     "output_type": "execute_result"
    }
   ],
   "source": [
    "list[0:12:2]"
   ]
  },
  {
   "cell_type": "code",
   "execution_count": 23,
   "id": "03e084ce-d972-48ac-892f-4903eb1dc1ca",
   "metadata": {},
   "outputs": [
    {
     "data": {
      "text/plain": [
       "[92, 2]"
      ]
     },
     "execution_count": 23,
     "metadata": {},
     "output_type": "execute_result"
    }
   ],
   "source": [
    "list[4:8:3]"
   ]
  },
  {
   "cell_type": "code",
   "execution_count": 24,
   "id": "9f0e0578-f06a-42e3-9405-0dbc4c39390c",
   "metadata": {},
   "outputs": [
    {
     "data": {
      "text/plain": [
       "[60, 24, 964]"
      ]
     },
     "execution_count": 24,
     "metadata": {},
     "output_type": "execute_result"
    }
   ],
   "source": [
    "list[2:12:4]"
   ]
  },
  {
   "cell_type": "code",
   "execution_count": 29,
   "id": "cc1fd1fb-2aed-4a13-96e7-961ae4dc3697",
   "metadata": {},
   "outputs": [
    {
     "data": {
      "text/plain": [
       "[2, 9, 466]"
      ]
     },
     "execution_count": 29,
     "metadata": {},
     "output_type": "execute_result"
    }
   ],
   "source": [
    "list[-5:-2]"
   ]
  },
  {
   "cell_type": "code",
   "execution_count": 27,
   "id": "a431b7d9-4984-4315-b862-951cbee979cf",
   "metadata": {},
   "outputs": [
    {
     "data": {
      "text/plain": [
       "[4, 60, 8, 92, 76, 24, 2, 9]"
      ]
     },
     "execution_count": 27,
     "metadata": {},
     "output_type": "execute_result"
    }
   ],
   "source": [
    "list[-11:-3]"
   ]
  },
  {
   "cell_type": "code",
   "execution_count": 31,
   "id": "a67aa04f-2375-4fbe-8caa-ccaa4ce7d57a",
   "metadata": {},
   "outputs": [
    {
     "data": {
      "text/plain": [
       "[20, 50]"
      ]
     },
     "execution_count": 31,
     "metadata": {},
     "output_type": "execute_result"
    }
   ],
   "source": [
    "list1=[10,20,30,40,50,60,70,80,90]\n",
    "list1[1:7:3]"
   ]
  },
  {
   "cell_type": "code",
   "execution_count": null,
   "id": "360d0b19-396b-4c90-8420-10b8bf5dc51d",
   "metadata": {},
   "outputs": [],
   "source": [
    "list1[-9:-3:-1]"
   ]
  }
 ],
 "metadata": {
  "kernelspec": {
   "display_name": "Python 3 (ipykernel)",
   "language": "python",
   "name": "python3"
  },
  "language_info": {
   "codemirror_mode": {
    "name": "ipython",
    "version": 3
   },
   "file_extension": ".py",
   "mimetype": "text/x-python",
   "name": "python",
   "nbconvert_exporter": "python",
   "pygments_lexer": "ipython3",
   "version": "3.11.7"
  }
 },
 "nbformat": 4,
 "nbformat_minor": 5
}
