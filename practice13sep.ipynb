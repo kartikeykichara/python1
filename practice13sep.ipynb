{
 "cells": [
  {
   "cell_type": "code",
   "execution_count": 1,
   "id": "eefc9a2f-9688-4fc8-b0fd-03a05fede263",
   "metadata": {},
   "outputs": [
    {
     "name": "stdout",
     "output_type": "stream",
     "text": [
      "[2, 3, 4, 5, 6]\n"
     ]
    }
   ],
   "source": [
    "my_list = [0, 1, 2, 3, 4, 5, 6, 7, 8, 9]\n",
    "print(my_list[2:7])\n"
   ]
  },
  {
   "cell_type": "code",
   "execution_count": 2,
   "id": "773146bb-0c72-4f3d-95c8-b58106fd6bf3",
   "metadata": {},
   "outputs": [
    {
     "name": "stdout",
     "output_type": "stream",
     "text": [
      "[30, 40, 50]\n"
     ]
    }
   ],
   "source": [
    "my_list = [10, 20, 30, 40, 50, 60, 70]\n",
    "print(my_list[-5:-2])\n"
   ]
  },
  {
   "cell_type": "code",
   "execution_count": 3,
   "id": "a4e8687c-b672-4691-a82f-f9c40bc51d2f",
   "metadata": {},
   "outputs": [
    {
     "name": "stdout",
     "output_type": "stream",
     "text": [
      "['b', 'd']\n"
     ]
    }
   ],
   "source": [
    "my_list = ['a', 'b', 'c', 'd', 'e', 'f']\n",
    "print(my_list[1:5:2])\n"
   ]
  },
  {
   "cell_type": "code",
   "execution_count": 4,
   "id": "92903cf1-79de-401d-871b-caf53fdf11e0",
   "metadata": {},
   "outputs": [
    {
     "data": {
      "text/plain": [
       "[5, 4, 3, 2, 1]"
      ]
     },
     "execution_count": 4,
     "metadata": {},
     "output_type": "execute_result"
    }
   ],
   "source": [
    "my_list = [1, 2, 3, 4, 5]\n",
    "my_list[::-1]"
   ]
  },
  {
   "cell_type": "code",
   "execution_count": 5,
   "id": "ace4b300-12c6-48ee-b12a-1d083d251075",
   "metadata": {},
   "outputs": [
    {
     "name": "stdout",
     "output_type": "stream",
     "text": [
      "[10, 20, 30]\n",
      "[30, 40, 50]\n"
     ]
    }
   ],
   "source": [
    "my_list = [10, 20, 30, 40, 50]\n",
    "print(my_list[:3])\n",
    "print(my_list[2:])\n"
   ]
  },
  {
   "cell_type": "code",
   "execution_count": 6,
   "id": "d29551b7-fa10-414f-86a4-ac0919297dfe",
   "metadata": {},
   "outputs": [
    {
     "name": "stdout",
     "output_type": "stream",
     "text": [
      "World\n"
     ]
    }
   ],
   "source": [
    "my_string = \"Hello, World!\"\n",
    "print(my_string[7:12])\n"
   ]
  },
  {
   "cell_type": "code",
   "execution_count": 7,
   "id": "87cd03c1-5db8-4d49-9d06-824e4f10014d",
   "metadata": {},
   "outputs": [
    {
     "name": "stdout",
     "output_type": "stream",
     "text": [
      "[200, 300, 400]\n"
     ]
    }
   ],
   "source": [
    "my_list = [100, 200, 300, 400]\n",
    "print(my_list[1:10])\n"
   ]
  },
  {
   "cell_type": "code",
   "execution_count": 9,
   "id": "a170c939-fcd7-434c-8b43-a817dc1af17c",
   "metadata": {},
   "outputs": [
    {
     "data": {
      "text/plain": [
       "[5, 10, 15, 20]"
      ]
     },
     "execution_count": 9,
     "metadata": {},
     "output_type": "execute_result"
    }
   ],
   "source": [
    "original_list = [5, 10, 15, 20]\n",
    "original_list[:]\n"
   ]
  },
  {
   "cell_type": "code",
   "execution_count": 10,
   "id": "e85a3138-a01f-436b-8923-cc70168d2ef7",
   "metadata": {},
   "outputs": [
    {
     "name": "stdout",
     "output_type": "stream",
     "text": [
      "[[4, 5, 6], [7, 8, 9]]\n"
     ]
    }
   ],
   "source": [
    "matrix = [\n",
    "    [1, 2, 3],\n",
    "    [4, 5, 6],\n",
    "    [7, 8, 9]\n",
    "]\n",
    "print(matrix[1:3])\n"
   ]
  },
  {
   "cell_type": "code",
   "execution_count": 12,
   "id": "fa7869cf-9934-418c-aabd-d834bca48a56",
   "metadata": {},
   "outputs": [],
   "source": [
    "# my_list = [0, 1, 2, 3, 4, 5]\n",
    "# s = slice(1, 5, 2)\n",
    "# print(my_list[s])\n",
    "\n",
    "\n",
    "#doubt question"
   ]
  },
  {
   "cell_type": "code",
   "execution_count": null,
   "id": "c06fa6c9-fbf9-4763-a241-268bb3219455",
   "metadata": {},
   "outputs": [],
   "source": []
  }
 ],
 "metadata": {
  "kernelspec": {
   "display_name": "Python 3 (ipykernel)",
   "language": "python",
   "name": "python3"
  },
  "language_info": {
   "codemirror_mode": {
    "name": "ipython",
    "version": 3
   },
   "file_extension": ".py",
   "mimetype": "text/x-python",
   "name": "python",
   "nbconvert_exporter": "python",
   "pygments_lexer": "ipython3",
   "version": "3.11.7"
  }
 },
 "nbformat": 4,
 "nbformat_minor": 5
}
