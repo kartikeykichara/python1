{
 "cells": [
  {
   "cell_type": "code",
   "execution_count": 7,
   "id": "efaca40d-0401-4800-8fff-188ffdaac94d",
   "metadata": {},
   "outputs": [
    {
     "name": "stdout",
     "output_type": "stream",
     "text": [
      "[1, 2, 3, 9.8, True, 'hello']\n",
      "[4, 5, 6, 10.0, False, 'this side is kk']\n",
      "(1, 2, 3, 9.8, True, 'hello')\n",
      "(7, 8, 9, True, 5.5, 'kk')\n"
     ]
    }
   ],
   "source": [
    "#data types\n",
    "\n",
    "#numeric datatype ------ datatypes contain that includes numeric values\n",
    "  #Integer -----contains integer values(-infinty to +infinity)(-1,3,5.........)\n",
    "  #Float ---------Contains Decimal point numbers(2.4,3.5.....)\n",
    "  #Complex ---------- contains real and imaginary numbers(3+2j)(complex function is used)\n",
    "\n",
    "\n",
    "#character datatype\n",
    "    #string--------- character or sequence of characters\n",
    "    #list--------ordered,mutable collection of multiple items that can be heterogenous\n",
    "        #ordered\n",
    "        #mutable\n",
    "        #multiple items\n",
    "        #heterogeneous -------different data types\n",
    "        #started and ended with square brackets\n",
    "list1=[1,2,3,9.8,True,'hello']\n",
    "print(list1)\n",
    "list2=[4,5,6,10.0,False,'this side is kk']\n",
    "print(list2)\n",
    "    #tuple-------ordered,immutable collection of items that can be heterogeneous\n",
    "        #start and ended with paranthesis\n",
    "        #ordered\n",
    "        #Immutable\n",
    "        #multiple items\n",
    "        #heterogenous\n",
    "tuple=(1,2,3,9.8,True,'hello')\n",
    "print(tuple)\n",
    "tuple1=(7,8,9,True,5.5,'kk')\n",
    "print(tuple1)"
   ]
  },
  {
   "cell_type": "code",
   "execution_count": 9,
   "id": "ace7b82b-85b9-4953-a027-b36fd1a656c7",
   "metadata": {},
   "outputs": [
    {
     "name": "stdout",
     "output_type": "stream",
     "text": [
      "[1, 2, 3, 5]\n"
     ]
    }
   ],
   "source": [
    "#list methods\n",
    "#append(),extend(),insert(),remove(),pop(),clear(),index(),count(),sort(),reverse(),copy()\n",
    "\n",
    "#append-adds a single element to  the end of the list\n",
    "li=[1,2,3]\n",
    "li.append(5)\n",
    "print(li)"
   ]
  },
  {
   "cell_type": "code",
   "execution_count": 10,
   "id": "82f0fca0-4b3c-4420-ae42-00b86f9f8a4e",
   "metadata": {},
   "outputs": [
    {
     "name": "stdout",
     "output_type": "stream",
     "text": [
      "[1, 2, 3, 5, 1, 8, 6, 7]\n"
     ]
    }
   ],
   "source": [
    "#extend()------adds multiple elements or new list to the existing list\n",
    "li.extend([1,8,6,7,])\n",
    "print(li)"
   ]
  },
  {
   "cell_type": "code",
   "execution_count": 11,
   "id": "0265fb00-c90d-4bba-9d7a-82541d7143c4",
   "metadata": {},
   "outputs": [
    {
     "name": "stdout",
     "output_type": "stream",
     "text": [
      "[1, 2, 100, 3, 5, 1, 8, 6, 7]\n"
     ]
    }
   ],
   "source": [
    "#insertn-------- adds the element to a specific position\n",
    "li.insert(2,100)\n",
    "print(li)"
   ]
  },
  {
   "cell_type": "code",
   "execution_count": 12,
   "id": "04f879e2-3a7c-447c-be15-5b5f6c9a17f4",
   "metadata": {},
   "outputs": [
    {
     "name": "stdout",
     "output_type": "stream",
     "text": [
      "[1, 2, 3, 5, 1, 8, 6, 7]\n"
     ]
    }
   ],
   "source": [
    "#remove----removes a specific element\n",
    "        #throws error if the element is not present\n",
    "#when the element is present-----it removes the element\n",
    "li.remove(100)\n",
    "print(li)"
   ]
  },
  {
   "cell_type": "code",
   "execution_count": 14,
   "id": "93ae49a0-6f62-4cc0-9358-36ae08db6cae",
   "metadata": {},
   "outputs": [],
   "source": [
    "# #when the element is not present in the list --------it throws error\n",
    "# li.remove(100)\n",
    "# print(li)"
   ]
  },
  {
   "cell_type": "code",
   "execution_count": 15,
   "id": "24991a7d-4bfb-43ac-992e-abcba8304538",
   "metadata": {},
   "outputs": [
    {
     "name": "stdout",
     "output_type": "stream",
     "text": [
      "[1, 2, 34, 5, 6]\n"
     ]
    }
   ],
   "source": [
    "li1=[1,2,34,5]\n",
    "li1.append(6)\n",
    "print(li1)"
   ]
  },
  {
   "cell_type": "code",
   "execution_count": 16,
   "id": "d341fbf0-6cba-4fbb-bdd7-7c5e6d0007cb",
   "metadata": {},
   "outputs": [
    {
     "name": "stdout",
     "output_type": "stream",
     "text": [
      "[1, 2, 34, 5, 6, 1, 2, 3, 4, 5]\n"
     ]
    }
   ],
   "source": [
    "li1.extend([1,2,3,4,5])\n",
    "print(li1)"
   ]
  },
  {
   "cell_type": "code",
   "execution_count": 17,
   "id": "acbc0c1d-87ca-4171-9349-3885669980bf",
   "metadata": {},
   "outputs": [
    {
     "name": "stdout",
     "output_type": "stream",
     "text": [
      "[1, 2, 34, 5, 6, 45, 1, 2, 3, 4, 5]\n"
     ]
    }
   ],
   "source": [
    "li1.insert(5,45)\n",
    "print(li1)"
   ]
  },
  {
   "cell_type": "code",
   "execution_count": 22,
   "id": "887a9ad2-25ca-4575-86e0-deea769be980",
   "metadata": {},
   "outputs": [],
   "source": [
    "# li1.remove(34)\n",
    "# print(li1)"
   ]
  },
  {
   "cell_type": "code",
   "execution_count": 20,
   "id": "2c87159f-7245-46ab-912e-dc37646ced0f",
   "metadata": {},
   "outputs": [],
   "source": [
    "# li1.remove(34)\n",
    "# print(li1)"
   ]
  },
  {
   "cell_type": "code",
   "execution_count": 23,
   "id": "b1b54a4d-533d-4fb7-9712-e1c9d5dd8313",
   "metadata": {},
   "outputs": [
    {
     "name": "stdout",
     "output_type": "stream",
     "text": [
      "[1, 2, 5, 1, 8, 6, 7]\n"
     ]
    }
   ],
   "source": [
    "#pop ----- removes the element on the position\n",
    "li.pop(2)\n",
    "print(li)"
   ]
  },
  {
   "cell_type": "code",
   "execution_count": 24,
   "id": "3a24e3c2-9a78-4ff9-9881-4ef89ba33d69",
   "metadata": {},
   "outputs": [
    {
     "name": "stdout",
     "output_type": "stream",
     "text": [
      "[1, 2, 5, 1, 8, 6]\n"
     ]
    }
   ],
   "source": [
    "li.pop()\n",
    "print(li)"
   ]
  },
  {
   "cell_type": "code",
   "execution_count": 27,
   "id": "7c633a68-46b5-4ab1-bd8c-655b07cdc1aa",
   "metadata": {},
   "outputs": [],
   "source": [
    "# li.remove()\n",
    "#give error()"
   ]
  },
  {
   "cell_type": "code",
   "execution_count": 29,
   "id": "42214bf7-24af-4db0-8823-1e7e4df079cd",
   "metadata": {},
   "outputs": [
    {
     "name": "stdout",
     "output_type": "stream",
     "text": [
      "[]\n"
     ]
    }
   ],
   "source": [
    "# clear---will remove all the elements\n",
    "li.clear()\n",
    "print(li)\n",
    "#will remove the elements the structure will be there as it is"
   ]
  },
  {
   "cell_type": "code",
   "execution_count": 30,
   "id": "914a0e8b-9c8e-4b84-8965-d6d0aee6c34b",
   "metadata": {},
   "outputs": [
    {
     "data": {
      "text/plain": [
       "2"
      ]
     },
     "execution_count": 30,
     "metadata": {},
     "output_type": "execute_result"
    }
   ],
   "source": [
    "li=[1,1,6,6,68,29,989,6,596,9,9,6,5965,]\n",
    "li.index(6)"
   ]
  },
  {
   "cell_type": "code",
   "execution_count": 31,
   "id": "9b0032c5-1028-4dbf-a8dd-f2a5605614e3",
   "metadata": {},
   "outputs": [],
   "source": [
    "#count----gives the count "
   ]
  },
  {
   "cell_type": "code",
   "execution_count": 32,
   "id": "ac124a35-2c18-4627-b3da-c479a859d420",
   "metadata": {},
   "outputs": [
    {
     "name": "stdout",
     "output_type": "stream",
     "text": [
      "[1, 2, 5, 45, 1, 2, 3, 4, 5]\n"
     ]
    }
   ],
   "source": [
    "li1.pop(3)\n",
    "print(li1)"
   ]
  },
  {
   "cell_type": "code",
   "execution_count": 36,
   "id": "ca3ebc91-a39e-40b3-b542-f7ce3d6ff786",
   "metadata": {},
   "outputs": [],
   "source": [
    "li.clear()"
   ]
  },
  {
   "cell_type": "code",
   "execution_count": 34,
   "id": "59219d8d-760b-435f-9e95-3d66816a04d4",
   "metadata": {},
   "outputs": [
    {
     "data": {
      "text/plain": [
       "1"
      ]
     },
     "execution_count": 34,
     "metadata": {},
     "output_type": "execute_result"
    }
   ],
   "source": [
    "li1.index(2)"
   ]
  },
  {
   "cell_type": "code",
   "execution_count": 35,
   "id": "9ca5e741-6cef-400b-bc65-1981fd8e62c4",
   "metadata": {},
   "outputs": [
    {
     "data": {
      "text/plain": [
       "2"
      ]
     },
     "execution_count": 35,
     "metadata": {},
     "output_type": "execute_result"
    }
   ],
   "source": [
    "li1.count(2)"
   ]
  },
  {
   "cell_type": "code",
   "execution_count": 38,
   "id": "5d9e11c8-cf19-4d0e-b8cb-ca04147846a3",
   "metadata": {},
   "outputs": [
    {
     "name": "stdout",
     "output_type": "stream",
     "text": [
      "[]\n"
     ]
    }
   ],
   "source": [
    "li1.clear()\n",
    "print(li1)"
   ]
  },
  {
   "cell_type": "code",
   "execution_count": null,
   "id": "a0107b68-8a9b-4e76-a47d-a8c5b42e66b2",
   "metadata": {},
   "outputs": [],
   "source": []
  }
 ],
 "metadata": {
  "kernelspec": {
   "display_name": "Python 3 (ipykernel)",
   "language": "python",
   "name": "python3"
  },
  "language_info": {
   "codemirror_mode": {
    "name": "ipython",
    "version": 3
   },
   "file_extension": ".py",
   "mimetype": "text/x-python",
   "name": "python",
   "nbconvert_exporter": "python",
   "pygments_lexer": "ipython3",
   "version": "3.11.7"
  }
 },
 "nbformat": 4,
 "nbformat_minor": 5
}
