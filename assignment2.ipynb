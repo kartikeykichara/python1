{
 "cells": [
  {
   "cell_type": "code",
   "execution_count": 1,
   "id": "78b91574-3d92-4f57-a190-bee93287c6e9",
   "metadata": {},
   "outputs": [],
   "source": [
    "#1. What is list indexing in Python?\n",
    "# used to show elements throws its index value .\n",
    "# there are two types of indexing---1.positive (0,1,2.....)\n",
    "#                                   2.negative(....,-2,-1)"
   ]
  },
  {
   "cell_type": "code",
   "execution_count": 2,
   "id": "9f974d10-2152-4849-b84d-5ca8bb4ea680",
   "metadata": {},
   "outputs": [
    {
     "data": {
      "text/plain": [
       "1"
      ]
     },
     "execution_count": 2,
     "metadata": {},
     "output_type": "execute_result"
    }
   ],
   "source": [
    "#2. How do you access the first element of a list?\n",
    "list=[1,25,69,38]\n",
    "list[0]"
   ]
  },
  {
   "cell_type": "code",
   "execution_count": 3,
   "id": "f980f3df-a6e7-4b54-95d0-852368425d69",
   "metadata": {},
   "outputs": [
    {
     "data": {
      "text/plain": [
       "30"
      ]
     },
     "execution_count": 3,
     "metadata": {},
     "output_type": "execute_result"
    }
   ],
   "source": [
    "#3. What is the result of my_list[2] if my_list = [10, 20, 30, 40]?\n",
    "my_list=[10,20,30,40]\n",
    "my_list[2]"
   ]
  },
  {
   "cell_type": "code",
   "execution_count": 4,
   "id": "e793910c-8695-4329-b3d8-2f845e97727b",
   "metadata": {},
   "outputs": [
    {
     "data": {
      "text/plain": [
       "38"
      ]
     },
     "execution_count": 4,
     "metadata": {},
     "output_type": "execute_result"
    }
   ],
   "source": [
    "#4. How can you access the last element of a list?\n",
    "#by indexing\n",
    "list=[1,25,69,38]\n",
    "list[3]"
   ]
  },
  {
   "cell_type": "code",
   "execution_count": 6,
   "id": "198f7a4e-54f7-4dff-bbfe-11c5ac844e63",
   "metadata": {},
   "outputs": [
    {
     "data": {
      "text/plain": [
       "5"
      ]
     },
     "execution_count": 6,
     "metadata": {},
     "output_type": "execute_result"
    }
   ],
   "source": [
    "#5. What will my_list[-1] return if my_list = [1, 2, 3, 4, 5]?\n",
    "my_list = [1, 2, 3, 4, 5]\n",
    "my_list[-1]\n",
    "#it will return the last value of the list"
   ]
  },
  {
   "cell_type": "code",
   "execution_count": 7,
   "id": "60a700e2-2d06-45c7-9639-7fae57fae860",
   "metadata": {},
   "outputs": [
    {
     "data": {
      "text/plain": [
       "[2, 3, 4, 5]"
      ]
     },
     "execution_count": 7,
     "metadata": {},
     "output_type": "execute_result"
    }
   ],
   "source": [
    "#6. How do you access a range of elements in a list?\n",
    "#by slicing\n",
    "my_list = [1, 2, 3, 4, 5]\n",
    "my_list[1:5]"
   ]
  },
  {
   "cell_type": "code",
   "execution_count": 9,
   "id": "7b472916-42c8-4670-ae34-80b137e455ad",
   "metadata": {},
   "outputs": [
    {
     "data": {
      "text/plain": [
       "[20, 30, 40]"
      ]
     },
     "execution_count": 9,
     "metadata": {},
     "output_type": "execute_result"
    }
   ],
   "source": [
    "#7. What does my_list[1:4] return for my_list = [10, 20, 30, 40, 50]?\n",
    "my_list = [10, 20, 30, 40, 50]\n",
    "my_list[1:4]\n",
    "#it will return indexing 1 to 3 "
   ]
  },
  {
   "cell_type": "code",
   "execution_count": 10,
   "id": "02ad54e1-86bd-4e96-a25d-1f6b953f00ee",
   "metadata": {},
   "outputs": [
    {
     "data": {
      "text/plain": [
       "['a', 'b', 'c']"
      ]
     },
     "execution_count": 10,
     "metadata": {},
     "output_type": "execute_result"
    }
   ],
   "source": [
    "#8. What is the result of my_list[:3] if my_list = ['a', 'b','c', 'd']?\n",
    "my_list = ['a', 'b','c', 'd']\n",
    "my_list[:3]"
   ]
  },
  {
   "cell_type": "code",
   "execution_count": 11,
   "id": "43861a3a-eb4c-45c2-a3b2-05f3f779bc85",
   "metadata": {},
   "outputs": [
    {
     "data": {
      "text/plain": [
       "[20, 30, 40, 50]"
      ]
     },
     "execution_count": 11,
     "metadata": {},
     "output_type": "execute_result"
    }
   ],
   "source": [
    "#9. How do you get a sublist from the beginning to a specified index?\n",
    "my_list = [10, 20, 30, 40, 50]\n",
    "my_list[1:5]"
   ]
  },
  {
   "cell_type": "code",
   "execution_count": 13,
   "id": "665b2ec9-c762-4549-9233-59cc452deb3b",
   "metadata": {},
   "outputs": [
    {
     "data": {
      "text/plain": [
       "[3, 4, 5]"
      ]
     },
     "execution_count": 13,
     "metadata": {},
     "output_type": "execute_result"
    }
   ],
   "source": [
    "#10. What will my_list[2:] return if my_list = [1, 2, 3, 4, 5]?\n",
    "my_list = [1, 2, 3, 4, 5]\n",
    "my_list[2:]"
   ]
  },
  {
   "cell_type": "code",
   "execution_count": 15,
   "id": "4ddb5002-a2a0-404c-ba2f-16cbf60b7be5",
   "metadata": {},
   "outputs": [
    {
     "data": {
      "text/plain": [
       "[5, 4, 3]"
      ]
     },
     "execution_count": 15,
     "metadata": {},
     "output_type": "execute_result"
    }
   ],
   "source": [
    "#11. How can you reverse a list using slicing?\n",
    "my_list = [1, 2, 3, 4, 5]\n",
    "my_list[-1:-4:-1]"
   ]
  },
  {
   "cell_type": "code",
   "execution_count": 16,
   "id": "2a90e098-a092-4c81-a012-dbd991594a59",
   "metadata": {},
   "outputs": [
    {
     "data": {
      "text/plain": [
       "[3, 2, 1]"
      ]
     },
     "execution_count": 16,
     "metadata": {},
     "output_type": "execute_result"
    }
   ],
   "source": [
    "#12. What does my_list[::-1] do if my_list = [1, 2, 3]?\n",
    "my_list = [1, 2, 3]\n",
    "my_list[::-1]"
   ]
  },
  {
   "cell_type": "code",
   "execution_count": 17,
   "id": "7738b6bf-f97d-4816-891b-00b7bd477a93",
   "metadata": {},
   "outputs": [
    {
     "data": {
      "text/plain": [
       "[1, 3, 5]"
      ]
     },
     "execution_count": 17,
     "metadata": {},
     "output_type": "execute_result"
    }
   ],
   "source": [
    "#13. How do you extract every second element from a list?\n",
    "my_list = [1, 2, 3, 4, 5]\n",
    "my_list[0:5:2]"
   ]
  },
  {
   "cell_type": "code",
   "execution_count": 18,
   "id": "725777be-ef41-45a1-b110-28df795657a0",
   "metadata": {},
   "outputs": [
    {
     "data": {
      "text/plain": [
       "[10, 30, 50]"
      ]
     },
     "execution_count": 18,
     "metadata": {},
     "output_type": "execute_result"
    }
   ],
   "source": [
    "#14. What will my_list[::2] return if my_list = [10, 20, 30, 40, 50]?\n",
    "my_list = [10, 20, 30, 40, 50]\n",
    "my_list[::2]"
   ]
  },
  {
   "cell_type": "code",
   "execution_count": 35,
   "id": "49e4db32-b152-499d-953d-fdd012aebb9e",
   "metadata": {},
   "outputs": [
    {
     "data": {
      "text/plain": [
       "[9]"
      ]
     },
     "execution_count": 35,
     "metadata": {},
     "output_type": "execute_result"
    }
   ],
   "source": [
    "#15. Can you slice a list with a negative step? If so, how?\n",
    "## yes we can,\n",
    "# by giving negative numbering from the back of the list\n",
    "my_list = [1, 2, 3,7,8,9]\n",
    "my_list[-1:-2:-1]"
   ]
  },
  {
   "cell_type": "code",
   "execution_count": 20,
   "id": "a55ad8eb-a0ec-4f43-a22c-5eca7b826ff4",
   "metadata": {},
   "outputs": [
    {
     "data": {
      "text/plain": [
       "[8, 7]"
      ]
     },
     "execution_count": 20,
     "metadata": {},
     "output_type": "execute_result"
    }
   ],
   "source": [
    "#16. What is the output of my_list[3:1:-1] if my_list = [5, 6, 7, 8, 9]?\n",
    "my_list = [5, 6, 7, 8, 9]\n",
    "my_list[3:1:-1]"
   ]
  },
  {
   "cell_type": "code",
   "execution_count": 21,
   "id": "1bff3988-09a2-4e19-a6ae-9dc61eb969dd",
   "metadata": {},
   "outputs": [
    {
     "data": {
      "text/plain": [
       "[6, 7, 8, 9]"
      ]
     },
     "execution_count": 21,
     "metadata": {},
     "output_type": "execute_result"
    }
   ],
   "source": [
    "#17. How do you handle list indexing errors, such as accessing an out-of-range index?\n",
    "#handle by usingn slicing for out of range\n",
    "my_list = [5, 6, 7, 8, 9]\n",
    "my_list[1:7]"
   ]
  },
  {
   "cell_type": "code",
   "execution_count": 22,
   "id": "8c3de8bf-6329-45bc-b015-690cc9b872ed",
   "metadata": {},
   "outputs": [
    {
     "ename": "IndexError",
     "evalue": "list index out of range",
     "output_type": "error",
     "traceback": [
      "\u001b[1;31m---------------------------------------------------------------------------\u001b[0m",
      "\u001b[1;31mIndexError\u001b[0m                                Traceback (most recent call last)",
      "Cell \u001b[1;32mIn[22], line 3\u001b[0m\n\u001b[0;32m      1\u001b[0m \u001b[38;5;66;03m#18. What happens if you use an index greater than the length of the list?\u001b[39;00m\n\u001b[0;32m      2\u001b[0m my_list \u001b[38;5;241m=\u001b[39m [\u001b[38;5;241m5\u001b[39m, \u001b[38;5;241m6\u001b[39m, \u001b[38;5;241m7\u001b[39m, \u001b[38;5;241m8\u001b[39m, \u001b[38;5;241m9\u001b[39m]\n\u001b[1;32m----> 3\u001b[0m my_list[\u001b[38;5;241m7\u001b[39m]\n",
      "\u001b[1;31mIndexError\u001b[0m: list index out of range"
     ]
    }
   ],
   "source": [
    "#18. What happens if you use an index greater than the length of the list?\n",
    "my_list = [5, 6, 7, 8, 9]\n",
    "my_list[7]"
   ]
  },
  {
   "cell_type": "code",
   "execution_count": 23,
   "id": "2855daa0-6add-4489-a1b1-79bde8a0b376",
   "metadata": {},
   "outputs": [
    {
     "data": {
      "text/plain": [
       "[9, 8, 7]"
      ]
     },
     "execution_count": 23,
     "metadata": {},
     "output_type": "execute_result"
    }
   ],
   "source": [
    "#19. How do negative indices work in Python lists?\n",
    "my_list = [5, 6, 7, 8, 9]\n",
    "my_list[-1:-4:-1]"
   ]
  },
  {
   "cell_type": "code",
   "execution_count": 24,
   "id": "0a855b1f-2014-4389-b1a2-d3940f21a814",
   "metadata": {},
   "outputs": [
    {
     "data": {
      "text/plain": [
       "[6, 7, 8]"
      ]
     },
     "execution_count": 24,
     "metadata": {},
     "output_type": "execute_result"
    }
   ],
   "source": [
    "#20. What does my_list[-3:] return if my_list = [4, 5, 6, 7, 8]?\n",
    "my_list = [4, 5, 6, 7, 8]\n",
    "my_list[-3:]"
   ]
  },
  {
   "cell_type": "code",
   "execution_count": 25,
   "id": "8490ae20-fc90-4339-b29e-6f83748766e6",
   "metadata": {},
   "outputs": [
    {
     "data": {
      "text/plain": [
       "[5, 6, 7, 8, 9, 3, 5, 7]"
      ]
     },
     "execution_count": 25,
     "metadata": {},
     "output_type": "execute_result"
    }
   ],
   "source": [
    "#21. How can you use slicing to create a copy of a list?\n",
    "my_list = [5, 6, 7, 8, 9,3,5,7]\n",
    "my_list[0:8]"
   ]
  },
  {
   "cell_type": "code",
   "execution_count": 26,
   "id": "6b1d32f9-7523-4518-8705-ae3a5bd95bc7",
   "metadata": {},
   "outputs": [
    {
     "data": {
      "text/plain": [
       "[1, 4]"
      ]
     },
     "execution_count": 26,
     "metadata": {},
     "output_type": "execute_result"
    }
   ],
   "source": [
    "#22. What is the result of my_list[::3] for my_list = [1, 2, 3, 4, 5, 6]?\n",
    "my_list = [1, 2, 3, 4, 5, 6]\n",
    "my_list[::3]\n"
   ]
  },
  {
   "cell_type": "code",
   "execution_count": 27,
   "id": "eff120b4-d68e-4dd0-807f-884cec2c46a6",
   "metadata": {},
   "outputs": [
    {
     "data": {
      "text/plain": [
       "[2, 3, 4, 5]"
      ]
     },
     "execution_count": 27,
     "metadata": {},
     "output_type": "execute_result"
    }
   ],
   "source": [
    "#23. How can you use slicing to remove the first and last elements of a list?\n",
    "my_list = [1, 2, 3, 4, 5, 6]\n",
    "my_list[1:-1:1]"
   ]
  },
  {
   "cell_type": "code",
   "execution_count": 28,
   "id": "504557a1-c77c-4e4e-b439-1cd75bbb08df",
   "metadata": {},
   "outputs": [
    {
     "data": {
      "text/plain": [
       "[20, 30, 40]"
      ]
     },
     "execution_count": 28,
     "metadata": {},
     "output_type": "execute_result"
    }
   ],
   "source": [
    "#24. What is the result of my_list[1:-1] if my_list = [10, 20, 30, 40, 50]?\n",
    "my_list = [10, 20, 30, 40, 50]\n",
    "my_list[1:-1]"
   ]
  },
  {
   "cell_type": "code",
   "execution_count": 29,
   "id": "0cee43f6-5b5f-4b1b-9971-85e7373aa8e4",
   "metadata": {},
   "outputs": [
    {
     "data": {
      "text/plain": [
       "[]"
      ]
     },
     "execution_count": 29,
     "metadata": {},
     "output_type": "execute_result"
    }
   ],
   "source": [
    "#25. How can you check if a list is empty using slicing?\n",
    "my_list = [10, 20, 30, 40, 50]\n",
    "my_list[4:-1:-1]"
   ]
  },
  {
   "cell_type": "code",
   "execution_count": 30,
   "id": "c6328c02-a072-4dbc-8178-c789c681468e",
   "metadata": {},
   "outputs": [
    {
     "data": {
      "text/plain": [
       "[2, 3, 4]"
      ]
     },
     "execution_count": 30,
     "metadata": {},
     "output_type": "execute_result"
    }
   ],
   "source": [
    "#26. What does my_list[2:-2] return for my_list = [0, 1, 2, 3, 4, 5, 6]?\n",
    "my_list = [0, 1, 2, 3, 4, 5, 6]\n",
    "my_list[2:-2]"
   ]
  },
  {
   "cell_type": "code",
   "execution_count": 31,
   "id": "51fcf30f-171f-49b9-ab80-c65e3dc8aad1",
   "metadata": {},
   "outputs": [
    {
     "data": {
      "text/plain": [
       "[[4, 5, 6], [8, 9, 10]]"
      ]
     },
     "execution_count": 31,
     "metadata": {},
     "output_type": "execute_result"
    }
   ],
   "source": [
    "#27. How do list slicing and indexing differ when used with multidimensional lists?\n",
    "list=[[1,2,7],[4,5,6],[8,9,10]]\n",
    "list[1][2]\n",
    "\n",
    "list[1:3]"
   ]
  },
  {
   "cell_type": "code",
   "execution_count": 32,
   "id": "9012f022-d346-49d1-9151-05f31910e0f9",
   "metadata": {},
   "outputs": [
    {
     "data": {
      "text/plain": [
       "[0, 1, 2, 3, 4, 5, 6]"
      ]
     },
     "execution_count": 32,
     "metadata": {},
     "output_type": "execute_result"
    }
   ],
   "source": [
    "#28. What is the result of my_list[::]?\n",
    "my_list[::]"
   ]
  },
  {
   "cell_type": "code",
   "execution_count": 34,
   "id": "ebe6c416-76bc-4487-88f9-133e0b43a0a7",
   "metadata": {},
   "outputs": [
    {
     "data": {
      "text/plain": [
       "[3, 45, 6]"
      ]
     },
     "execution_count": 34,
     "metadata": {},
     "output_type": "execute_result"
    }
   ],
   "source": [
    "#29. How do you use slicing to obtain a specific part of a list from a specific start and end index?\n",
    "list=[0,1,2,3,45,6]\n",
    "list[3:6]"
   ]
  },
  {
   "cell_type": "code",
   "execution_count": null,
   "id": "b0ec333a-43bd-42e4-bc3e-e7588072365e",
   "metadata": {},
   "outputs": [],
   "source": [
    "#30. How can you combine slices to extract different non-contiguous parts of a list?\n",
    "#combination of indexing and slicing"
   ]
  }
 ],
 "metadata": {
  "kernelspec": {
   "display_name": "Python 3 (ipykernel)",
   "language": "python",
   "name": "python3"
  },
  "language_info": {
   "codemirror_mode": {
    "name": "ipython",
    "version": 3
   },
   "file_extension": ".py",
   "mimetype": "text/x-python",
   "name": "python",
   "nbconvert_exporter": "python",
   "pygments_lexer": "ipython3",
   "version": "3.11.7"
  }
 },
 "nbformat": 4,
 "nbformat_minor": 5
}
