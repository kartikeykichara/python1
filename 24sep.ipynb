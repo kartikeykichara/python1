{
 "cells": [
  {
   "cell_type": "code",
   "execution_count": null,
   "id": "7dc7101f-7998-45e6-b2d6-0cc4d6ab33be",
   "metadata": {},
   "outputs": [],
   "source": [
    "#set and frozenset"
   ]
  },
  {
   "cell_type": "code",
   "execution_count": 4,
   "id": "78811263-c77b-421c-bd6c-b1d93576599b",
   "metadata": {},
   "outputs": [
    {
     "data": {
      "text/plain": [
       "{1, 2, 3, 5, 6}"
      ]
     },
     "execution_count": 4,
     "metadata": {},
     "output_type": "execute_result"
    }
   ],
   "source": [
    "my_set={1,2,3,4}\n",
    "my_set2=set([1,2,3,5,6,6,6,6,3])\n",
    "my_set\n",
    "my_set2\n"
   ]
  },
  {
   "cell_type": "code",
   "execution_count": 3,
   "id": "cd4120f3-aef7-46be-8a35-0c9144e7c93c",
   "metadata": {},
   "outputs": [],
   "source": [
    "# set can be formed using {} or set constructer\n",
    "# set is unordered (we cannot access its element using the index)\n",
    "# set does  not allow duplicate values\n",
    "#set is mutable (we can add , modify and remove elements"
   ]
  },
  {
   "cell_type": "code",
   "execution_count": 8,
   "id": "73d35205-a8b4-4375-99c4-a245d513787e",
   "metadata": {},
   "outputs": [
    {
     "data": {
      "text/plain": [
       "{0, 1, 2, 3, 5, 6, 7, 8, 9, 90}"
      ]
     },
     "execution_count": 8,
     "metadata": {},
     "output_type": "execute_result"
    }
   ],
   "source": [
    "#set methods\n",
    "my_set2.add(6)\n",
    "my_set2\n",
    "\n",
    "my_set3={6,90,6,6,0,8,9,7}\n",
    "my_set2.update(my_set3)\n",
    "my_set2"
   ]
  },
  {
   "cell_type": "code",
   "execution_count": 14,
   "id": "9f33f56b-4b1a-494a-aa60-1438fd5de4ff",
   "metadata": {},
   "outputs": [
    {
     "data": {
      "text/plain": [
       "[3, 4, 6, 78, 3]"
      ]
     },
     "execution_count": 14,
     "metadata": {},
     "output_type": "execute_result"
    }
   ],
   "source": [
    "\n",
    "my_set4=set=([3,4,6,78,3])\n",
    "my_set4"
   ]
  },
  {
   "cell_type": "code",
   "execution_count": 19,
   "id": "f5bd9c5b-951a-4ff9-af44-ee3e44323eff",
   "metadata": {},
   "outputs": [
    {
     "data": {
      "text/plain": [
       "{0, 8, 9, 90}"
      ]
     },
     "execution_count": 19,
     "metadata": {},
     "output_type": "execute_result"
    }
   ],
   "source": [
    "#Delete \n",
    "\n",
    "# remove--------will remove the element passed as argument\n",
    "#              will throw error if the element is not found\n",
    "\n",
    "#discard ---------will remove the element passed as argument \n",
    "                  # will not throw error if the element is not found\n",
    "\n",
    "#pop -------will remove a random / arbitrary element\n",
    "\n",
    "# my_set3.remove(6)\n",
    "my_set3\n",
    "my_set3.remove(7)\n",
    "my_set3"
   ]
  },
  {
   "cell_type": "code",
   "execution_count": 20,
   "id": "afa4ee24-6a62-4e6b-b90f-992ca62c0937",
   "metadata": {},
   "outputs": [],
   "source": [
    "my_set3.discard(15)"
   ]
  },
  {
   "cell_type": "code",
   "execution_count": 21,
   "id": "dc8cb37f-2bad-4985-81c3-b4b97017b398",
   "metadata": {},
   "outputs": [
    {
     "data": {
      "text/plain": [
       "0"
      ]
     },
     "execution_count": 21,
     "metadata": {},
     "output_type": "execute_result"
    }
   ],
   "source": [
    "my_set3.pop()"
   ]
  },
  {
   "cell_type": "code",
   "execution_count": 22,
   "id": "de63a90a-2cd9-410a-a383-3232375475fb",
   "metadata": {},
   "outputs": [
    {
     "data": {
      "text/plain": [
       "{8, 9, 90}"
      ]
     },
     "execution_count": 22,
     "metadata": {},
     "output_type": "execute_result"
    }
   ],
   "source": [
    "my_set3"
   ]
  },
  {
   "cell_type": "code",
   "execution_count": 30,
   "id": "685c7073-aeb7-4421-ada4-df7bbc8ca30b",
   "metadata": {},
   "outputs": [],
   "source": [
    "myset={1,2,3,5,7,9,5,4,3}\n",
    "myset\n",
    "# myset1=set([3,4,6,8,5,2,8])\n",
    "# myset1\n",
    "myset.add(10)\n",
    "myset\n",
    "myset1={2,4,6,8,0,4,2,8}\n",
    "myset.update(myset1)\n",
    "myset\n",
    "myset.remove(10)\n",
    "myset\n",
    "myset.pop()\n",
    "myset\n",
    "myset.discard(11)"
   ]
  },
  {
   "cell_type": "code",
   "execution_count": 32,
   "id": "11ead84f-ecbd-42f2-a828-2551c0ff681a",
   "metadata": {},
   "outputs": [
    {
     "name": "stdout",
     "output_type": "stream",
     "text": [
      "{'apple', 'banana', 'orange'}\n",
      "{'apple', 'grapes', 'mango'}\n"
     ]
    }
   ],
   "source": [
    "fset={'apple','banana','orange'}\n",
    "fset1={'mango','grapes','apple'}\n",
    "fset={'or','apple','guvava'}\n",
    "print(fset)\n",
    "print(fset1)"
   ]
  },
  {
   "cell_type": "code",
   "execution_count": 33,
   "id": "eb960839-58a0-431f-97e8-f062c47892fa",
   "metadata": {},
   "outputs": [
    {
     "data": {
      "text/plain": [
       "{'apple', 'banana', 'or', 'orange'}"
      ]
     },
     "execution_count": 33,
     "metadata": {},
     "output_type": "execute_result"
    }
   ],
   "source": [
    "fset.add('or')\n",
    "fset"
   ]
  },
  {
   "cell_type": "code",
   "execution_count": 34,
   "id": "21c40ee3-da04-43f4-bd8c-cda43b383164",
   "metadata": {},
   "outputs": [
    {
     "data": {
      "text/plain": [
       "{'apple', 'banana', 'grapes', 'mango', 'or', 'orange'}"
      ]
     },
     "execution_count": 34,
     "metadata": {},
     "output_type": "execute_result"
    }
   ],
   "source": [
    "fset.update(fset1)\n",
    "fset"
   ]
  },
  {
   "cell_type": "code",
   "execution_count": 35,
   "id": "dd522660-9c73-4e29-bad6-41b45b0c9104",
   "metadata": {},
   "outputs": [],
   "source": [
    "fset.remove('grapes')"
   ]
  },
  {
   "cell_type": "code",
   "execution_count": 36,
   "id": "164a3301-a892-4200-9719-9f007edf7073",
   "metadata": {},
   "outputs": [
    {
     "data": {
      "text/plain": [
       "{'apple', 'banana', 'mango', 'or', 'orange'}"
      ]
     },
     "execution_count": 36,
     "metadata": {},
     "output_type": "execute_result"
    }
   ],
   "source": [
    "fset"
   ]
  },
  {
   "cell_type": "code",
   "execution_count": 37,
   "id": "bf4a5980-d6c5-4e02-8f0d-9b6df3d944f1",
   "metadata": {},
   "outputs": [
    {
     "data": {
      "text/plain": [
       "'apple'"
      ]
     },
     "execution_count": 37,
     "metadata": {},
     "output_type": "execute_result"
    }
   ],
   "source": [
    "fset.pop()"
   ]
  },
  {
   "cell_type": "code",
   "execution_count": 38,
   "id": "33b153d3-31bf-45ca-9040-78db2a78dde5",
   "metadata": {},
   "outputs": [],
   "source": [
    "fset.discard('silver')"
   ]
  },
  {
   "cell_type": "code",
   "execution_count": 39,
   "id": "84fb4f56-6a83-4a66-84f9-c3d1fc6efda0",
   "metadata": {},
   "outputs": [],
   "source": [
    "fset.discard('banana')"
   ]
  },
  {
   "cell_type": "code",
   "execution_count": 41,
   "id": "5e0172c5-e025-41f4-99ab-781f35109668",
   "metadata": {},
   "outputs": [
    {
     "data": {
      "text/plain": [
       "{'mango', 'or', 'orange'}"
      ]
     },
     "execution_count": 41,
     "metadata": {},
     "output_type": "execute_result"
    }
   ],
   "source": [
    "fset"
   ]
  },
  {
   "cell_type": "code",
   "execution_count": 53,
   "id": "1eb339d4-6916-43b8-8191-70bb61e42558",
   "metadata": {},
   "outputs": [
    {
     "data": {
      "text/plain": [
       "{1, 2, 4, 5}"
      ]
     },
     "execution_count": 53,
     "metadata": {},
     "output_type": "execute_result"
    }
   ],
   "source": [
    "#Set operations\n",
    "\n",
    "set={1,2,3}\n",
    "set1={3,4,5}\n",
    "set2={5,6,7}\n",
    " #union\n",
    "set | set1\n",
    "\n",
    "#intersection\n",
    "set & set1\n",
    "\n",
    "#difference\n",
    "set - set1\n",
    "\n",
    "#symmetric difference\n",
    "set ^ set1\n",
    "\n",
    "set.union(set1)\n",
    "set.intersection(set1)\n",
    "set.difference(set1)\n",
    "set.symmetric_difference(set1)"
   ]
  },
  {
   "cell_type": "code",
   "execution_count": 62,
   "id": "57788283-25e2-4982-becf-70ea4d8a9892",
   "metadata": {},
   "outputs": [
    {
     "data": {
      "text/plain": [
       "{1, 2, 7}"
      ]
     },
     "execution_count": 62,
     "metadata": {},
     "output_type": "execute_result"
    }
   ],
   "source": [
    "set={1,2,3}\n",
    "set1={3,2,5}\n",
    "set2={5,2,7}\n",
    "\n",
    "set | set1 | set2\n"
   ]
  },
  {
   "cell_type": "code",
   "execution_count": 63,
   "id": "9064e2fd-538c-4712-81a8-64c012e926af",
   "metadata": {},
   "outputs": [
    {
     "data": {
      "text/plain": [
       "{2}"
      ]
     },
     "execution_count": 63,
     "metadata": {},
     "output_type": "execute_result"
    }
   ],
   "source": [
    "set & set1 & set2"
   ]
  },
  {
   "cell_type": "code",
   "execution_count": 64,
   "id": "8b250355-17f2-41bf-b964-eef9d3f7433e",
   "metadata": {},
   "outputs": [
    {
     "data": {
      "text/plain": [
       "{1}"
      ]
     },
     "execution_count": 64,
     "metadata": {},
     "output_type": "execute_result"
    }
   ],
   "source": [
    "set - set1 - set2"
   ]
  },
  {
   "cell_type": "code",
   "execution_count": 65,
   "id": "73bd23b9-c270-4ff2-96e5-5f81f9984378",
   "metadata": {},
   "outputs": [
    {
     "data": {
      "text/plain": [
       "{1, 2, 7}"
      ]
     },
     "execution_count": 65,
     "metadata": {},
     "output_type": "execute_result"
    }
   ],
   "source": [
    "set ^ set1 ^ set2"
   ]
  },
  {
   "cell_type": "code",
   "execution_count": 66,
   "id": "abb4fc51-0660-4439-9885-5a8645154211",
   "metadata": {},
   "outputs": [
    {
     "data": {
      "text/plain": [
       "{'apple', 'banana', 'grapes', 'guvava', 'mango', 'or', 'orange'}"
      ]
     },
     "execution_count": 66,
     "metadata": {},
     "output_type": "execute_result"
    }
   ],
   "source": [
    "fset={'apple','banana','orange'}\n",
    "fset1={'mango','grapes','apple'}\n",
    "fset2={'or','apple','guvava'}\n",
    "\n",
    "fset | fset1 | fset2"
   ]
  },
  {
   "cell_type": "code",
   "execution_count": 67,
   "id": "af8a774a-5ec7-47c7-8fa1-b53bd3bee98c",
   "metadata": {},
   "outputs": [
    {
     "data": {
      "text/plain": [
       "{'apple'}"
      ]
     },
     "execution_count": 67,
     "metadata": {},
     "output_type": "execute_result"
    }
   ],
   "source": [
    "fset & fset1 & fset2"
   ]
  },
  {
   "cell_type": "code",
   "execution_count": 68,
   "id": "5317e8a3-e6bb-4a88-87ac-ebe9a47ff45a",
   "metadata": {},
   "outputs": [
    {
     "data": {
      "text/plain": [
       "{'banana', 'orange'}"
      ]
     },
     "execution_count": 68,
     "metadata": {},
     "output_type": "execute_result"
    }
   ],
   "source": [
    "fset - fset1 - fset2"
   ]
  },
  {
   "cell_type": "code",
   "execution_count": 69,
   "id": "64e471af-f706-43ab-867d-473d8a0ccb40",
   "metadata": {},
   "outputs": [
    {
     "data": {
      "text/plain": [
       "{'apple', 'banana', 'grapes', 'guvava', 'mango', 'or', 'orange'}"
      ]
     },
     "execution_count": 69,
     "metadata": {},
     "output_type": "execute_result"
    }
   ],
   "source": [
    "fset ^ fset1 ^ fset2"
   ]
  },
  {
   "cell_type": "code",
   "execution_count": 77,
   "id": "5a4953b7-6eba-41e7-8aad-63190593dee9",
   "metadata": {},
   "outputs": [],
   "source": [
    "dict={frozenset([12,4,6,7,8]):'kk'}\n"
   ]
  },
  {
   "cell_type": "code",
   "execution_count": 76,
   "id": "1f9503bb-c7a8-4acf-bbb8-3c820b70b18a",
   "metadata": {},
   "outputs": [],
   "source": [
    "# dict1={set([2,4,7,8,9]):'kk'}"
   ]
  },
  {
   "cell_type": "code",
   "execution_count": null,
   "id": "1debdfa6-e1cb-4587-8e1a-b0dfe0d99975",
   "metadata": {},
   "outputs": [],
   "source": []
  }
 ],
 "metadata": {
  "kernelspec": {
   "display_name": "Python 3 (ipykernel)",
   "language": "python",
   "name": "python3"
  },
  "language_info": {
   "codemirror_mode": {
    "name": "ipython",
    "version": 3
   },
   "file_extension": ".py",
   "mimetype": "text/x-python",
   "name": "python",
   "nbconvert_exporter": "python",
   "pygments_lexer": "ipython3",
   "version": "3.11.7"
  }
 },
 "nbformat": 4,
 "nbformat_minor": 5
}
